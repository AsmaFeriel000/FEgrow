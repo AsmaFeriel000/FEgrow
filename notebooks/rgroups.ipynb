{
 "cells": [
  {
   "cell_type": "markdown",
   "id": "narrative-inclusion",
   "metadata": {},
   "source": [
    "# De novo design\n",
    "\n",
    "### Developers: Mat Bieniek, Ben Cree, Rachael Pirie, Josh Horton\n",
    "\n",
    "* Add R-groups in user-defined positions\n",
    "* Output ADMET properties\n",
    "* Perform constrained optimisation\n",
    "* Score poses\n",
    "* Send output to free energy calculations\n",
    "\n",
    "Open source, customisable, fast/easy to use."
   ]
  },
  {
   "cell_type": "code",
   "execution_count": null,
   "id": "olympic-longitude",
   "metadata": {},
   "outputs": [],
   "source": [
    "import copy\n",
    "\n",
    "import prody\n",
    "from rdkit import Chem\n",
    "from rdkit.Chem import Draw\n",
    "\n",
    "from rgroup import RMol, RList, build_molecules, fix_receptor, optimise_in_receptor, RGroups, sort_conformers"
   ]
  },
  {
   "cell_type": "code",
   "execution_count": null,
   "id": "sixth-algeria",
   "metadata": {},
   "outputs": [],
   "source": [
    "# load the complex with the ligand\n",
    "sys = prody.parsePDB('sarscov2/7l10.pdb')\n",
    "#sys = prody.parsePDB('jnk1/2gmx.pdb')\n",
    "\n",
    "rec = sys.select('not (nucleic or hetatm) and not water')\n",
    "mol = sys.select('resname XEY')\n",
    "#mol = sys.select('resname 877')\n",
    "\n",
    "prody.writePDB('rec.pdb', rec)\n",
    "#prody.writePDB('lig.pdb', mol)"
   ]
  },
  {
   "cell_type": "code",
   "execution_count": null,
   "id": "detailed-relationship",
   "metadata": {},
   "outputs": [],
   "source": [
    "#!wget 'https://models.rcsb.org/v1/5nev/ligand?auth_seq_id=301&label_asym_id=E&encoding=sdf&filename=5nev_E_72L.sdf' -O lig.sdf\n",
    "#!obabel jnk1/core.sdf -O jnk1/coreh.sdf -p 7\n",
    "!obabel sarscov2/lig.pdb -O sarscov2/coreh.sdf -p 7\n",
    "# ^manually modify the files if need be"
   ]
  },
  {
   "cell_type": "code",
   "execution_count": null,
   "id": "intimate-market",
   "metadata": {},
   "outputs": [],
   "source": [
    "# load the ligand\n",
    "# rdkit doesn't do a good job with protonation, \n",
    "#init_mol = Chem.MolFromPDBFile('lig.pdb', removeHs=False)\n",
    "#init_mol = Chem.AddHs(init_mol, addCoords=True)\n",
    "\n",
    "init_mol = Chem.SDMolSupplier('sarscov2/coreh.sdf', removeHs=False)[0]\n",
    "\n",
    "# get the R group representation of the rdkit Mol\n",
    "rinit_mol = RMol(init_mol)"
   ]
  },
  {
   "cell_type": "code",
   "execution_count": null,
   "id": "objective-switch",
   "metadata": {},
   "outputs": [],
   "source": [
    "# select the atom to be replaced with the R group\n",
    "rinit_mol.rep2D(idx=True, size=(500, 500))"
   ]
  },
  {
   "cell_type": "code",
   "execution_count": null,
   "id": "stunning-admission",
   "metadata": {},
   "outputs": [],
   "source": [
    "groups = RGroups.dataframe\n",
    "R_group_propan = Chem.MolFromMolFile(groups.loc[groups['Name'] == 'Propan-1-ol']['Mol File'].values[0], removeHs=False)\n",
    "R_group_methanol = Chem.MolFromMolFile(groups.loc[groups['Name'] == 'Methanol' ]['Mol File'].values[0], removeHs=False)\n",
    "#R_group = Chem.MolFromMolFile('data/rgroups/molecules/aromatics/benzyl_alcohol.mol', removeHs=False)\n",
    "#R_group = Chem.MolFromMolFile('jnk1/jnk1-1.mol', removeHs=False)"
   ]
  },
  {
   "cell_type": "code",
   "execution_count": null,
   "id": "graduate-congo",
   "metadata": {},
   "outputs": [],
   "source": [
    "# build a list of molecules\n",
    "attachment_index = [40]\n",
    "rmols = build_molecules(rinit_mol, attachment_index, [R_group_propan, R_group_methanol])"
   ]
  },
  {
   "cell_type": "code",
   "execution_count": null,
   "id": "convinced-mongolia",
   "metadata": {},
   "outputs": [],
   "source": [
    "rmols.rep2D()"
   ]
  },
  {
   "cell_type": "code",
   "execution_count": null,
   "id": "internal-milan",
   "metadata": {},
   "outputs": [],
   "source": [
    "rmols[0].rep3D()"
   ]
  },
  {
   "cell_type": "code",
   "execution_count": null,
   "id": "empirical-italy",
   "metadata": {},
   "outputs": [],
   "source": [
    "rmols.toxicity()"
   ]
  },
  {
   "cell_type": "code",
   "execution_count": null,
   "id": "exempt-manual",
   "metadata": {},
   "outputs": [],
   "source": [
    "rmols.generate_conformers(num_conf=30, \n",
    "                         minimum_conf_rms=0.5, \n",
    "                        )\n",
    "                        # flexible=[39, 18, 40, 16, 17, 19, 5, 6, 36, 2, 1, 33, 3, 4, 35, 34, 15, 38])"
   ]
  },
  {
   "cell_type": "code",
   "execution_count": null,
   "id": "opposite-walker",
   "metadata": {
    "scrolled": true
   },
   "outputs": [],
   "source": [
    "#rmol.rep3D(template=True)"
   ]
  },
  {
   "cell_type": "code",
   "execution_count": null,
   "id": "pretty-passage",
   "metadata": {},
   "outputs": [],
   "source": [
    "rmols.GetNumConformers()"
   ]
  },
  {
   "cell_type": "markdown",
   "id": "signal-crack",
   "metadata": {},
   "source": [
    "### Optimise conformers in context of protein"
   ]
  },
  {
   "cell_type": "code",
   "execution_count": null,
   "id": "imported-response",
   "metadata": {},
   "outputs": [],
   "source": [
    "# fix the receptor file \n",
    "fix_receptor(\"rec.pdb\", \"rec_h.pdb\")\n",
    "# load back into prody\n",
    "rec_fix = prody.parsePDB(\"rec_h.pdb\")"
   ]
  },
  {
   "cell_type": "code",
   "execution_count": null,
   "id": "objective-destruction",
   "metadata": {},
   "outputs": [],
   "source": [
    "# filter by the protein clashes\n",
    "rmols[0].rep3D(prody=rec_fix)"
   ]
  },
  {
   "cell_type": "code",
   "execution_count": null,
   "id": "patient-democrat",
   "metadata": {},
   "outputs": [],
   "source": [
    "rmols.removeConfsClashingWithProdyProt(rec_fix)"
   ]
  },
  {
   "cell_type": "code",
   "execution_count": null,
   "id": "supposed-louisiana",
   "metadata": {},
   "outputs": [],
   "source": [
    "rmols[0].rep3D(prody=rec_fix)"
   ]
  },
  {
   "cell_type": "code",
   "execution_count": null,
   "id": "75b95ac4",
   "metadata": {},
   "outputs": [],
   "source": [
    "r = rmols[0]\n",
    "r.RemoveAllConformers()"
   ]
  },
  {
   "cell_type": "code",
   "execution_count": null,
   "id": "posted-praise",
   "metadata": {},
   "outputs": [],
   "source": [
    "# opt_mol, energies\n",
    "energies = rmols.optimise_in_receptor(\n",
    "    receptor_file=\"rec_h.pdb\", \n",
    "    ligand_force_field=\"openff\", \n",
    "    use_ani=False,\n",
    "    sigma_scale_factor=0.8,\n",
    "    relative_permittivity=4\n",
    ")"
   ]
  },
  {
   "cell_type": "code",
   "execution_count": null,
   "id": "clean-howard",
   "metadata": {},
   "outputs": [],
   "source": [
    "rmols[0].rep3D()"
   ]
  },
  {
   "cell_type": "code",
   "execution_count": null,
   "id": "mechanical-italian",
   "metadata": {},
   "outputs": [],
   "source": [
    "rmols[0].to_file(\"optimised_coords.pdb\")"
   ]
  },
  {
   "cell_type": "code",
   "execution_count": null,
   "id": "technological-wisconsin",
   "metadata": {},
   "outputs": [],
   "source": [
    "print(energies)"
   ]
  },
  {
   "cell_type": "code",
   "execution_count": null,
   "id": "precise-breach",
   "metadata": {},
   "outputs": [],
   "source": [
    "final_energies = rmols.sort_conformers(energy_range=5)"
   ]
  },
  {
   "cell_type": "code",
   "execution_count": null,
   "id": "promising-malpractice",
   "metadata": {},
   "outputs": [],
   "source": [
    "rmols[0].to_file(\"best_conformers0.pdb\")\n",
    "rmols[1].to_file(\"best_conformers1.pdb\")"
   ]
  },
  {
   "cell_type": "code",
   "execution_count": null,
   "id": "committed-blank",
   "metadata": {},
   "outputs": [],
   "source": [
    "print(final_energies)"
   ]
  },
  {
   "cell_type": "code",
   "execution_count": null,
   "id": "distant-trick",
   "metadata": {},
   "outputs": [],
   "source": [
    "CNNscores = rmols.gnina(receptor_file=\"rec_h.pdb\") \n",
    "CNNscores"
   ]
  },
  {
   "cell_type": "code",
   "execution_count": null,
   "id": "broadband-modem",
   "metadata": {},
   "outputs": [],
   "source": []
  }
 ],
 "metadata": {
  "kernelspec": {
   "display_name": "Python 3",
   "language": "python",
   "name": "python3"
  },
  "language_info": {
   "codemirror_mode": {
    "name": "ipython",
    "version": 3
   },
   "file_extension": ".py",
   "mimetype": "text/x-python",
   "name": "python",
   "nbconvert_exporter": "python",
   "pygments_lexer": "ipython3",
   "version": "3.9.7"
  }
 },
 "nbformat": 4,
 "nbformat_minor": 5
}
