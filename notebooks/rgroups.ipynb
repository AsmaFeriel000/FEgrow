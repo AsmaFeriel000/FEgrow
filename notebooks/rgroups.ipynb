{
 "cells": [
  {
   "cell_type": "markdown",
   "id": "9c4c7edd",
   "metadata": {},
   "source": [
    "# De novo design\n",
    "\n",
    "### Developers: Mat Bieniek, Ben Cree, Rachael Pirie, Josh Horton\n",
    "\n",
    "* Add R-groups in user-defined positions\n",
    "* Output ADMET properties\n",
    "* Perform constrained optimisation\n",
    "* Score poses\n",
    "* Send output to free energy calculations\n",
    "\n",
    "Open source, customisable, fast/easy to use."
   ]
  },
  {
   "cell_type": "code",
   "execution_count": 1,
   "id": "10a1f1b0",
   "metadata": {},
   "outputs": [
    {
     "ename": "ModuleNotFoundError",
     "evalue": "No module named 'prody'",
     "output_type": "error",
     "traceback": [
      "\u001b[0;31m---------------------------------------------------------------------------\u001b[0m",
      "\u001b[0;31mModuleNotFoundError\u001b[0m                       Traceback (most recent call last)",
      "\u001b[0;32m<ipython-input-1-c3bcb9fca197>\u001b[0m in \u001b[0;36m<module>\u001b[0;34m\u001b[0m\n\u001b[1;32m      1\u001b[0m \u001b[0;32mimport\u001b[0m \u001b[0mcopy\u001b[0m\u001b[0;34m\u001b[0m\u001b[0;34m\u001b[0m\u001b[0m\n\u001b[1;32m      2\u001b[0m \u001b[0;34m\u001b[0m\u001b[0m\n\u001b[0;32m----> 3\u001b[0;31m \u001b[0;32mimport\u001b[0m \u001b[0mprody\u001b[0m\u001b[0;34m\u001b[0m\u001b[0;34m\u001b[0m\u001b[0m\n\u001b[0m\u001b[1;32m      4\u001b[0m \u001b[0;32mfrom\u001b[0m \u001b[0mrdkit\u001b[0m \u001b[0;32mimport\u001b[0m \u001b[0mChem\u001b[0m\u001b[0;34m\u001b[0m\u001b[0;34m\u001b[0m\u001b[0m\n\u001b[1;32m      5\u001b[0m \u001b[0;32mfrom\u001b[0m \u001b[0mrdkit\u001b[0m\u001b[0;34m.\u001b[0m\u001b[0mChem\u001b[0m \u001b[0;32mimport\u001b[0m \u001b[0mDraw\u001b[0m\u001b[0;34m\u001b[0m\u001b[0;34m\u001b[0m\u001b[0m\n",
      "\u001b[0;31mModuleNotFoundError\u001b[0m: No module named 'prody'"
     ]
    }
   ],
   "source": [
    "import copy\n",
    "\n",
    "import prody\n",
    "from rdkit import Chem\n",
    "from rdkit.Chem import Draw\n",
    "\n",
    "from rgroup import RMol, RList, build_molecules, fix_receptor, optimise_in_receptor, RGroups, sort_conformers"
   ]
  },
  {
   "cell_type": "code",
   "execution_count": null,
   "id": "5ee3b06e",
   "metadata": {},
   "outputs": [],
   "source": [
    "# load the complex with the ligand\n",
    "sys = prody.parsePDB('sarscov2/7l10.pdb')\n",
    "#sys = prody.parsePDB('jnk1/2gmx.pdb')\n",
    "\n",
    "rec = sys.select('not (nucleic or hetatm) and not water')\n",
    "mol = sys.select('resname XEY')\n",
    "#mol = sys.select('resname 877')\n",
    "\n",
    "prody.writePDB('rec.pdb', rec)\n",
    "#prody.writePDB('lig.pdb', mol)"
   ]
  },
  {
   "cell_type": "code",
   "execution_count": null,
   "id": "ffb3aaa1",
   "metadata": {},
   "outputs": [],
   "source": [
    "#!wget 'https://models.rcsb.org/v1/5nev/ligand?auth_seq_id=301&label_asym_id=E&encoding=sdf&filename=5nev_E_72L.sdf' -O lig.sdf\n",
    "#!obabel jnk1/core.sdf -O jnk1/coreh.sdf -p 7\n",
    "!obabel sarscov2/lig.pdb -O sarscov2/coreh.sdf -p 7\n",
    "# ^manually modify the files if need be"
   ]
  },
  {
   "cell_type": "code",
   "execution_count": null,
   "id": "b8c3547f",
   "metadata": {},
   "outputs": [],
   "source": [
    "# load the ligand\n",
    "# rdkit doesn't do a good job with protonation, \n",
    "#init_mol = Chem.MolFromPDBFile('lig.pdb', removeHs=False)\n",
    "#init_mol = Chem.AddHs(init_mol, addCoords=True)\n",
    "\n",
    "init_mol = Chem.SDMolSupplier('sarscov2/coreh.sdf', removeHs=False)[0]\n",
    "\n",
    "# get the R group representation of the rdkit Mol\n",
    "rinit_mol = RMol(init_mol)"
   ]
  },
  {
   "cell_type": "code",
   "execution_count": null,
   "id": "9a7309b1",
   "metadata": {},
   "outputs": [],
   "source": [
    "# select the atom to be replaced with the R group\n",
    "rinit_mol.rep2D(idx=True, size=(500, 500))"
   ]
  },
  {
   "cell_type": "code",
   "execution_count": null,
   "id": "e2ab2f78",
   "metadata": {},
   "outputs": [],
   "source": [
    "groups = RGroups.dataframe\n",
    "R_group_propan = Chem.MolFromMolFile(groups.loc[groups['Name'] == 'Propan-1-ol']['Mol File'].values[0], removeHs=False)\n",
    "R_group_methanol = Chem.MolFromMolFile(groups.loc[groups['Name'] == 'Methanol' ]['Mol File'].values[0], removeHs=False)\n",
    "#R_group = Chem.MolFromMolFile('data/rgroups/molecules/aromatics/benzyl_alcohol.mol', removeHs=False)\n",
    "#R_group = Chem.MolFromMolFile('jnk1/jnk1-1.mol', removeHs=False)"
   ]
  },
  {
   "cell_type": "code",
   "execution_count": null,
   "id": "56dc6755",
   "metadata": {},
   "outputs": [],
   "source": [
    "# build a list of molecules\n",
    "attachment_index = [40]\n",
    "rmols = build_molecules(rinit_mol, attachment_index, [R_group_propan, R_group_methanol])"
   ]
  },
  {
   "cell_type": "code",
   "execution_count": null,
   "id": "7cd70172",
   "metadata": {},
   "outputs": [],
   "source": [
    "rmols.rep2D()"
   ]
  },
  {
   "cell_type": "code",
   "execution_count": null,
   "id": "8fca6f5f",
   "metadata": {},
   "outputs": [],
   "source": [
    "rmols[0].rep3D()"
   ]
  },
  {
   "cell_type": "code",
   "execution_count": null,
   "id": "c7feb871",
   "metadata": {},
   "outputs": [],
   "source": [
    "rmols.toxicity()"
   ]
  },
  {
   "cell_type": "code",
   "execution_count": null,
   "id": "0c07ab01",
   "metadata": {},
   "outputs": [],
   "source": [
    "rmols.generate_conformers(num_conf=30, \n",
    "                         minimum_conf_rms=0.5, \n",
    "                        )\n",
    "                        # flexible=[39, 18, 40, 16, 17, 19, 5, 6, 36, 2, 1, 33, 3, 4, 35, 34, 15, 38])"
   ]
  },
  {
   "cell_type": "code",
   "execution_count": null,
   "id": "395b249d",
   "metadata": {
    "scrolled": true
   },
   "outputs": [],
   "source": [
    "#rmol.rep3D(template=True)"
   ]
  },
  {
   "cell_type": "code",
   "execution_count": null,
   "id": "5536f5cf",
   "metadata": {},
   "outputs": [],
   "source": [
    "rmols.GetNumConformers()"
   ]
  },
  {
   "cell_type": "markdown",
   "id": "e2015e8c",
   "metadata": {},
   "source": [
    "### Optimise conformers in context of protein"
   ]
  },
  {
   "cell_type": "code",
   "execution_count": null,
   "id": "83e308ff",
   "metadata": {},
   "outputs": [],
   "source": [
    "# fix the receptor file \n",
    "fix_receptor(\"rec.pdb\", \"rec_h.pdb\")\n",
    "# load back into prody\n",
    "rec_fix = prody.parsePDB(\"rec_h.pdb\")"
   ]
  },
  {
   "cell_type": "code",
   "execution_count": null,
   "id": "9374e421",
   "metadata": {},
   "outputs": [],
   "source": [
    "# filter by the protein clashes\n",
    "rmols[0].rep3D(prody=rec_fix)"
   ]
  },
  {
   "cell_type": "code",
   "execution_count": null,
   "id": "858739ac",
   "metadata": {},
   "outputs": [],
   "source": [
    "rmols.removeConfsClashingWithProdyProt(rec_fix)"
   ]
  },
  {
   "cell_type": "code",
   "execution_count": null,
   "id": "d30c0540",
   "metadata": {},
   "outputs": [],
   "source": [
    "rmols[0].rep3D(prody=rec_fix)"
   ]
  },
  {
   "cell_type": "code",
   "execution_count": null,
   "id": "10fe1945",
   "metadata": {},
   "outputs": [],
   "source": [
    "r = rmols[0]\n",
    "r.RemoveAllConformers()"
   ]
  },
  {
   "cell_type": "code",
   "execution_count": null,
   "id": "d35f2ca1",
   "metadata": {},
   "outputs": [],
   "source": [
    "# opt_mol, energies\n",
    "energies = rmols.optimise_in_receptor(\n",
    "    receptor_file=\"rec_h.pdb\", \n",
    "    ligand_force_field=\"openff\", \n",
    "    use_ani=False,\n",
    "    sigma_scale_factor=0.8,\n",
    "    relative_permittivity=4\n",
    ")"
   ]
  },
  {
   "cell_type": "code",
   "execution_count": null,
   "id": "d59ef690",
   "metadata": {},
   "outputs": [],
   "source": [
    "rmols[0].rep3D()"
   ]
  },
  {
   "cell_type": "code",
   "execution_count": null,
   "id": "9b0c4465",
   "metadata": {},
   "outputs": [],
   "source": [
    "rmols[0].to_file(\"optimised_coords.pdb\")"
   ]
  },
  {
   "cell_type": "code",
   "execution_count": null,
   "id": "c1e03cc9",
   "metadata": {},
   "outputs": [],
   "source": [
    "print(energies)"
   ]
  },
  {
   "cell_type": "code",
   "execution_count": null,
   "id": "3a2d37ea",
   "metadata": {},
   "outputs": [],
   "source": [
    "final_energies = rmols.sort_conformers(energy_range=5)"
   ]
  },
  {
   "cell_type": "code",
   "execution_count": null,
   "id": "e2e3ec75",
   "metadata": {},
   "outputs": [],
   "source": [
    "rmols[0].to_file(\"best_conformers0.pdb\")\n",
    "rmols[1].to_file(\"best_conformers1.pdb\")"
   ]
  },
  {
   "cell_type": "code",
   "execution_count": null,
   "id": "8ad9d1a9",
   "metadata": {},
   "outputs": [],
   "source": [
    "print(final_energies)"
   ]
  },
  {
   "cell_type": "code",
   "execution_count": null,
   "id": "cdf7edc0",
   "metadata": {},
   "outputs": [],
   "source": [
    "CNNscores = rmols.gnina(receptor_file=\"rec_h.pdb\") \n",
    "CNNscores"
   ]
  },
  {
   "cell_type": "code",
   "execution_count": null,
   "id": "ef605ee0",
   "metadata": {},
   "outputs": [],
   "source": []
  }
 ],
 "metadata": {
  "kernelspec": {
   "display_name": "Python 3",
   "language": "python",
   "name": "python3"
  },
  "language_info": {
   "codemirror_mode": {
    "name": "ipython",
    "version": 3
   },
   "file_extension": ".py",
   "mimetype": "text/x-python",
   "name": "python",
   "nbconvert_exporter": "python",
   "pygments_lexer": "ipython3",
   "version": "3.7.6"
  }
 },
 "nbformat": 4,
 "nbformat_minor": 5
}
