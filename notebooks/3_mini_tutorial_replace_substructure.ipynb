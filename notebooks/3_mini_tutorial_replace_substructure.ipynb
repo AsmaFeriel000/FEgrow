{
 "cells": [
  {
   "cell_type": "markdown",
   "id": "9c4c7edd",
   "metadata": {},
   "source": [
    "# 3: Mini - replace substructure\n",
    "\n",
    "**Authors: Mateusz K Bieniek, Ben Cree, Rachael Pirie, Joshua T. Horton, Natalie J. Tatum, Daniel J. Cole**"
   ]
  },
  {
   "cell_type": "markdown",
   "id": "ba86bf5e",
   "metadata": {},
   "source": [
    "## Overview\n",
    "\n",
    "In this mini tutorial, we modify the molecule by replacing an -oxazine ring with our own a methyl group.\n",
    "\n",
    "If you're ready to use FEgrow as inteded, please proceed to learning about the fegrow.ChemSpace class. "
   ]
  },
  {
   "cell_type": "code",
   "execution_count": null,
   "id": "10a1f1b0",
   "metadata": {},
   "outputs": [],
   "source": [
    "from rdkit import Chem\n",
    "import fegrow"
   ]
  },
  {
   "cell_type": "markdown",
   "id": "cd53ff25",
   "metadata": {},
   "source": [
    "# Prepare the ligand scaffold"
   ]
  },
  {
   "cell_type": "code",
   "execution_count": null,
   "id": "b8c3547f",
   "metadata": {},
   "outputs": [],
   "source": [
    "rdkit_mol = Chem.AddHs(Chem.MolFromSmiles('CN1CC=CN(COC2CNCOC2)C1'))\n",
    "# get the FEgrow representation of the rdkit Mol\n",
    "molecule = fegrow.RMol(rdkit_mol)\n",
    "molecule.rep2D(idx=False, h=False)"
   ]
  },
  {
   "cell_type": "markdown",
   "id": "e27c172f",
   "metadata": {},
   "source": [
    "2D representation of the core. We want the pyrimidine to stay, and the -oxazine including the oxygen on the chain. "
   ]
  },
  {
   "cell_type": "code",
   "execution_count": null,
   "id": "9a7309b1",
   "metadata": {},
   "outputs": [],
   "source": [
    "molecule.rep2D(idx=True, size=(500, 500))"
   ]
  },
  {
   "cell_type": "markdown",
   "id": "6f36f867",
   "metadata": {},
   "source": [
    "Using the 2D drawing, select an index for the growth vector. In this case, we are selecting the hydrogen atom labelled O:7"
   ]
  },
  {
   "cell_type": "code",
   "execution_count": null,
   "id": "af6bc417",
   "metadata": {},
   "outputs": [],
   "source": [
    "# you can also embed the information in your scaffold to avoid passing around the index\n",
    "molecule.GetAtomWithIdx(7).SetAtomicNum(0)"
   ]
  },
  {
   "cell_type": "code",
   "execution_count": null,
   "id": "bd91d6f8",
   "metadata": {},
   "outputs": [],
   "source": [
    "# prepare R-group\n",
    "R_group_methanol = Chem.AddHs(Chem.MolFromSmiles('*CO'))\n",
    "\n",
    "# use the second connecting point now implicitly\n",
    "rmol = fegrow.build_molecule(molecule, R_group_methanol)"
   ]
  },
  {
   "cell_type": "code",
   "execution_count": null,
   "id": "d7c04bba",
   "metadata": {},
   "outputs": [],
   "source": [
    "rmol"
   ]
  },
  {
   "cell_type": "markdown",
   "id": "579015f4",
   "metadata": {},
   "source": [
    "You can now proceed to the rest of the stages, like the generation of conformers, optimisation, etc. However, please checkout ChemSpace for automatic all of it!\n"
   ]
  }
 ],
 "metadata": {
  "kernelspec": {
   "display_name": "test",
   "language": "python",
   "name": "test"
  },
  "language_info": {
   "codemirror_mode": {
    "name": "ipython",
    "version": 3
   },
   "file_extension": ".py",
   "mimetype": "text/x-python",
   "name": "python",
   "nbconvert_exporter": "python",
   "pygments_lexer": "ipython3",
   "version": "3.11.11"
  }
 },
 "nbformat": 4,
 "nbformat_minor": 5
}
