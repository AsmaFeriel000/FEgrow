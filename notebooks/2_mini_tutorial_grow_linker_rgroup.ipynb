{
 "cells": [
  {
   "cell_type": "markdown",
   "id": "9c4c7edd",
   "metadata": {},
   "source": [
    "# FEgrow: An Open-Source Molecular Builder and Free Energy Preparation Workflow\n",
    "\n",
    "**Authors: Mateusz K Bieniek, Ben Cree, Rachael Pirie, Joshua T. Horton, Natalie J. Tatum, Daniel J. Cole**"
   ]
  },
  {
   "cell_type": "markdown",
   "id": "ba86bf5e",
   "metadata": {},
   "source": [
    "## Overview\n",
    "\n",
    "This is a variation of the first tutorial, where in addition to the R-group we also attach a linker. \n",
    "\n",
    "If you're ready to move on to the next stage, please proceed to learning about the fegrow.ChemSpace class. "
   ]
  },
  {
   "cell_type": "code",
   "execution_count": null,
   "id": "10a1f1b0",
   "metadata": {},
   "outputs": [],
   "source": [
    "from rdkit import Chem\n",
    "import fegrow"
   ]
  },
  {
   "cell_type": "markdown",
   "id": "cd53ff25",
   "metadata": {},
   "source": [
    "# Prepare the ligand scaffold"
   ]
  },
  {
   "cell_type": "code",
   "execution_count": null,
   "id": "b8c3547f",
   "metadata": {},
   "outputs": [],
   "source": [
    "rdkit_mol = Chem.AddHs(Chem.MolFromSmiles('CC1C=CN(CN1C)C'))\n",
    "# get the FEgrow representation of the rdkit Mol\n",
    "scaffold = fegrow.RMol(rdkit_mol)\n",
    "scaffold.rep2D(idx=False, h=False)"
   ]
  },
  {
   "cell_type": "markdown",
   "id": "e27c172f",
   "metadata": {},
   "source": [
    "Show the 2D (with indices) representation of the core. This is used to select the desired growth vector."
   ]
  },
  {
   "cell_type": "code",
   "execution_count": null,
   "id": "9a7309b1",
   "metadata": {},
   "outputs": [],
   "source": [
    "scaffold.rep2D(idx=True, size=(500, 500))"
   ]
  },
  {
   "cell_type": "markdown",
   "id": "6f36f867",
   "metadata": {},
   "source": [
    "Using the 2D drawing, select an index for the growth vector. In this case, we are selecting the hydrogen atom labelled H:9"
   ]
  },
  {
   "cell_type": "code",
   "execution_count": null,
   "id": "af6bc417",
   "metadata": {},
   "outputs": [],
   "source": [
    "# you can also embed the information in your scaffold to avoid passing around the index\n",
    "scaffold.GetAtomWithIdx(9).SetAtomicNum(0)"
   ]
  },
  {
   "cell_type": "markdown",
   "id": "5799b185",
   "metadata": {},
   "source": [
    "# Create a linker"
   ]
  },
  {
   "cell_type": "code",
   "execution_count": null,
   "id": "227c65b6",
   "metadata": {},
   "outputs": [],
   "source": [
    "linker_rccr = Chem.AddHs(Chem.MolFromSmiles('*CC*'))\n",
    "linker_rccr"
   ]
  },
  {
   "cell_type": "markdown",
   "id": "fb0efd86",
   "metadata": {},
   "source": [
    "# Attach the linker"
   ]
  },
  {
   "cell_type": "code",
   "execution_count": null,
   "id": "56dc6755",
   "metadata": {},
   "outputs": [],
   "source": [
    "# we have to specify where the R-group should be attached using the attachment index\n",
    "with_linker = fegrow.build_molecule(scaffold, linker_rccr)"
   ]
  },
  {
   "cell_type": "code",
   "execution_count": null,
   "id": "efbb7d7f",
   "metadata": {},
   "outputs": [],
   "source": [
    "# note that the second connecting point * is left for the future R-group\n",
    "with_linker"
   ]
  },
  {
   "cell_type": "code",
   "execution_count": null,
   "id": "c8295004",
   "metadata": {},
   "outputs": [],
   "source": [
    "# prepare R-group\n",
    "R_group_methanol = Chem.AddHs(Chem.MolFromSmiles('*CO'))\n",
    "R_group_methanol"
   ]
  },
  {
   "cell_type": "code",
   "execution_count": null,
   "id": "bd91d6f8",
   "metadata": {},
   "outputs": [],
   "source": [
    "# use the second connecting point now implicitly\n",
    "rmol = fegrow.build_molecule(with_linker, R_group_methanol)"
   ]
  },
  {
   "cell_type": "code",
   "execution_count": null,
   "id": "d7c04bba",
   "metadata": {},
   "outputs": [],
   "source": [
    "rmol"
   ]
  },
  {
   "cell_type": "markdown",
   "id": "579015f4",
   "metadata": {},
   "source": [
    "You can now proceed to the rest of the stages, like the generation of conformers, optimisation, etc. However, please checkout ChemSpace for automatic all of it!\n"
   ]
  }
 ],
 "metadata": {
  "kernelspec": {
   "display_name": "fegrow",
   "language": "python",
   "name": "fegrow"
  },
  "language_info": {
   "codemirror_mode": {
    "name": "ipython",
    "version": 3
   },
   "file_extension": ".py",
   "mimetype": "text/x-python",
   "name": "python",
   "nbconvert_exporter": "python",
   "pygments_lexer": "ipython3",
   "version": "3.10.10"
  }
 },
 "nbformat": 4,
 "nbformat_minor": 5
}
