{
 "cells": [
  {
   "cell_type": "markdown",
   "id": "9c4c7edd",
   "metadata": {},
   "source": [
    "# FEgrow: An Open-Source Molecular Builder and Free Energy Preparation Workflow\n",
    "\n",
    "**Authors: Mateusz K Bieniek, Ben Cree, Rachael Pirie, Joshua T. Horton, Natalie J. Tatum, Daniel J. Cole**"
   ]
  },
  {
   "cell_type": "markdown",
   "id": "ba86bf5e",
   "metadata": {},
   "source": [
    "## Overview\n",
    "\n",
    "Here we introduce the ChemSpace class which:\n",
    " - automates protocols and takes care of CPU/cluster processing with Dask\n",
    " - stores data in a dataframe\n",
    " - employs scikit for active learning\n"
   ]
  },
  {
   "cell_type": "code",
   "execution_count": null,
   "id": "10a1f1b0",
   "metadata": {},
   "outputs": [],
   "source": [
    "import prody\n",
    "from rdkit import Chem\n",
    "\n",
    "import fegrow\n",
    "from fegrow import RGroups, Linkers, ChemSpace\n",
    "\n",
    "# initialise\n",
    "rgroups = RGroups()\n",
    "linkers = Linkers()"
   ]
  },
  {
   "cell_type": "markdown",
   "id": "cd53ff25",
   "metadata": {},
   "source": [
    "# Prepare the ligand template"
   ]
  },
  {
   "cell_type": "markdown",
   "id": "0affb666",
   "metadata": {},
   "source": [
    "The provided core structure `lig.pdb` has been extracted from a crystal structure of Mpro in complex with compound **4** from the Jorgensen study (PDB: 7L10), and a Cl atom has been removed to allow growth into the S3/S4 pocket. The template structure of the ligand is protonated with [Open Babel](http://openbabel.org/wiki/Main_Page):"
   ]
  },
  {
   "cell_type": "code",
   "execution_count": null,
   "id": "ffb3aaa1",
   "metadata": {},
   "outputs": [],
   "source": [
    "!obabel sarscov2/lig.pdb -O sarscov2/coreh.sdf -p 7"
   ]
  },
  {
   "cell_type": "markdown",
   "id": "f968178c",
   "metadata": {},
   "source": [
    "Load the protonated ligand into FEgrow:"
   ]
  },
  {
   "cell_type": "code",
   "execution_count": null,
   "id": "b8c3547f",
   "metadata": {},
   "outputs": [],
   "source": [
    "init_mol = Chem.SDMolSupplier('sarscov2/mini.sdf', removeHs=False)[0]\n",
    "\n",
    "# get the FEgrow representation of the rdkit Mol\n",
    "scaffold = fegrow.RMol(init_mol)"
   ]
  },
  {
   "cell_type": "markdown",
   "id": "e27c172f",
   "metadata": {},
   "source": [
    "Show the 2D (with indices) representation of the core. This is used to select the desired growth vector."
   ]
  },
  {
   "cell_type": "code",
   "execution_count": null,
   "id": "9a7309b1",
   "metadata": {},
   "outputs": [],
   "source": [
    "scaffold.rep2D(idx=True, size=(500, 500))"
   ]
  },
  {
   "cell_type": "markdown",
   "id": "6f36f867",
   "metadata": {},
   "source": [
    "Using the 2D drawing, select an index for the growth vector. Note that it is currently only possible to grow from hydrogen atom positions. In this case, we are selecting the hydrogen atom labelled H:40 to enable growth into the S3/S4 pocket of Mpro."
   ]
  },
  {
   "cell_type": "code",
   "execution_count": null,
   "id": "af6bc417",
   "metadata": {},
   "outputs": [],
   "source": [
    "# specify the connecting point\n",
    "scaffold.GetAtomWithIdx(8).SetAtomicNum(0)"
   ]
  },
  {
   "cell_type": "code",
   "execution_count": null,
   "id": "538b49cb",
   "metadata": {},
   "outputs": [],
   "source": [
    "# create the chemical space\n",
    "cs = ChemSpace()"
   ]
  },
  {
   "cell_type": "code",
   "execution_count": null,
   "id": "689d4e59",
   "metadata": {},
   "outputs": [],
   "source": [
    "cs.add_scaffold(scaffold)"
   ]
  },
  {
   "cell_type": "code",
   "execution_count": null,
   "id": "b738c630",
   "metadata": {},
   "outputs": [],
   "source": [
    "# initially it is empty\n",
    "cs"
   ]
  },
  {
   "cell_type": "markdown",
   "id": "dd712757",
   "metadata": {},
   "source": [
    "# Select RGroups for your template"
   ]
  },
  {
   "cell_type": "markdown",
   "id": "57599c23",
   "metadata": {},
   "source": [
    "R-groups can be selected interactively or programmaticaly.\n",
    "\n",
    "We have provided a set of common R-groups (see `fegrow/data/rgroups/library`), which can be browsed and selected interactively below.\n",
    "\n",
    "Molecules from the library can alternatively be selected by name, as demonstrated below.\n",
    "\n",
    "Finally, user-defined R-groups may be provided as `.mol` files. *In this case, the hydrogen atom selected for attachment should be replaced by the element symbol R.* See the directory `manual_rgroups` for examples."
   ]
  },
  {
   "cell_type": "code",
   "execution_count": null,
   "id": "94cea06a",
   "metadata": {},
   "outputs": [],
   "source": [
    "rgroups"
   ]
  },
  {
   "cell_type": "code",
   "execution_count": null,
   "id": "e2ab2f78",
   "metadata": {},
   "outputs": [],
   "source": [
    "# retrieve the interactively selected groups\n",
    "interactive_rgroups = rgroups.get_selected()\n",
    "\n",
    "# you can also directly access the built-in dataframe programmatically\n",
    "R_group_ethanol = rgroups[rgroups.Name == '*CCO'].Mol.item()\n",
    "\n",
    "# select the R-group using the index\n",
    "R_group_cyclopropane = rgroups.Mol[69] \n",
    "\n",
    "# use SMILES\n",
    "R_group_methanol = Chem.AddHs(Chem.MolFromSmiles('*CO'))\n",
    "\n",
    "# add your R-groups from files\n",
    "R_group_propanol = Chem.MolFromMolFile('manual_rgroups/propan-1-ol-r.mol', removeHs=False)"
   ]
  },
  {
   "cell_type": "markdown",
   "id": "4eef0dbf",
   "metadata": {},
   "source": [
    "### Expand your chemical space by building on top off your scaffold. "
   ]
  },
  {
   "cell_type": "code",
   "execution_count": null,
   "id": "f03e5475",
   "metadata": {},
   "outputs": [],
   "source": [
    "# Adding R-groups implies that the scaffold should be used. \n",
    "# The previously scaffold will be attached automatically. \n",
    "\n",
    "# or we can use the template merged with the linker\n",
    "# in which case the attachement point is not needed (R* atom is used)\n",
    "cs.add_rgroups(R_group_ethanol)\n",
    "cs"
   ]
  },
  {
   "cell_type": "code",
   "execution_count": null,
   "id": "837ab81c",
   "metadata": {},
   "outputs": [],
   "source": [
    "linkers"
   ]
  },
  {
   "cell_type": "code",
   "execution_count": null,
   "id": "5c41db87",
   "metadata": {},
   "outputs": [],
   "source": [
    "# get linkers programmatically from the library\n",
    "rcr_linker = linkers[linkers.Name == 'R1CR2'].Mol.item()\n",
    "rocr_linker = linkers.Mol[6], # use the linker table index directly, e.g. index 6 is \"R2COR1\"\n",
    "\n",
    "# pick linkers from the grid\n",
    "grid_linkers = linkers.get_selected()\n",
    "\n",
    "# use Smiles\n",
    "rcor_linker = Chem.AddHs(Chem.MolFromSmiles('[*:0]CO[*:1]'))"
   ]
  },
  {
   "cell_type": "markdown",
   "id": "fb0efd86",
   "metadata": {},
   "source": [
    "# "
   ]
  },
  {
   "cell_type": "markdown",
   "id": "66fec021",
   "metadata": {},
   "source": [
    "### Add linkers to build more structures"
   ]
  },
  {
   "cell_type": "code",
   "execution_count": null,
   "id": "56dc6755",
   "metadata": {},
   "outputs": [],
   "source": [
    "# Adding R-groups implies that the scaffold should be used. \n",
    "# The previously scaffold will be attached automatically. \n",
    "\n",
    "# join a linker with the rgroups\n",
    "cs.add_rgroups(rcor_linker, [R_group_methanol, R_group_propanol])\n",
    "cs"
   ]
  },
  {
   "cell_type": "markdown",
   "id": "10a85a58",
   "metadata": {},
   "source": [
    "The R-group library can also be viewed as a 2D grid, or individual molecules can be selected for 3D view (note that the conformation of the R-group has not yet been optimised):"
   ]
  },
  {
   "cell_type": "code",
   "execution_count": null,
   "id": "7cd70172",
   "metadata": {},
   "outputs": [],
   "source": [
    "mol = cs[0]\n",
    "mol.rep2D()"
   ]
  },
  {
   "cell_type": "code",
   "execution_count": null,
   "id": "8fca6f5f",
   "metadata": {},
   "outputs": [],
   "source": [
    "cs[0].rep3D()"
   ]
  },
  {
   "cell_type": "markdown",
   "id": "579015f4",
   "metadata": {},
   "source": [
    "Once the ligands have been generated, they can be assessed for various ADMET properties, including Lipinksi rule of 5 properties, the presence of unwanted substructures or problematic functional groups, and synthetic accessibility."
   ]
  },
  {
   "cell_type": "code",
   "execution_count": null,
   "id": "c7feb871",
   "metadata": {},
   "outputs": [],
   "source": [
    "cs.toxicity()"
   ]
  },
  {
   "cell_type": "markdown",
   "id": "96e85edd",
   "metadata": {},
   "source": [
    "For each ligand, a specified number of conformers (`num_conf`) is generated by using the RDKit [ETKDG algorithm](https://doi.org/10.1021/acs.jcim.5b00654). Conformers that are too similar to an existing structure are discarded. Empirically, we have found that `num_conf=200` gives an exhaustive search, and `num_conf=50` gives a reasonable, fast search, in most cases.\n",
    "\n",
    "If required, a third argument can be added `flexible=[0,1,...]`, which provides a list of additional atoms in the core that are allowed to be flexible. This is useful, for example, if growing from a methyl group and you would like the added R-group to freely rotate."
   ]
  },
  {
   "cell_type": "code",
   "execution_count": null,
   "id": "0c07ab01",
   "metadata": {},
   "outputs": [],
   "source": [
    "cs.generate_conformers(num_conf=50, \n",
    "                          minimum_conf_rms=0.5, \n",
    "                          # flexible=[3, 18, 20])\n",
    "                        )"
   ]
  },
  {
   "cell_type": "markdown",
   "id": "e2015e8c",
   "metadata": {},
   "source": [
    "### Prepare the protein"
   ]
  },
  {
   "cell_type": "markdown",
   "id": "54a2ab68",
   "metadata": {},
   "source": [
    "The protein-ligand complex structure is downloaded, and [PDBFixer](https://github.com/openmm/pdbfixer) is used to protonate the protein, and perform other simple repair:"
   ]
  },
  {
   "cell_type": "code",
   "execution_count": null,
   "id": "b5667599",
   "metadata": {},
   "outputs": [],
   "source": [
    "# get the protein-ligand complex structure\n",
    "!wget -nc https://files.rcsb.org/download/7L10.pdb\n",
    "\n",
    "# load the complex with the ligand\n",
    "sys = prody.parsePDB('7L10.pdb')\n",
    "\n",
    "# remove any unwanted molecules\n",
    "rec = sys.select('not (nucleic or hetatm or water)')\n",
    "\n",
    "# save the processed protein\n",
    "prody.writePDB('rec.pdb', rec)\n",
    "\n",
    "# fix the receptor file (missing residues, protonation, etc)\n",
    "fegrow.fix_receptor(\"rec.pdb\", \"rec_final.pdb\")\n",
    "\n",
    "# load back into prody\n",
    "rec_final = prody.parsePDB(\"rec_final.pdb\")"
   ]
  },
  {
   "cell_type": "markdown",
   "id": "3460a39b",
   "metadata": {},
   "source": [
    "View enumerated conformers in complex with protein:"
   ]
  },
  {
   "cell_type": "code",
   "execution_count": null,
   "id": "9374e421",
   "metadata": {},
   "outputs": [],
   "source": [
    "cs[0].rep3D(prody=rec_final)"
   ]
  },
  {
   "cell_type": "markdown",
   "id": "75fc77b7",
   "metadata": {},
   "source": [
    "Any conformers that clash with the protein (any atom-atom distance less than 1 Angstrom), are removed."
   ]
  },
  {
   "cell_type": "code",
   "execution_count": null,
   "id": "858739ac",
   "metadata": {},
   "outputs": [],
   "source": [
    "cs.remove_clashing_confs(rec_final)"
   ]
  },
  {
   "cell_type": "code",
   "execution_count": null,
   "id": "d30c0540",
   "metadata": {},
   "outputs": [],
   "source": [
    "cs[0].rep3D(prody=rec_final)"
   ]
  },
  {
   "cell_type": "markdown",
   "id": "066014d6",
   "metadata": {},
   "source": [
    "### Optimise conformers in context of protein"
   ]
  },
  {
   "cell_type": "markdown",
   "id": "b02e8d1b",
   "metadata": {},
   "source": [
    "The remaining conformers are optimised using hybrid machine learning / molecular mechanics (ML/MM), using the [ANI2x](https://doi.org/10.1021/acs.jctc.0c00121) neural nework potential for the ligand energetics (as long as it contains only the atoms H, C, N, O, F, S, Cl). Note that the Open Force Field [Parsley](https://doi.org/10.1021/acs.jctc.1c00571) force field is used for intermolecular interactions with the receptor.\n",
    "\n",
    "`sigma_scale_factor`: is used to scale the Lennard-Jones radii of the atoms.\n",
    "\n",
    "`relative_permittivity`: is used to scale the electrostatic interactions with the protein.\n",
    "\n",
    "`water_model`: can be used to set the force field for any water molecules present in the binding site."
   ]
  },
  {
   "cell_type": "code",
   "execution_count": null,
   "id": "d35f2ca1",
   "metadata": {},
   "outputs": [],
   "source": [
    "# opt_mol, energies\n",
    "energies = cs.optimise_in_receptor(\n",
    "    receptor_file=\"rec_final.pdb\", \n",
    "    ligand_force_field=\"openff\", \n",
    "    use_ani=True,\n",
    "    sigma_scale_factor=0.8,\n",
    "    relative_permittivity=4,\n",
    "    water_model = None,\n",
    "    platform_name = 'CPU', # or e.g. 'CUDA'\n",
    ")"
   ]
  },
  {
   "cell_type": "markdown",
   "id": "a416d638",
   "metadata": {},
   "source": [
    "Any of the rmols that have no available conformers (due to unresolvable steric clashes with the protein) can be discarded using the `.discard_missing()` function. This function also returns a list of the indices that were removed, which can be helpful when carrying out data analysis."
   ]
  },
  {
   "cell_type": "code",
   "execution_count": null,
   "id": "c4d41da2",
   "metadata": {},
   "outputs": [],
   "source": [
    "missing_ids = cs.discard_missing()"
   ]
  },
  {
   "cell_type": "markdown",
   "id": "698fecce",
   "metadata": {},
   "source": [
    "Optionally, display the final optimised conformers. Note that, unlike classical force fields, ANI allows bond breaking. You may occasionally see ligands with distorted structures and very long bonds, but in our experience these are rarely amongst the low energy structures and can be ignored."
   ]
  },
  {
   "cell_type": "markdown",
   "id": "13fa9245",
   "metadata": {},
   "source": [
    "Conformers are now sorted by energy, only retaining those within 5 kcal/mol of the lowest energy structure:"
   ]
  },
  {
   "cell_type": "code",
   "execution_count": null,
   "id": "3a2d37ea",
   "metadata": {},
   "outputs": [],
   "source": [
    "final_energies = cs.sort_conformers(energy_range=5)"
   ]
  },
  {
   "cell_type": "code",
   "execution_count": null,
   "id": "121ffdda",
   "metadata": {},
   "outputs": [],
   "source": [
    "cs[0].rep3D()"
   ]
  },
  {
   "cell_type": "markdown",
   "id": "a8bde92b",
   "metadata": {},
   "source": [
    "Save all of the lowest energy conformers to files and print the sorted energies in kcal/mol (shifted so that the lowest energy conformer is zero)."
   ]
  },
  {
   "cell_type": "code",
   "execution_count": null,
   "id": "e2e3ec75",
   "metadata": {},
   "outputs": [],
   "source": [
    "cs.to_sdf(\"optimised_molecules.sdf\")\n",
    "cs[0].to_file(\"best_conformers0.pdb\") "
   ]
  },
  {
   "cell_type": "code",
   "execution_count": null,
   "id": "8ad9d1a9",
   "metadata": {},
   "outputs": [],
   "source": [
    "print(final_energies)"
   ]
  },
  {
   "cell_type": "markdown",
   "id": "c522bbda",
   "metadata": {},
   "source": [
    "The conformers are scored using the [Gnina](https://github.com/gnina/gnina) molecular docking program and convolutional neural network scoring function. *[Note that this step is not supported on macOS].* If unavailable, the Gnina executable is downloaded during the first time it is used. The CNNscores may also be converted to predicted Kd (nM) (see column \"Kd\")."
   ]
  },
  {
   "cell_type": "code",
   "execution_count": null,
   "id": "cdf7edc0",
   "metadata": {},
   "outputs": [],
   "source": [
    "affinities = cs.gnina(receptor_file=\"rec_final.pdb\") \n",
    "affinities"
   ]
  },
  {
   "cell_type": "markdown",
   "id": "b8800fee",
   "metadata": {},
   "source": [
    "Predicted binding affinities may be further refined using the structures output by `FEgrow`, using your favourite free energy calculation engine. See our paper for an example using [SOMD](https://github.com/michellab/Sire) to calculate the relative binding free energies of 13 Mpro inhibitors."
   ]
  },
  {
   "cell_type": "code",
   "execution_count": null,
   "id": "02dd7ad6",
   "metadata": {},
   "outputs": [],
   "source": [
    "# display units\n",
    "affinities.Kd"
   ]
  },
  {
   "cell_type": "code",
   "execution_count": null,
   "id": "a4766b3d-f6d0-4c17-bdb0-55696a12e7af",
   "metadata": {},
   "outputs": [],
   "source": []
  }
 ],
 "metadata": {
  "kernelspec": {
   "display_name": "fegrow",
   "language": "python",
   "name": "fegrow"
  },
  "language_info": {
   "codemirror_mode": {
    "name": "ipython",
    "version": 3
   },
   "file_extension": ".py",
   "mimetype": "text/x-python",
   "name": "python",
   "nbconvert_exporter": "python",
   "pygments_lexer": "ipython3",
   "version": "3.10.10"
  }
 },
 "nbformat": 4,
 "nbformat_minor": 5
}
