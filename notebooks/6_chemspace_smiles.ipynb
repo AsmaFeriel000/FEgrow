{
 "cells": [
  {
   "cell_type": "markdown",
   "id": "9c4c7edd",
   "metadata": {},
   "source": [
    "# 6: Chemspace with SMILES\n",
    "\n",
    "**Authors: Mateusz K Bieniek, Ben Cree, Rachael Pirie, Joshua T. Horton, Natalie J. Tatum, Daniel J. Cole**"
   ]
  },
  {
   "cell_type": "markdown",
   "id": "ba86bf5e",
   "metadata": {},
   "source": [
    "## Overview\n",
    "\n",
    "Building and scoring molecules can be further streamlined by employing our established protocol. Here we show how to quickly build a library and score the entire library. "
   ]
  },
  {
   "cell_type": "code",
   "execution_count": null,
   "id": "10a1f1b0",
   "metadata": {},
   "outputs": [],
   "source": [
    "import pandas as pd\n",
    "from rdkit import Chem\n",
    "\n",
    "from fegrow import ChemSpace\n",
    "from fegrow.testing import core_5R83_path, rec_5R83_path, smiles_5R83_path"
   ]
  },
  {
   "cell_type": "markdown",
   "id": "cd53ff25",
   "metadata": {},
   "source": [
    "# Prepare the ligand template"
   ]
  },
  {
   "cell_type": "code",
   "execution_count": null,
   "id": "b8c3547f",
   "metadata": {},
   "outputs": [],
   "source": [
    "scaffold = Chem.SDMolSupplier(core_5R83_path)[0]"
   ]
  },
  {
   "cell_type": "markdown",
   "id": "6f36f867",
   "metadata": {},
   "source": [
    "As we are using already prepared Smiles that have the scaffold as a substructure, it is not needed to set any growing vector. "
   ]
  },
  {
   "cell_type": "markdown",
   "id": "ff464268",
   "metadata": {},
   "source": [
    "<div class=\"alert alert-block alert-warning\">\n",
    "    Ensure that your code is in <b>__name__ == \"__main__\"</b> when creating a cluster in your scripts,\n",
    "    particularly when using processes=True. Although jupyter notebook works fine. \n",
    "</div>"
   ]
  },
  {
   "cell_type": "markdown",
   "id": "3508dc57",
   "metadata": {},
   "source": [
    "<div class=\"alert alert-block alert-danger\">\n",
    "    When using ANI=True for processing the Dask cluster has to use processes because ANI is currently not threadsafe. Thus we create here a LocalCluster and ask ChemSpace to use it. \n",
    "</div>"
   ]
  },
  {
   "cell_type": "code",
   "execution_count": null,
   "id": "d9d54580",
   "metadata": {},
   "outputs": [],
   "source": [
    "from dask.distributed import LocalCluster\n",
    "\n",
    "lc = LocalCluster(processes=True, n_workers=None, threads_per_worker=1)"
   ]
  },
  {
   "cell_type": "code",
   "execution_count": null,
   "id": "538b49cb",
   "metadata": {},
   "outputs": [],
   "source": [
    "# create the chemical space\n",
    "cs = ChemSpace(dask_cluster=lc)"
   ]
  },
  {
   "cell_type": "code",
   "execution_count": null,
   "id": "689d4e59",
   "metadata": {},
   "outputs": [],
   "source": [
    "# we're not growing the scaffold, we're superimposing bigger molecules on it\n",
    "cs.add_scaffold(scaffold)\n",
    "cs.add_protein(rec_5R83_path)"
   ]
  },
  {
   "cell_type": "code",
   "execution_count": null,
   "id": "73b58273",
   "metadata": {},
   "outputs": [],
   "source": [
    "# load 50k smiles dataset from the study\n",
    "smiles = pd.read_csv(smiles_5R83_path).Smiles.to_list()\n",
    "\n",
    "# for testing, sort by size and pick small\n",
    "smiles.sort(key=len)\n",
    "# take 5 smallest smiles\n",
    "smiles = smiles[:5]"
   ]
  },
  {
   "cell_type": "code",
   "execution_count": null,
   "id": "ed6471a8",
   "metadata": {},
   "outputs": [],
   "source": [
    "# here we add Smiles which should already have been matched\n",
    "# to the scaffold (rdkit Mol.HasSubstructureMatch)\n",
    "cs.add_smiles(smiles, protonate=False)\n",
    "cs"
   ]
  },
  {
   "cell_type": "code",
   "execution_count": null,
   "id": "d323742f",
   "metadata": {},
   "outputs": [],
   "source": [
    "cs.evaluate()"
   ]
  },
  {
   "cell_type": "code",
   "execution_count": null,
   "id": "3c81e2cc",
   "metadata": {},
   "outputs": [],
   "source": [
    "cs"
   ]
  },
  {
   "cell_type": "code",
   "execution_count": null,
   "id": "b4958916",
   "metadata": {},
   "outputs": [],
   "source": []
  }
 ],
 "metadata": {
  "kernelspec": {
   "display_name": "test",
   "language": "python",
   "name": "test"
  },
  "language_info": {
   "codemirror_mode": {
    "name": "ipython",
    "version": 3
   },
   "file_extension": ".py",
   "mimetype": "text/x-python",
   "name": "python",
   "nbconvert_exporter": "python",
   "pygments_lexer": "ipython3",
   "version": "3.11.11"
  }
 },
 "nbformat": 4,
 "nbformat_minor": 5
}
