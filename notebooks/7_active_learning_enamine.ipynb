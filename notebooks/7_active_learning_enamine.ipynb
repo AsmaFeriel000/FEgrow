{
 "cells": [
  {
   "cell_type": "markdown",
   "id": "9c4c7edd",
   "metadata": {},
   "source": [
    "# 7: Active Learning and Enamine\n",
    "\n",
    "**Authors: Mateusz K Bieniek, Ben Cree, Rachael Pirie, Joshua T. Horton, Natalie J. Tatum, Daniel J. Cole**"
   ]
  },
  {
   "cell_type": "markdown",
   "id": "ba86bf5e",
   "metadata": {},
   "source": [
    "## Overview\n",
    "Configure the Active Learning"
   ]
  },
  {
   "cell_type": "code",
   "execution_count": null,
   "id": "10a1f1b0",
   "metadata": {},
   "outputs": [],
   "source": [
    "import pandas as pd\n",
    "import prody\n",
    "from rdkit import Chem\n",
    "\n",
    "import fegrow\n",
    "from fegrow import ChemSpace\n",
    "\n",
    "from fegrow.testing import core_5R83_path, smiles_5R83_path, rec_5R83_path"
   ]
  },
  {
   "cell_type": "code",
   "execution_count": null,
   "id": "538b49cb",
   "metadata": {},
   "outputs": [],
   "source": [
    "# create the chemical space\n",
    "cs = ChemSpace()\n",
    "# we're not growing the scaffold, we're superimposing bigger molecules on it\n",
    "cs.add_scaffold(Chem.SDMolSupplier(core_5R83_path)[0])\n",
    "cs.add_protein(rec_5R83_path)"
   ]
  },
  {
   "cell_type": "code",
   "execution_count": null,
   "id": "14c5f301",
   "metadata": {},
   "outputs": [],
   "source": [
    "# turn on the caching in RAM (optional)\n",
    "cs.set_dask_caching()"
   ]
  },
  {
   "cell_type": "code",
   "execution_count": null,
   "id": "7ac25cae",
   "metadata": {},
   "outputs": [],
   "source": [
    "# load 50k Smiles\n",
    "smiles = pd.read_csv(smiles_5R83_path).Smiles.to_list()\n",
    "\n",
    "# for testing, sort by size and pick small\n",
    "smiles.sort(key=len)\n",
    "# take 200 smallest smiles\n",
    "smiles = smiles[:200]\n",
    "\n",
    "# here we add Smiles which should already have been matched\n",
    "# to the scaffold (rdkit Mol.HasSubstructureMatch)\n",
    "cs.add_smiles(smiles)"
   ]
  },
  {
   "cell_type": "code",
   "execution_count": null,
   "id": "e7620016",
   "metadata": {},
   "outputs": [],
   "source": [
    "cs"
   ]
  },
  {
   "cell_type": "markdown",
   "id": "4573bdb4",
   "metadata": {},
   "source": [
    "# Active Learning"
   ]
  },
  {
   "cell_type": "code",
   "execution_count": null,
   "id": "f74be0c8",
   "metadata": {},
   "outputs": [],
   "source": [
    "# There is nothing to train the model on, so initially \"first_random\" is used by default\n",
    "random1 = cs.active_learning(3, first_random=True)\n",
    "random2 = cs.active_learning(3, first_random=True)\n",
    "\n",
    "# note the different indices selected (unless you're lucky!)\n",
    "print(random1.index.to_list(), random2.index.to_list())"
   ]
  },
  {
   "cell_type": "code",
   "execution_count": null,
   "id": "615be8b9",
   "metadata": {},
   "outputs": [],
   "source": [
    "# now evaluate the first selection\n",
    "random1_results = cs.evaluate(random1, ani=False)"
   ]
  },
  {
   "cell_type": "code",
   "execution_count": null,
   "id": "6df95521",
   "metadata": {},
   "outputs": [],
   "source": [
    "# check the scores, note that they were updated in the master dataframe too\n",
    "random1_results"
   ]
  },
  {
   "cell_type": "code",
   "execution_count": null,
   "id": "b22fe57e",
   "metadata": {},
   "outputs": [],
   "source": [
    "# by default Gaussian Process with Greedy approach is used\n",
    "# note that this time \n",
    "greedy1 = cs.active_learning(3)\n",
    "greedy2 = cs.active_learning(3)\n",
    "print(greedy1.index.to_list(), greedy2.index.to_list())"
   ]
  },
  {
   "cell_type": "code",
   "execution_count": null,
   "id": "02e2ccc0",
   "metadata": {},
   "outputs": [],
   "source": [
    "# learn in cycles\n",
    "for cycle in range(2):\n",
    "    greedy = cs.active_learning(3)\n",
    "    greedy_results = cs.evaluate(greedy)\n",
    "    \n",
    "    # save the new results\n",
    "    greedy_results.to_csv(f'notebook6_iteration{cycle}_results.csv')\n",
    "\n",
    "# save the entire chemical space with all the results\n",
    "cs.to_sdf('notebook6_chemspace.sdf')"
   ]
  },
  {
   "cell_type": "code",
   "execution_count": null,
   "id": "9f709930",
   "metadata": {},
   "outputs": [],
   "source": [
    "computed = cs.df[~cs.df.score.isna()]\n",
    "print('Computed cases in total: ', len(computed))"
   ]
  },
  {
   "cell_type": "code",
   "execution_count": null,
   "id": "a85fa6b5",
   "metadata": {},
   "outputs": [],
   "source": [
    "from fegrow.al import Model, Query"
   ]
  },
  {
   "cell_type": "code",
   "execution_count": null,
   "id": "b34bc9df",
   "metadata": {},
   "outputs": [],
   "source": [
    "# This is the default configuration\n",
    "cs.model = Model.gaussian_process()\n",
    "cs.query = Query.Greedy()\n",
    "\n",
    "cs.active_learning(3)"
   ]
  },
  {
   "cell_type": "code",
   "execution_count": null,
   "id": "ccf6e7ce",
   "metadata": {},
   "outputs": [],
   "source": [
    "cs.query = Query.UCB(beta=10)\n",
    "cs.active_learning(3)"
   ]
  },
  {
   "cell_type": "code",
   "execution_count": null,
   "id": "9bd86ab2",
   "metadata": {},
   "outputs": [],
   "source": [
    "# The query methods available in modAL.acquisition are made available, these include\n",
    "# Query.greedy(), \n",
    "# Query.PI(tradeoff=0) - highest probability of improvement\n",
    "# Query.EI(tradeoff=0) - highest expected improvement\n",
    "# Query.UCB(beta=1) - highest upper confidence bound (employes modAL.models.BayesianOptimizer)\n",
    "\n",
    "# Models include the scikit:\n",
    "# Model.linear()\n",
    "# Model.elastic_net()\n",
    "# Model.random_forest()\n",
    "# Model.gradient_boosting_regressor()\n",
    "# Model.mlp_regressor()\n",
    "\n",
    "# Model.gaussian_process()  # uses a TanimotoKernel by default, meaning that it\n",
    "#                           # compares the fingerprints of all the training dataset\n",
    "#                           # with the cases not yet studied, which can be expensive\n",
    "#                           # computationally\n",
    "\n",
    "cs.model = Model.linear()\n",
    "cs.query = Query.Greedy()\n",
    "cs.active_learning()"
   ]
  },
  {
   "cell_type": "markdown",
   "id": "fe2e12ba",
   "metadata": {},
   "source": [
    "### Search the Enamine database usuing the sw.docking.org (check if online)\n",
    "Please note that you should check whether you have the permission to use this interface. \n",
    "Furthermore, you are going to need the pip package `pydockingorg`"
   ]
  },
  {
   "cell_type": "code",
   "execution_count": null,
   "id": "2be4f486",
   "metadata": {},
   "outputs": [],
   "source": [
    "# search only molecules similar to the best molecule score-wise (n_best)\n",
    "# and return up to 5\n",
    "new_enamines = cs.add_enamine_molecules(n_best=1, results_per_search=10)"
   ]
  },
  {
   "cell_type": "code",
   "execution_count": null,
   "id": "f73b7ae6",
   "metadata": {},
   "outputs": [],
   "source": [
    "new_enamines"
   ]
  },
  {
   "cell_type": "code",
   "execution_count": null,
   "id": "d914cc20",
   "metadata": {},
   "outputs": [],
   "source": [
    "# we marked the molecules to avoid searching for them again\n",
    "# for that we use the column \"enamine_searched\"\n",
    "cs.df[cs.df.enamine_searched == True]"
   ]
  }
 ],
 "metadata": {
  "kernelspec": {
   "display_name": "fegrow",
   "language": "python",
   "name": "fegrow"
  },
  "language_info": {
   "codemirror_mode": {
    "name": "ipython",
    "version": 3
   },
   "file_extension": ".py",
   "mimetype": "text/x-python",
   "name": "python",
   "nbconvert_exporter": "python",
   "pygments_lexer": "ipython3",
   "version": "3.11.11"
  }
 },
 "nbformat": 4,
 "nbformat_minor": 5
}
