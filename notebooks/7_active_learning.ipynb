{
 "cells": [
  {
   "cell_type": "markdown",
   "id": "9c4c7edd",
   "metadata": {},
   "source": [
    "# FEgrow: An Open-Source Molecular Builder and Free Energy Preparation Workflow\n",
    "\n",
    "**Authors: Mateusz K Bieniek, Ben Cree, Rachael Pirie, Joshua T. Horton, Natalie J. Tatum, Daniel J. Cole**"
   ]
  },
  {
   "cell_type": "markdown",
   "id": "ba86bf5e",
   "metadata": {},
   "source": [
    "## Overview\n",
    "Configure the Active Learning"
   ]
  },
  {
   "cell_type": "code",
   "execution_count": null,
   "id": "10a1f1b0",
   "metadata": {},
   "outputs": [],
   "source": [
    "import pandas as pd\n",
    "import prody\n",
    "from rdkit import Chem\n",
    "\n",
    "import fegrow\n",
    "from fegrow import ChemSpace\n",
    "\n",
    "from fegrow.testing import core_5R83_path, smiles_5R83_core_path, rec_5R83_path"
   ]
  },
  {
   "cell_type": "code",
   "execution_count": null,
   "id": "538b49cb",
   "metadata": {},
   "outputs": [],
   "source": [
    "# create the chemical space\n",
    "cs = ChemSpace()\n",
    "# we're not growing the scaffold, we're superimposing bigger molecules on it\n",
    "cs.add_scaffold(Chem.SDMolSupplier(core_5R83_path)[0])\n",
    "cs.add_protein(rec_5R83_path)"
   ]
  },
  {
   "cell_type": "code",
   "execution_count": null,
   "id": "14c5f301",
   "metadata": {},
   "outputs": [],
   "source": [
    "# switch on the caching\n",
    "cs.set_dask_caching()"
   ]
  },
  {
   "cell_type": "code",
   "execution_count": null,
   "id": "7ac25cae",
   "metadata": {},
   "outputs": [],
   "source": [
    "# load 50k Smiles\n",
    "data = pd.read_csv(smiles_5R83_core_path)\n",
    "\n",
    "# take only 100\n",
    "smiles = data.Smiles.to_list()[:200]\n",
    "\n",
    "# here we add Smiles which should already have been matched\n",
    "# to the scaffold (rdkit Mol.HasSubstructureMatch)\n",
    "cs.add_smiles(smiles)"
   ]
  },
  {
   "cell_type": "code",
   "execution_count": null,
   "id": "86ad3ef9",
   "metadata": {},
   "outputs": [],
   "source": [
    "# configure manually 5 cases\n",
    "cs.df.loc[0, (\"score\", \"Training\")] = 3.248, True\n",
    "cs.df.loc[1, (\"score\", \"Training\")] = 3.572, True\n",
    "cs.df.loc[2, (\"score\", \"Training\")] = 3.687, True\n",
    "cs.df.loc[3, (\"score\", \"Training\")] = 3.492, True\n",
    "cs.df.loc[4, (\"score\", \"Training\")] = 3.208, True"
   ]
  },
  {
   "cell_type": "markdown",
   "id": "4573bdb4",
   "metadata": {},
   "source": [
    "# Active Learning"
   ]
  },
  {
   "cell_type": "markdown",
   "id": "b18c6b52",
   "metadata": {},
   "source": [
    "## Warning! Please change the logger in order to see what is happening inside of ChemSpace.evaluate. There is too much info to output it into the screen ."
   ]
  },
  {
   "cell_type": "code",
   "execution_count": null,
   "id": "a85fa6b5",
   "metadata": {},
   "outputs": [],
   "source": [
    "from fegrow.al import Model, Query"
   ]
  },
  {
   "cell_type": "code",
   "execution_count": null,
   "id": "b34bc9df",
   "metadata": {},
   "outputs": [],
   "source": [
    "# This is the default configuration\n",
    "cs.model = Model.gaussian_process()\n",
    "cs.query = Query.Greedy()\n",
    "\n",
    "cs.active_learning(2)"
   ]
  },
  {
   "cell_type": "code",
   "execution_count": null,
   "id": "ccf6e7ce",
   "metadata": {},
   "outputs": [],
   "source": [
    "cs.query = Query.UCB(beta=10)\n",
    "cs.active_learning(2)"
   ]
  },
  {
   "cell_type": "code",
   "execution_count": null,
   "id": "9bd86ab2",
   "metadata": {},
   "outputs": [],
   "source": [
    "# The query methods available in modAL.acquisition are made available, these include\n",
    "# Query.greedy(), \n",
    "# Query.PI(tradeoff=0) - highest probability of improvement\n",
    "# Query.EI(tradeoff=0) - highest expected improvement\n",
    "# Query.UCB(beta=1) - highest upper confidence bound (employes modAL.models.BayesianOptimizer)\n",
    "\n",
    "# Models include the scikit:\n",
    "# Model.linear()\n",
    "# Model.elastic_net()\n",
    "# Model.random_forest()\n",
    "# Model.gradient_boosting_regressor()\n",
    "# Model.mlp_regressor()\n",
    "\n",
    "# Model.gaussian_process()  # uses a TanimotoKernel by default, meaning that it\n",
    "#                           # compares the fingerprints of all the training dataset\n",
    "#                           # with the cases not yet studied, which can be expensive\n",
    "#                           # computationally\n",
    "\n",
    "cs.model = Model.linear()\n",
    "cs.query = Query.Greedy()\n",
    "cs.active_learning()"
   ]
  }
 ],
 "metadata": {
  "kernelspec": {
   "display_name": "fegrow",
   "language": "python",
   "name": "fegrow"
  },
  "language_info": {
   "codemirror_mode": {
    "name": "ipython",
    "version": 3
   },
   "file_extension": ".py",
   "mimetype": "text/x-python",
   "name": "python",
   "nbconvert_exporter": "python",
   "pygments_lexer": "ipython3",
   "version": "3.10.10"
  }
 },
 "nbformat": 4,
 "nbformat_minor": 5
}
