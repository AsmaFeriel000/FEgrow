{
 "cells": [
  {
   "cell_type": "markdown",
   "id": "9c4c7edd",
   "metadata": {},
   "source": [
    "# FEgrow: An Open-Source Molecular Builder and Free Energy Preparation Workflow\n",
    "\n",
    "**Authors: Mateusz K Bieniek, Ben Cree, Rachael Pirie, Joshua T. Horton, Natalie J. Tatum, Daniel J. Cole**"
   ]
  },
  {
   "cell_type": "markdown",
   "id": "ba86bf5e",
   "metadata": {},
   "source": [
    "## Overview\n",
    "\n",
    "Building and scoring molecules can be further streamlined by employing our established protocol. Here we show how to quickly build a library and score the entire library. "
   ]
  },
  {
   "cell_type": "code",
   "execution_count": null,
   "id": "10a1f1b0",
   "metadata": {},
   "outputs": [],
   "source": [
    "import pandas as pd\n",
    "import prody\n",
    "from rdkit import Chem\n",
    "\n",
    "import fegrow\n",
    "from fegrow import ChemSpace\n",
    "\n",
    "from fegrow.testing import core_5R83_path, smiles_5R83_core_path, rec_5R83_path"
   ]
  },
  {
   "cell_type": "markdown",
   "id": "cd53ff25",
   "metadata": {},
   "source": [
    "# Prepare the ligand template"
   ]
  },
  {
   "cell_type": "code",
   "execution_count": null,
   "id": "b8c3547f",
   "metadata": {},
   "outputs": [],
   "source": [
    "scaffold = Chem.SDMolSupplier(core_5R83_path)[0]"
   ]
  },
  {
   "cell_type": "markdown",
   "id": "6f36f867",
   "metadata": {},
   "source": [
    "As we are using already prepared Smiles that have the scaffold as a substructure, it is not needed to set any growing vector. "
   ]
  },
  {
   "cell_type": "code",
   "execution_count": null,
   "id": "538b49cb",
   "metadata": {},
   "outputs": [],
   "source": [
    "# create the chemical space\n",
    "cs = ChemSpace()"
   ]
  },
  {
   "cell_type": "code",
   "execution_count": null,
   "id": "689d4e59",
   "metadata": {},
   "outputs": [],
   "source": [
    "# we're not growing the scaffold, we're superimposing bigger molecules on it\n",
    "cs.add_scaffold(scaffold)\n",
    "cs.add_protein(rec_5R83_path)"
   ]
  },
  {
   "cell_type": "code",
   "execution_count": null,
   "id": "dd55c729",
   "metadata": {},
   "outputs": [],
   "source": [
    "print(rec_5R83_path)"
   ]
  },
  {
   "cell_type": "code",
   "execution_count": null,
   "id": "7ac25cae",
   "metadata": {},
   "outputs": [],
   "source": [
    "# load 50k Smiles\n",
    "smiles = pd.read_csv(smiles_5R83_core_path).Smiles.to_list()\n",
    "\n",
    "# take only 100\n",
    "smiles = smiles[:100]"
   ]
  },
  {
   "cell_type": "code",
   "execution_count": null,
   "id": "90f0a0d0",
   "metadata": {},
   "outputs": [],
   "source": [
    "# here we add Smiles which should already have been matched\n",
    "# to the scaffold (rdkit Mol.HasSubstructureMatch)\n",
    "cs.add_smiles(smiles)"
   ]
  },
  {
   "cell_type": "code",
   "execution_count": null,
   "id": "86ad3ef9",
   "metadata": {},
   "outputs": [],
   "source": [
    "cs"
   ]
  },
  {
   "cell_type": "markdown",
   "id": "8a98654a",
   "metadata": {},
   "source": [
    "## Warning! Please change the logger in order to see what is happening inside of ChemSpace.evaluate. There is too much info to output it into the screen ."
   ]
  },
  {
   "cell_type": "code",
   "execution_count": null,
   "id": "63186924",
   "metadata": {},
   "outputs": [],
   "source": [
    "# evaluate the two first frames with indices 0 and 1\n",
    "cs.evaluate([0,1])"
   ]
  },
  {
   "cell_type": "code",
   "execution_count": null,
   "id": "e2e3ec75",
   "metadata": {},
   "outputs": [],
   "source": [
    "# you can save the entire ChemSpace into an .SDF file, which can be used to recover ChemSpace\n",
    "#cs.to_sdf(\"cs_optimised_molecules.sdf\")\n",
    "\n",
    "# or access the molecules directly\n",
    "#cs[0].to_file(\"best_conformers0.pdb\") "
   ]
  },
  {
   "cell_type": "code",
   "execution_count": null,
   "id": "fad77a7a",
   "metadata": {},
   "outputs": [],
   "source": [
    "# recreate the chemical space\n",
    "#cs = ChemSpace.from_sdf(\"cs_optimised_molecules.sdf\")"
   ]
  },
  {
   "cell_type": "code",
   "execution_count": null,
   "id": "a4766b3d-f6d0-4c17-bdb0-55696a12e7af",
   "metadata": {},
   "outputs": [],
   "source": [
    "# search the Enamine database for the best 3 scoring molecules in your chemical space \n",
    "# and enrich your chemical space by adding them to the chemical space\n",
    "# (relies on https://sw.docking.org/)\n",
    "# cs.add_enamine_molecules(3)"
   ]
  }
 ],
 "metadata": {
  "kernelspec": {
   "display_name": "fegrow",
   "language": "python",
   "name": "fegrow"
  },
  "language_info": {
   "codemirror_mode": {
    "name": "ipython",
    "version": 3
   },
   "file_extension": ".py",
   "mimetype": "text/x-python",
   "name": "python",
   "nbconvert_exporter": "python",
   "pygments_lexer": "ipython3",
   "version": "3.10.10"
  }
 },
 "nbformat": 4,
 "nbformat_minor": 5
}
