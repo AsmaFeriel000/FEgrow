{
 "cells": [
  {
   "cell_type": "markdown",
   "id": "9c4c7edd",
   "metadata": {},
   "source": [
    "# 5: Chemspace streamlined\n",
    "\n",
    "**Authors: Mateusz K Bieniek, Ben Cree, Rachael Pirie, Joshua T. Horton, Natalie J. Tatum, Daniel J. Cole**"
   ]
  },
  {
   "cell_type": "markdown",
   "id": "ba86bf5e",
   "metadata": {},
   "source": [
    "## Overview\n",
    "\n",
    "Building and scoring molecules can be further streamlined by employing our established protocol. Here we show how to quickly build a library and score the entire library. "
   ]
  },
  {
   "cell_type": "code",
   "execution_count": null,
   "id": "10a1f1b0",
   "metadata": {},
   "outputs": [],
   "source": [
    "import prody\n",
    "from rdkit import Chem\n",
    "\n",
    "import fegrow\n",
    "from fegrow import ChemSpace, Linkers, RGroups\n",
    "\n",
    "rgroups = RGroups()\n",
    "linkers = Linkers()"
   ]
  },
  {
   "cell_type": "markdown",
   "id": "cd53ff25",
   "metadata": {},
   "source": [
    "# Prepare the ligand template"
   ]
  },
  {
   "cell_type": "markdown",
   "id": "0affb666",
   "metadata": {},
   "source": [
    "The provided core structure `lig.pdb` has been extracted from a crystal structure of Mpro in complex with compound **4** from the Jorgensen study (PDB: 7L10), and a Cl atom has been removed to allow growth into the S3/S4 pocket. The template structure of the ligand is protonated with [Open Babel](http://openbabel.org/wiki/Main_Page):"
   ]
  },
  {
   "cell_type": "code",
   "execution_count": null,
   "id": "b8c3547f",
   "metadata": {},
   "outputs": [],
   "source": [
    "init_mol = Chem.SDMolSupplier(\"sarscov2/mini.sdf\", removeHs=False)[0]\n",
    "\n",
    "# get the FEgrow representation of the rdkit Mol\n",
    "scaffold = fegrow.RMol(init_mol)"
   ]
  },
  {
   "cell_type": "code",
   "execution_count": null,
   "id": "9a7309b1",
   "metadata": {},
   "outputs": [],
   "source": [
    "# Show the 2D (with indices) representation of the core. This is used to select the desired growth vector.\n",
    "scaffold.rep2D(idx=True, size=(500, 500))"
   ]
  },
  {
   "cell_type": "markdown",
   "id": "6f36f867",
   "metadata": {},
   "source": [
    "Using the 2D drawing, select an index for the growth vector. Note that it is currently only possible to grow from hydrogen atom positions. In this case, we are selecting the hydrogen atom labelled H:40 to enable growth into the S3/S4 pocket of Mpro."
   ]
  },
  {
   "cell_type": "code",
   "execution_count": null,
   "id": "af6bc417",
   "metadata": {},
   "outputs": [],
   "source": [
    "# specify the connecting point\n",
    "scaffold.GetAtomWithIdx(8).SetAtomicNum(0)"
   ]
  },
  {
   "cell_type": "code",
   "execution_count": null,
   "id": "538b49cb",
   "metadata": {},
   "outputs": [],
   "source": [
    "# create the chemical space\n",
    "cs = ChemSpace()"
   ]
  },
  {
   "cell_type": "code",
   "execution_count": null,
   "id": "689d4e59",
   "metadata": {},
   "outputs": [],
   "source": [
    "cs.add_scaffold(scaffold)"
   ]
  },
  {
   "cell_type": "markdown",
   "id": "dd712757",
   "metadata": {},
   "source": [
    "# Build a quick library"
   ]
  },
  {
   "cell_type": "code",
   "execution_count": null,
   "id": "94cea06a",
   "metadata": {},
   "outputs": [],
   "source": [
    "# building molecules by attaching the most frequently used 5 R-groups\n",
    "cs.add_rgroups(rgroups.Mol[:3].to_list())\n",
    "\n",
    "# build more molecules by combining the linkers and R-groups\n",
    "cs.add_rgroups(linkers.Mol[:3].to_list(), rgroups.Mol[:3].to_list())\n",
    "cs"
   ]
  },
  {
   "cell_type": "markdown",
   "id": "e2015e8c",
   "metadata": {},
   "source": [
    "### Prepare the protein"
   ]
  },
  {
   "cell_type": "markdown",
   "id": "54a2ab68",
   "metadata": {},
   "source": [
    "The protein-ligand complex structure is downloaded, and [PDBFixer](https://github.com/openmm/pdbfixer) is used to protonate the protein, and perform other simple repair:"
   ]
  },
  {
   "cell_type": "code",
   "execution_count": null,
   "id": "b5667599",
   "metadata": {},
   "outputs": [],
   "source": [
    "# get the protein-ligand complex structure\n",
    "!wget -nc https://files.rcsb.org/download/7L10.pdb\n",
    "\n",
    "# load the complex with the ligand\n",
    "sys = prody.parsePDB(\"7L10.pdb\")\n",
    "\n",
    "# remove any unwanted molecules\n",
    "rec = sys.select(\"not (nucleic or hetatm or water)\")\n",
    "\n",
    "# save the processed protein\n",
    "prody.writePDB(\"rec.pdb\", rec)\n",
    "\n",
    "# fix the receptor file (missing residues, protonation, etc)\n",
    "fegrow.fix_receptor(\"rec.pdb\", \"rec_final.pdb\")\n",
    "\n",
    "# load back into prody\n",
    "rec_final = prody.parsePDB(\"rec_final.pdb\")"
   ]
  },
  {
   "cell_type": "code",
   "execution_count": null,
   "id": "4361f4e0",
   "metadata": {},
   "outputs": [],
   "source": [
    "# make your chemical space aware of your receptor (important for the next step! )\n",
    "cs.add_protein(\"rec_final.pdb\")"
   ]
  },
  {
   "cell_type": "code",
   "execution_count": null,
   "id": "8f10edf0",
   "metadata": {},
   "outputs": [],
   "source": [
    "# build and score the entire chemical space\n",
    "cs.evaluate()"
   ]
  },
  {
   "cell_type": "code",
   "execution_count": null,
   "id": "489f53c3",
   "metadata": {},
   "outputs": [],
   "source": [
    "# verify that the score has been computed\n",
    "cs"
   ]
  },
  {
   "cell_type": "code",
   "execution_count": null,
   "id": "9a455aae",
   "metadata": {},
   "outputs": [],
   "source": [
    "# access the Pandas dataframe directly\n",
    "cs.df"
   ]
  },
  {
   "cell_type": "code",
   "execution_count": null,
   "id": "e2e3ec75",
   "metadata": {},
   "outputs": [],
   "source": [
    "# you can save the entire ChemSpace into an .SDF file, which can be used to recover ChemSpace\n",
    "cs.to_sdf(\"cs_optimised_molecules.sdf\")\n",
    "\n",
    "# or access the molecules directly\n",
    "cs[0].to_file(\"best_conformers0.pdb\")"
   ]
  },
  {
   "cell_type": "code",
   "execution_count": null,
   "id": "fad77a7a",
   "metadata": {},
   "outputs": [],
   "source": [
    "# recreate the chemical space\n",
    "cs = ChemSpace.from_sdf(\"cs_optimised_molecules.sdf\")"
   ]
  },
  {
   "cell_type": "code",
   "execution_count": null,
   "id": "a4766b3d-f6d0-4c17-bdb0-55696a12e7af",
   "metadata": {},
   "outputs": [],
   "source": [
    "# search the Enamine database for the best 3 scoring molecules in your chemical space\n",
    "# and enrich your chemical space by adding them to the chemical space\n",
    "# (relies on https://sw.docking.org/)\n",
    "# cs.add_enamine_molecules(3)"
   ]
  }
 ],
 "metadata": {
  "kernelspec": {
   "display_name": "test",
   "language": "python",
   "name": "test"
  },
  "language_info": {
   "codemirror_mode": {
    "name": "ipython",
    "version": 3
   },
   "file_extension": ".py",
   "mimetype": "text/x-python",
   "name": "python",
   "nbconvert_exporter": "python",
   "pygments_lexer": "ipython3",
   "version": "3.11.11"
  }
 },
 "nbformat": 4,
 "nbformat_minor": 5
}
