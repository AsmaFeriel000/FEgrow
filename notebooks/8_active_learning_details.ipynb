{
 "cells": [
  {
   "cell_type": "markdown",
   "id": "9c4c7edd",
   "metadata": {},
   "source": [
    "# FEgrow: An Open-Source Molecular Builder and Free Energy Preparation Workflow\n",
    "\n",
    "**Authors: Mateusz K Bieniek, Ben Cree, Rachael Pirie, Joshua T. Horton, Natalie J. Tatum, Daniel J. Cole**"
   ]
  },
  {
   "cell_type": "markdown",
   "id": "ba86bf5e",
   "metadata": {},
   "source": [
    "## Overview\n",
    "Configure the Active Learning"
   ]
  },
  {
   "cell_type": "code",
   "execution_count": 1,
   "id": "10a1f1b0",
   "metadata": {},
   "outputs": [],
   "source": [
    "import pandas as pd\n",
    "import prody\n",
    "from rdkit import Chem\n",
    "\n",
    "import fegrow\n",
    "from fegrow import ChemSpace\n",
    "\n",
    "from fegrow.testing import core_5R83_path, smiles_5R83_core_path, rec_5R83_path"
   ]
  },
  {
   "cell_type": "code",
   "execution_count": 2,
   "id": "538b49cb",
   "metadata": {},
   "outputs": [
    {
     "name": "stdout",
     "output_type": "stream",
     "text": [
      "Dask can be watched on http://192.168.178.20:8989/status\n"
     ]
    },
    {
     "name": "stderr",
     "output_type": "stream",
     "text": [
      "/home/dresio/code/fegrow/fegrow/package.py:792: UserWarning: The template does not have an attachement (Atoms with index 0, or in case of Smiles the * character. )\n",
      "  warnings.warn(\"The template does not have an attachement (Atoms with index 0, \"\n"
     ]
    }
   ],
   "source": [
    "# create the chemical space\n",
    "cs = ChemSpace()\n",
    "# we're not growing the scaffold, we're superimposing bigger molecules on it\n",
    "cs.add_scaffold(Chem.SDMolSupplier(core_5R83_path)[0])\n",
    "cs.add_protein(rec_5R83_path)"
   ]
  },
  {
   "cell_type": "code",
   "execution_count": 3,
   "id": "14c5f301",
   "metadata": {},
   "outputs": [],
   "source": [
    "# switch on the caching\n",
    "cs.set_dask_caching()"
   ]
  },
  {
   "cell_type": "code",
   "execution_count": 4,
   "id": "7ac25cae",
   "metadata": {},
   "outputs": [],
   "source": [
    "# load 50k Smiles\n",
    "data = pd.read_csv(smiles_5R83_core_path)\n",
    "\n",
    "# take only 100\n",
    "smiles = data.Smiles.to_list()[:200]\n",
    "\n",
    "# here we add Smiles which should already have been matched\n",
    "# to the scaffold (rdkit Mol.HasSubstructureMatch)\n",
    "cs.add_smiles(smiles)"
   ]
  },
  {
   "cell_type": "code",
   "execution_count": 5,
   "id": "86ad3ef9",
   "metadata": {},
   "outputs": [],
   "source": [
    "# configure manually 5 cases\n",
    "cs.df.loc[0, (\"score\", \"Training\")] = 3.248, True\n",
    "cs.df.loc[1, (\"score\", \"Training\")] = 3.572, True\n",
    "cs.df.loc[2, (\"score\", \"Training\")] = 3.687, True\n",
    "cs.df.loc[3, (\"score\", \"Training\")] = 3.492, True\n",
    "cs.df.loc[4, (\"score\", \"Training\")] = 3.208, True"
   ]
  },
  {
   "cell_type": "markdown",
   "id": "4573bdb4",
   "metadata": {},
   "source": [
    "# Active Learning"
   ]
  },
  {
   "cell_type": "markdown",
   "id": "b18c6b52",
   "metadata": {},
   "source": [
    "## Warning! Please change the logger in order to see what is happening inside of ChemSpace.evaluate. There is too much info to output it into the screen ."
   ]
  },
  {
   "cell_type": "code",
   "execution_count": 6,
   "id": "a85fa6b5",
   "metadata": {},
   "outputs": [],
   "source": [
    "from fegrow.al import Model, Query"
   ]
  },
  {
   "cell_type": "code",
   "execution_count": 7,
   "id": "b34bc9df",
   "metadata": {},
   "outputs": [
    {
     "data": {
      "text/html": [
       "<div>\n",
       "<style scoped>\n",
       "    .dataframe tbody tr th:only-of-type {\n",
       "        vertical-align: middle;\n",
       "    }\n",
       "\n",
       "    .dataframe tbody tr th {\n",
       "        vertical-align: top;\n",
       "    }\n",
       "\n",
       "    .dataframe thead th {\n",
       "        text-align: right;\n",
       "    }\n",
       "</style>\n",
       "<table border=\"1\" class=\"dataframe\">\n",
       "  <thead>\n",
       "    <tr style=\"text-align: right;\">\n",
       "      <th></th>\n",
       "      <th>Smiles</th>\n",
       "      <th>Mol</th>\n",
       "      <th>score</th>\n",
       "      <th>h</th>\n",
       "      <th>Training</th>\n",
       "      <th>enamine_searched</th>\n",
       "      <th>enamine_id</th>\n",
       "    </tr>\n",
       "  </thead>\n",
       "  <tbody>\n",
       "    <tr>\n",
       "      <th>178</th>\n",
       "      <td>[H]c1nc([H])c(N2C([H])([H])C([H])([H])C([H])([...</td>\n",
       "      <td>&lt;rdkit.Chem.rdchem.Mol object at 0x71e6b41d3d10&gt;</td>\n",
       "      <td>&lt;NA&gt;</td>\n",
       "      <td>&lt;NA&gt;</td>\n",
       "      <td>False</td>\n",
       "      <td>False</td>\n",
       "      <td>&lt;NA&gt;</td>\n",
       "    </tr>\n",
       "    <tr>\n",
       "      <th>135</th>\n",
       "      <td>[H]c1nc([H])c(N2C([H])([H])C([H])([H])C([H])(O...</td>\n",
       "      <td>&lt;rdkit.Chem.rdchem.Mol object at 0x71e6b41d2a40&gt;</td>\n",
       "      <td>&lt;NA&gt;</td>\n",
       "      <td>&lt;NA&gt;</td>\n",
       "      <td>False</td>\n",
       "      <td>False</td>\n",
       "      <td>&lt;NA&gt;</td>\n",
       "    </tr>\n",
       "  </tbody>\n",
       "</table>\n",
       "</div>"
      ],
      "text/plain": [
       "                                                Smiles  \\\n",
       "178  [H]c1nc([H])c(N2C([H])([H])C([H])([H])C([H])([...   \n",
       "135  [H]c1nc([H])c(N2C([H])([H])C([H])([H])C([H])(O...   \n",
       "\n",
       "                                                  Mol score     h  Training  \\\n",
       "178  <rdkit.Chem.rdchem.Mol object at 0x71e6b41d3d10>  <NA>  <NA>     False   \n",
       "135  <rdkit.Chem.rdchem.Mol object at 0x71e6b41d2a40>  <NA>  <NA>     False   \n",
       "\n",
       "     enamine_searched enamine_id  \n",
       "178             False       <NA>  \n",
       "135             False       <NA>  "
      ]
     },
     "execution_count": 7,
     "metadata": {},
     "output_type": "execute_result"
    }
   ],
   "source": [
    "# This is the default configuration\n",
    "cs.model = Model.gaussian_process()\n",
    "cs.query = Query.Greedy()\n",
    "\n",
    "cs.active_learning(2)"
   ]
  },
  {
   "cell_type": "code",
   "execution_count": 8,
   "id": "ccf6e7ce",
   "metadata": {},
   "outputs": [
    {
     "data": {
      "text/html": [
       "<div>\n",
       "<style scoped>\n",
       "    .dataframe tbody tr th:only-of-type {\n",
       "        vertical-align: middle;\n",
       "    }\n",
       "\n",
       "    .dataframe tbody tr th {\n",
       "        vertical-align: top;\n",
       "    }\n",
       "\n",
       "    .dataframe thead th {\n",
       "        text-align: right;\n",
       "    }\n",
       "</style>\n",
       "<table border=\"1\" class=\"dataframe\">\n",
       "  <thead>\n",
       "    <tr style=\"text-align: right;\">\n",
       "      <th></th>\n",
       "      <th>Smiles</th>\n",
       "      <th>Mol</th>\n",
       "      <th>score</th>\n",
       "      <th>h</th>\n",
       "      <th>Training</th>\n",
       "      <th>enamine_searched</th>\n",
       "      <th>enamine_id</th>\n",
       "      <th>regression</th>\n",
       "    </tr>\n",
       "  </thead>\n",
       "  <tbody>\n",
       "    <tr>\n",
       "      <th>178</th>\n",
       "      <td>[H]c1nc([H])c(N2C([H])([H])C([H])([H])C([H])([...</td>\n",
       "      <td>&lt;rdkit.Chem.rdchem.Mol object at 0x71e6b41d3d10&gt;</td>\n",
       "      <td>&lt;NA&gt;</td>\n",
       "      <td>&lt;NA&gt;</td>\n",
       "      <td>False</td>\n",
       "      <td>False</td>\n",
       "      <td>&lt;NA&gt;</td>\n",
       "      <td>1.431</td>\n",
       "    </tr>\n",
       "    <tr>\n",
       "      <th>179</th>\n",
       "      <td>[H]c1nc([H])c([C@]2([H])N(OC([H])([H])[H])C([H...</td>\n",
       "      <td>&lt;rdkit.Chem.rdchem.Mol object at 0x71e6b41d3d80&gt;</td>\n",
       "      <td>&lt;NA&gt;</td>\n",
       "      <td>&lt;NA&gt;</td>\n",
       "      <td>False</td>\n",
       "      <td>False</td>\n",
       "      <td>&lt;NA&gt;</td>\n",
       "      <td>1.480</td>\n",
       "    </tr>\n",
       "  </tbody>\n",
       "</table>\n",
       "</div>"
      ],
      "text/plain": [
       "                                                Smiles  \\\n",
       "178  [H]c1nc([H])c(N2C([H])([H])C([H])([H])C([H])([...   \n",
       "179  [H]c1nc([H])c([C@]2([H])N(OC([H])([H])[H])C([H...   \n",
       "\n",
       "                                                  Mol score     h  Training  \\\n",
       "178  <rdkit.Chem.rdchem.Mol object at 0x71e6b41d3d10>  <NA>  <NA>     False   \n",
       "179  <rdkit.Chem.rdchem.Mol object at 0x71e6b41d3d80>  <NA>  <NA>     False   \n",
       "\n",
       "     enamine_searched enamine_id  regression  \n",
       "178             False       <NA>       1.431  \n",
       "179             False       <NA>       1.480  "
      ]
     },
     "execution_count": 8,
     "metadata": {},
     "output_type": "execute_result"
    }
   ],
   "source": [
    "cs.query = Query.UCB(beta=10)\n",
    "cs.active_learning(2)"
   ]
  },
  {
   "cell_type": "code",
   "execution_count": 9,
   "id": "9bd86ab2",
   "metadata": {},
   "outputs": [
    {
     "data": {
      "text/html": [
       "<div>\n",
       "<style scoped>\n",
       "    .dataframe tbody tr th:only-of-type {\n",
       "        vertical-align: middle;\n",
       "    }\n",
       "\n",
       "    .dataframe tbody tr th {\n",
       "        vertical-align: top;\n",
       "    }\n",
       "\n",
       "    .dataframe thead th {\n",
       "        text-align: right;\n",
       "    }\n",
       "</style>\n",
       "<table border=\"1\" class=\"dataframe\">\n",
       "  <thead>\n",
       "    <tr style=\"text-align: right;\">\n",
       "      <th></th>\n",
       "      <th>Smiles</th>\n",
       "      <th>Mol</th>\n",
       "      <th>score</th>\n",
       "      <th>h</th>\n",
       "      <th>Training</th>\n",
       "      <th>enamine_searched</th>\n",
       "      <th>enamine_id</th>\n",
       "      <th>regression</th>\n",
       "    </tr>\n",
       "  </thead>\n",
       "  <tbody>\n",
       "    <tr>\n",
       "      <th>15</th>\n",
       "      <td>[H]OC([H])([H])C([H])([H])c1c([H])nc([H])c([H]...</td>\n",
       "      <td>&lt;rdkit.Chem.rdchem.Mol object at 0x71e6b41af530&gt;</td>\n",
       "      <td>&lt;NA&gt;</td>\n",
       "      <td>&lt;NA&gt;</td>\n",
       "      <td>False</td>\n",
       "      <td>False</td>\n",
       "      <td>&lt;NA&gt;</td>\n",
       "      <td>2.505</td>\n",
       "    </tr>\n",
       "  </tbody>\n",
       "</table>\n",
       "</div>"
      ],
      "text/plain": [
       "                                               Smiles  \\\n",
       "15  [H]OC([H])([H])C([H])([H])c1c([H])nc([H])c([H]...   \n",
       "\n",
       "                                                 Mol score     h  Training  \\\n",
       "15  <rdkit.Chem.rdchem.Mol object at 0x71e6b41af530>  <NA>  <NA>     False   \n",
       "\n",
       "    enamine_searched enamine_id  regression  \n",
       "15             False       <NA>       2.505  "
      ]
     },
     "execution_count": 9,
     "metadata": {},
     "output_type": "execute_result"
    }
   ],
   "source": [
    "# The query methods available in modAL.acquisition are made available, these include\n",
    "# Query.greedy(), \n",
    "# Query.PI(tradeoff=0) - highest probability of improvement\n",
    "# Query.EI(tradeoff=0) - highest expected improvement\n",
    "# Query.UCB(beta=1) - highest upper confidence bound (employes modAL.models.BayesianOptimizer)\n",
    "\n",
    "# Models include the scikit:\n",
    "# Model.linear()\n",
    "# Model.elastic_net()\n",
    "# Model.random_forest()\n",
    "# Model.gradient_boosting_regressor()\n",
    "# Model.mlp_regressor()\n",
    "\n",
    "# Model.gaussian_process()  # uses a TanimotoKernel by default, meaning that it\n",
    "#                           # compares the fingerprints of all the training dataset\n",
    "#                           # with the cases not yet studied, which can be expensive\n",
    "#                           # computationally\n",
    "\n",
    "cs.model = Model.linear()\n",
    "cs.query = Query.Greedy()\n",
    "cs.active_learning()"
   ]
  },
  {
   "cell_type": "markdown",
   "id": "fe2e12ba",
   "metadata": {},
   "source": [
    "### Search the Enamine database usuing the sw.docking.org (check if online)\n",
    "Please note that you should check whether you have the permission to use this interface. \n",
    "Furthermore, you are going to need the pip package `pydockingorg`"
   ]
  },
  {
   "cell_type": "code",
   "execution_count": 10,
   "id": "2be4f486",
   "metadata": {},
   "outputs": [
    {
     "name": "stdout",
     "output_type": "stream",
     "text": [
      "Querying Enamine REAL. \n"
     ]
    },
    {
     "name": "stderr",
     "output_type": "stream",
     "text": [
      "/home/dresio/software/mambaforge/envs/fegrow/lib/python3.10/site-packages/pydockingorg/dockingorg.py:118: UserWarning: Parsing molecules from a hitlist  has failed due to: Expecting value: line 1 column 1 (char 0)\n",
      "  warnings.warn(\"Parsing molecules from a hitlist  has failed due to: \" + str(E))\n"
     ]
    },
    {
     "name": "stdout",
     "output_type": "stream",
     "text": [
      "Found 0 in 6.492062091827393\n",
      "Enamine returned with 0 rows in 6.5s.\n",
      "results Empty DataFrame\n",
      "Columns: []\n",
      "Index: []\n"
     ]
    },
    {
     "ename": "type",
     "evalue": "'DataFrame' object has no attribute 'hitSmiles'",
     "output_type": "error",
     "traceback": [
      "\u001b[0;31m---------------------------------------------------------------------------\u001b[0m",
      "\u001b[0;31mAttributeError\u001b[0m                            Traceback (most recent call last)",
      "\u001b[0;32m/tmp/ipykernel_37160/3669491610.py\u001b[0m in \u001b[0;36m?\u001b[0;34m()\u001b[0m\n\u001b[1;32m      1\u001b[0m \u001b[0;31m# search only molecules similar to the best molecule score-wise (n_best)\u001b[0m\u001b[0;34m\u001b[0m\u001b[0;34m\u001b[0m\u001b[0m\n\u001b[1;32m      2\u001b[0m \u001b[0;31m# and return up to 5\u001b[0m\u001b[0;34m\u001b[0m\u001b[0;34m\u001b[0m\u001b[0m\n\u001b[0;32m----> 3\u001b[0;31m \u001b[0mnew_enamines\u001b[0m \u001b[0;34m=\u001b[0m \u001b[0mcs\u001b[0m\u001b[0;34m.\u001b[0m\u001b[0madd_enamine_molecules\u001b[0m\u001b[0;34m(\u001b[0m\u001b[0mn_best\u001b[0m\u001b[0;34m=\u001b[0m\u001b[0;36m1\u001b[0m\u001b[0;34m,\u001b[0m \u001b[0mresults_per_search\u001b[0m\u001b[0;34m=\u001b[0m\u001b[0;36m10\u001b[0m\u001b[0;34m)\u001b[0m\u001b[0;34m\u001b[0m\u001b[0;34m\u001b[0m\u001b[0m\n\u001b[0m",
      "\u001b[0;32m~/code/fegrow/fegrow/package.py\u001b[0m in \u001b[0;36m?\u001b[0;34m(self, n_best, results_per_search, remove_scaffold_h)\u001b[0m\n\u001b[1;32m   1156\u001b[0m \u001b[0;34m\u001b[0m\u001b[0m\n\u001b[1;32m   1157\u001b[0m         \u001b[0mstart\u001b[0m \u001b[0;34m=\u001b[0m \u001b[0mtime\u001b[0m\u001b[0;34m.\u001b[0m\u001b[0mtime\u001b[0m\u001b[0;34m(\u001b[0m\u001b[0;34m)\u001b[0m\u001b[0;34m\u001b[0m\u001b[0;34m\u001b[0m\u001b[0m\n\u001b[1;32m   1158\u001b[0m         \u001b[0;31m# protonate and check for scaffold\u001b[0m\u001b[0;34m\u001b[0m\u001b[0;34m\u001b[0m\u001b[0m\n\u001b[1;32m   1159\u001b[0m         delayed_protonations = [DaskTasks.obabel_protonate(smi.rsplit(maxsplit=1)[0])\n\u001b[0;32m-> 1160\u001b[0;31m                                 for smi in results.hitSmiles.values]\n\u001b[0m\u001b[1;32m   1161\u001b[0m         jobs = self.dask_client.compute([DaskTasks.scaffold_check(smih, dask_scaffold)\n\u001b[1;32m   1162\u001b[0m                                          for smih in delayed_protonations])\n\u001b[1;32m   1163\u001b[0m         \u001b[0mscaffold_test_results\u001b[0m \u001b[0;34m=\u001b[0m \u001b[0;34m[\u001b[0m\u001b[0mjob\u001b[0m\u001b[0;34m.\u001b[0m\u001b[0mresult\u001b[0m\u001b[0;34m(\u001b[0m\u001b[0;34m)\u001b[0m \u001b[0;32mfor\u001b[0m \u001b[0mjob\u001b[0m \u001b[0;32min\u001b[0m \u001b[0mjobs\u001b[0m\u001b[0;34m]\u001b[0m\u001b[0;34m\u001b[0m\u001b[0;34m\u001b[0m\u001b[0m\n",
      "\u001b[0;32m~/software/mambaforge/envs/fegrow/lib/python3.10/site-packages/pandas/core/generic.py\u001b[0m in \u001b[0;36m?\u001b[0;34m(self, name)\u001b[0m\n\u001b[1;32m   5985\u001b[0m             \u001b[0;32mand\u001b[0m \u001b[0mname\u001b[0m \u001b[0;32mnot\u001b[0m \u001b[0;32min\u001b[0m \u001b[0mself\u001b[0m\u001b[0;34m.\u001b[0m\u001b[0m_accessors\u001b[0m\u001b[0;34m\u001b[0m\u001b[0;34m\u001b[0m\u001b[0m\n\u001b[1;32m   5986\u001b[0m             \u001b[0;32mand\u001b[0m \u001b[0mself\u001b[0m\u001b[0;34m.\u001b[0m\u001b[0m_info_axis\u001b[0m\u001b[0;34m.\u001b[0m\u001b[0m_can_hold_identifiers_and_holds_name\u001b[0m\u001b[0;34m(\u001b[0m\u001b[0mname\u001b[0m\u001b[0;34m)\u001b[0m\u001b[0;34m\u001b[0m\u001b[0;34m\u001b[0m\u001b[0m\n\u001b[1;32m   5987\u001b[0m         ):\n\u001b[1;32m   5988\u001b[0m             \u001b[0;32mreturn\u001b[0m \u001b[0mself\u001b[0m\u001b[0;34m[\u001b[0m\u001b[0mname\u001b[0m\u001b[0;34m]\u001b[0m\u001b[0;34m\u001b[0m\u001b[0;34m\u001b[0m\u001b[0m\n\u001b[0;32m-> 5989\u001b[0;31m         \u001b[0;32mreturn\u001b[0m \u001b[0mobject\u001b[0m\u001b[0;34m.\u001b[0m\u001b[0m__getattribute__\u001b[0m\u001b[0;34m(\u001b[0m\u001b[0mself\u001b[0m\u001b[0;34m,\u001b[0m \u001b[0mname\u001b[0m\u001b[0;34m)\u001b[0m\u001b[0;34m\u001b[0m\u001b[0;34m\u001b[0m\u001b[0m\n\u001b[0m",
      "\u001b[0;31mAttributeError\u001b[0m: 'DataFrame' object has no attribute 'hitSmiles'"
     ]
    }
   ],
   "source": [
    "# search only molecules similar to the best molecule score-wise (n_best)\n",
    "# and return up to 5\n",
    "new_enamines = cs.add_enamine_molecules(n_best=1, results_per_search=10)"
   ]
  },
  {
   "cell_type": "code",
   "execution_count": null,
   "id": "f73b7ae6",
   "metadata": {},
   "outputs": [],
   "source": [
    "new_enamines"
   ]
  }
 ],
 "metadata": {
  "kernelspec": {
   "display_name": "fegrow",
   "language": "python",
   "name": "fegrow"
  },
  "language_info": {
   "codemirror_mode": {
    "name": "ipython",
    "version": 3
   },
   "file_extension": ".py",
   "mimetype": "text/x-python",
   "name": "python",
   "nbconvert_exporter": "python",
   "pygments_lexer": "ipython3",
   "version": "3.10.10"
  }
 },
 "nbformat": 4,
 "nbformat_minor": 5
}
