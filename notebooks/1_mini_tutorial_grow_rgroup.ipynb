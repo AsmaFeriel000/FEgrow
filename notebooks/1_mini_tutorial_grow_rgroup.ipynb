{
 "cells": [
  {
   "cell_type": "markdown",
   "id": "9c4c7edd",
   "metadata": {},
   "source": [
    "# FEgrow: An Open-Source Molecular Builder and Free Energy Preparation Workflow\n",
    "\n",
    "**Authors: Mateusz K Bieniek, Ben Cree, Rachael Pirie, Joshua T. Horton, Natalie J. Tatum, Daniel J. Cole**\n",
    "\n",
    "* Add chemical functional group (R-groups) in user-defined positions\n",
    "* Output ADMET properties\n",
    "* Perform constrained optimisation\n",
    "* Score poses\n",
    "* Output structures for free energy calculations"
   ]
  },
  {
   "cell_type": "markdown",
   "id": "ba86bf5e",
   "metadata": {},
   "source": [
    "## Overview\n",
    "\n",
    "This notebook demonstrates the simplified `FEgrow` workflow for generating a new molecule with a common core for a specific binding site, via the addition of a user-defined R-group. \n",
    "\n",
    "These *de novo* ligand is then subjected to ADMET analysis. Valid conformers of the added R-group are enumerated, and optimised in the context of the receptor binding pocket, optionally using hybrid machine learning / molecular mechanics potentials (ML/MM).\n",
    "\n",
    "An ensemble of low energy conformers is generated for each ligand, and scored using the `gnina` convolutional neural network (CNN). Output structures are saved as `pdb` files ready for use in free energy calculations.\n",
    "\n",
    "The target for this tutorial is the main protease (Mpro) of SARS-CoV-2, and the core and receptor structures are taken from a [recent study by Jorgensen & co-workers](https://doi.org/10.1021/acscentsci.1c00039)."
   ]
  },
  {
   "cell_type": "code",
   "execution_count": null,
   "id": "10a1f1b0",
   "metadata": {},
   "outputs": [],
   "source": [
    "import prody\n",
    "from rdkit import Chem\n",
    "\n",
    "import fegrow"
   ]
  },
  {
   "cell_type": "markdown",
   "id": "cd53ff25",
   "metadata": {},
   "source": [
    "# Prepare the ligand scaffold"
   ]
  },
  {
   "cell_type": "code",
   "execution_count": null,
   "id": "b8c3547f",
   "metadata": {},
   "outputs": [],
   "source": [
    "init_mol = Chem.SDMolSupplier('sarscov2/mini.sdf', removeHs=False)[0]\n",
    "\n",
    "# get the FEgrow representation of the rdkit Mol\n",
    "scaffold = fegrow.RMol(init_mol)"
   ]
  },
  {
   "cell_type": "markdown",
   "id": "e27c172f",
   "metadata": {},
   "source": [
    "Show the 2D (with indices) representation of the core. This is used to select the desired growth vector."
   ]
  },
  {
   "cell_type": "code",
   "execution_count": null,
   "id": "9a7309b1",
   "metadata": {},
   "outputs": [],
   "source": [
    "scaffold.rep2D(idx=True, size=(500, 500))"
   ]
  },
  {
   "cell_type": "markdown",
   "id": "6f36f867",
   "metadata": {},
   "source": [
    "Using the 2D drawing, select an index for the growth vector. In this case, we are selecting the hydrogen atom labelled H:8"
   ]
  },
  {
   "cell_type": "code",
   "execution_count": null,
   "id": "af6bc417",
   "metadata": {},
   "outputs": [],
   "source": [
    "attachment_index = 8"
   ]
  },
  {
   "cell_type": "markdown",
   "id": "dd712757",
   "metadata": {},
   "source": [
    "# Add RGroup to your scaffold"
   ]
  },
  {
   "cell_type": "markdown",
   "id": "57599c23",
   "metadata": {},
   "source": [
    "In this tutorial, we show how one can create an R-group from Smiles"
   ]
  },
  {
   "cell_type": "code",
   "execution_count": null,
   "id": "e2ab2f78",
   "metadata": {},
   "outputs": [],
   "source": [
    "R_group_methanol = Chem.AddHs(Chem.MolFromSmiles('*CO'))\n",
    "R_group_methanol"
   ]
  },
  {
   "cell_type": "markdown",
   "id": "fb0efd86",
   "metadata": {},
   "source": [
    "# Build a new molecules"
   ]
  },
  {
   "cell_type": "code",
   "execution_count": null,
   "id": "56dc6755",
   "metadata": {},
   "outputs": [],
   "source": [
    "# we have to specify where the R-group should be attached using the attachment index\n",
    "rmol = fegrow.build_molecule(scaffold, R_group_methanol, attachment_index)"
   ]
  },
  {
   "cell_type": "code",
   "execution_count": null,
   "id": "bd91d6f8",
   "metadata": {},
   "outputs": [],
   "source": [
    "rmol"
   ]
  },
  {
   "cell_type": "code",
   "execution_count": null,
   "id": "7cd70172",
   "metadata": {},
   "outputs": [],
   "source": [
    "rmol.rep2D()"
   ]
  },
  {
   "cell_type": "code",
   "execution_count": null,
   "id": "8fca6f5f",
   "metadata": {},
   "outputs": [],
   "source": [
    "rmol.rep3D()"
   ]
  },
  {
   "cell_type": "markdown",
   "id": "579015f4",
   "metadata": {},
   "source": [
    "Once the ligands have been generated, they can be assessed for various ADMET properties, including Lipinksi rule of 5 properties, the presence of unwanted substructures or problematic functional groups, and synthetic accessibility."
   ]
  },
  {
   "cell_type": "code",
   "execution_count": null,
   "id": "c7feb871",
   "metadata": {},
   "outputs": [],
   "source": [
    "rmol.toxicity()"
   ]
  },
  {
   "cell_type": "markdown",
   "id": "96e85edd",
   "metadata": {},
   "source": [
    "A specified number of conformers (`num_conf`) is generated by using the RDKit [ETKDG algorithm](https://doi.org/10.1021/acs.jcim.5b00654). Conformers that are too similar to an existing structure are discarded. Empirically, we have found that `num_conf=200` gives an exhaustive search, and `num_conf=50` gives a reasonable, fast search, in most cases.\n",
    "\n",
    "If required, a third argument can be added `flexible=[0,1,...]`, which provides a list of additional atoms in the core that are allowed to be flexible. This is useful, for example, if growing from a methyl group and you would like the added R-group to freely rotate."
   ]
  },
  {
   "cell_type": "code",
   "execution_count": null,
   "id": "0c07ab01",
   "metadata": {},
   "outputs": [],
   "source": [
    "rmol.generate_conformers(num_conf=50, \n",
    "                          minimum_conf_rms=0.5, \n",
    "                          # flexible=[3, 18, 20])\n",
    "                        )"
   ]
  },
  {
   "cell_type": "markdown",
   "id": "e2015e8c",
   "metadata": {},
   "source": [
    "### Prepare the protein"
   ]
  },
  {
   "cell_type": "markdown",
   "id": "54a2ab68",
   "metadata": {},
   "source": [
    "The protein-ligand complex structure is downloaded, and [PDBFixer](https://github.com/openmm/pdbfixer) is used to protonate the protein, and perform other simple repair:"
   ]
  },
  {
   "cell_type": "code",
   "execution_count": null,
   "id": "b5667599",
   "metadata": {},
   "outputs": [],
   "source": [
    "# get the protein-ligand complex structure\n",
    "!wget -nc https://files.rcsb.org/download/7L10.pdb\n",
    "\n",
    "# load the complex with the ligand\n",
    "sys = prody.parsePDB('7L10.pdb')\n",
    "\n",
    "# remove any unwanted molecules\n",
    "rec = sys.select('not (nucleic or hetatm or water)')\n",
    "\n",
    "# save the processed protein\n",
    "prody.writePDB('rec.pdb', rec)\n",
    "\n",
    "# fix the receptor file (missing residues, protonation, etc)\n",
    "fegrow.fix_receptor(\"rec.pdb\", \"rec_final.pdb\")\n",
    "\n",
    "# load back into prody\n",
    "rec_final = prody.parsePDB(\"rec_final.pdb\")"
   ]
  },
  {
   "cell_type": "markdown",
   "id": "3460a39b",
   "metadata": {},
   "source": [
    "View enumerated conformers in complex with protein:"
   ]
  },
  {
   "cell_type": "code",
   "execution_count": null,
   "id": "9374e421",
   "metadata": {},
   "outputs": [],
   "source": [
    "rmol.rep3D(prody=rec_final)"
   ]
  },
  {
   "cell_type": "markdown",
   "id": "75fc77b7",
   "metadata": {},
   "source": [
    "Any conformers that clash with the protein (any atom-atom distance less than 1 Angstrom), are removed."
   ]
  },
  {
   "cell_type": "code",
   "execution_count": null,
   "id": "858739ac",
   "metadata": {},
   "outputs": [],
   "source": [
    "rmol.remove_clashing_confs(rec_final)"
   ]
  },
  {
   "cell_type": "code",
   "execution_count": null,
   "id": "d30c0540",
   "metadata": {},
   "outputs": [],
   "source": [
    "rmol.rep3D(prody=rec_final)"
   ]
  },
  {
   "cell_type": "markdown",
   "id": "066014d6",
   "metadata": {},
   "source": [
    "### Optimise conformers in context of protein"
   ]
  },
  {
   "cell_type": "markdown",
   "id": "b02e8d1b",
   "metadata": {},
   "source": [
    "The remaining conformers are optimised using hybrid machine learning / molecular mechanics (ML/MM), using the [ANI2x](https://doi.org/10.1021/acs.jctc.0c00121) neural nework potential for the ligand energetics (as long as it contains only the atoms H, C, N, O, F, S, Cl). Note that the Open Force Field [Parsley](https://doi.org/10.1021/acs.jctc.1c00571) force field is used for intermolecular interactions with the receptor.\n",
    "\n",
    "`sigma_scale_factor`: is used to scale the Lennard-Jones radii of the atoms.\n",
    "\n",
    "`relative_permittivity`: is used to scale the electrostatic interactions with the protein.\n",
    "\n",
    "`water_model`: can be used to set the force field for any water molecules present in the binding site."
   ]
  },
  {
   "cell_type": "code",
   "execution_count": null,
   "id": "d35f2ca1",
   "metadata": {},
   "outputs": [],
   "source": [
    "# opt_mol, energies\n",
    "energies = rmol.optimise_in_receptor(\n",
    "    receptor_file=\"rec_final.pdb\", \n",
    "    ligand_force_field=\"openff\", \n",
    "    use_ani=True,\n",
    "    sigma_scale_factor=0.8,\n",
    "    relative_permittivity=4,\n",
    "    water_model = None,\n",
    "    platform_name = 'CPU', # or e.g. 'CUDA'\n",
    ")"
   ]
  },
  {
   "cell_type": "markdown",
   "id": "a416d638",
   "metadata": {},
   "source": [
    "The rmol might have no available conformers due to unresolvable steric clashes with the protein. This can be checked using the RDKit's function:"
   ]
  },
  {
   "cell_type": "code",
   "execution_count": null,
   "id": "c4d41da2",
   "metadata": {},
   "outputs": [],
   "source": [
    "rmol.GetNumConformers()"
   ]
  },
  {
   "cell_type": "markdown",
   "id": "698fecce",
   "metadata": {},
   "source": [
    "Optionally, display the final optimised conformers. Note that, unlike classical force fields, ANI allows bond breaking. You may occasionally see ligands with distorted structures and very long bonds, but in our experience these are rarely amongst the low energy structures and can be ignored."
   ]
  },
  {
   "cell_type": "markdown",
   "id": "13fa9245",
   "metadata": {},
   "source": [
    "Conformers are now sorted by energy, only retaining those within 5 kcal/mol of the lowest energy structure:"
   ]
  },
  {
   "cell_type": "code",
   "execution_count": null,
   "id": "3a2d37ea",
   "metadata": {},
   "outputs": [],
   "source": [
    "final_energies = rmol.sort_conformers(energy_range=5)"
   ]
  },
  {
   "cell_type": "code",
   "execution_count": null,
   "id": "121ffdda",
   "metadata": {},
   "outputs": [],
   "source": [
    "rmol.rep3D()"
   ]
  },
  {
   "cell_type": "markdown",
   "id": "a8bde92b",
   "metadata": {},
   "source": [
    "Save all of the lowest energy conformers to files and print the sorted energies in kcal/mol (shifted so that the lowest energy conformer is zero)."
   ]
  },
  {
   "cell_type": "code",
   "execution_count": null,
   "id": "e2e3ec75",
   "metadata": {},
   "outputs": [],
   "source": [
    "rmol.to_file(f\"1_mini_rmol_best_conformers.pdb\") "
   ]
  },
  {
   "cell_type": "code",
   "execution_count": null,
   "id": "8ad9d1a9",
   "metadata": {},
   "outputs": [],
   "source": [
    "print(final_energies)"
   ]
  },
  {
   "cell_type": "markdown",
   "id": "c522bbda",
   "metadata": {},
   "source": [
    "The conformers are scored using the [Gnina](https://github.com/gnina/gnina) molecular docking program and convolutional neural network scoring function. *[Note that this step is not supported on macOS].* If unavailable, the Gnina executable is downloaded during the first time it is used. The CNNscores may also be converted to predicted Kd (nM) (see column \"Kd\")."
   ]
  },
  {
   "cell_type": "code",
   "execution_count": null,
   "id": "cdf7edc0",
   "metadata": {},
   "outputs": [],
   "source": [
    "affinities = rmol.gnina(receptor_file=\"rec_final.pdb\") \n",
    "affinities"
   ]
  },
  {
   "cell_type": "markdown",
   "id": "b8800fee",
   "metadata": {},
   "source": [
    "Predicted binding affinities may be further refined using the structures output by `FEgrow`, using your favourite free energy calculation engine. See our paper for an example using [SOMD](https://github.com/michellab/Sire) to calculate the relative binding free energies of 13 Mpro inhibitors."
   ]
  },
  {
   "cell_type": "code",
   "execution_count": null,
   "id": "02dd7ad6",
   "metadata": {},
   "outputs": [],
   "source": [
    "# display units\n",
    "affinities.Kd"
   ]
  },
  {
   "cell_type": "code",
   "execution_count": null,
   "id": "a4766b3d-f6d0-4c17-bdb0-55696a12e7af",
   "metadata": {},
   "outputs": [],
   "source": []
  }
 ],
 "metadata": {
  "kernelspec": {
   "display_name": "fegrow",
   "language": "python",
   "name": "fegrow"
  },
  "language_info": {
   "codemirror_mode": {
    "name": "ipython",
    "version": 3
   },
   "file_extension": ".py",
   "mimetype": "text/x-python",
   "name": "python",
   "nbconvert_exporter": "python",
   "pygments_lexer": "ipython3",
   "version": "3.10.10"
  }
 },
 "nbformat": 4,
 "nbformat_minor": 5
}
