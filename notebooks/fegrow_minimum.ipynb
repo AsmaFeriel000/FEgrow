{
 "cells": [
  {
   "cell_type": "markdown",
   "id": "9c4c7edd",
   "metadata": {},
   "source": [
    "# FEgrow - congeneric ligands from a template\n",
    "\n",
    "### Developers: Mat Bieniek, Ben Cree, Rachael Pirie, Josh Horton\n",
    "\n",
    "* Add R-groups in user-defined positions\n",
    "* Output ADMET properties\n",
    "* Perform constrained optimisation\n",
    "* Score poses\n",
    "* Send output to free energy calculations\n",
    "\n",
    "Open source, customisable, fast/easy to use."
   ]
  },
  {
   "cell_type": "code",
   "execution_count": null,
   "id": "10a1f1b0",
   "metadata": {},
   "outputs": [],
   "source": [
    "import copy\n",
    "\n",
    "import prody\n",
    "from rdkit import Chem\n",
    "\n",
    "import fegrow\n",
    "from fegrow import RGroups"
   ]
  },
  {
   "cell_type": "markdown",
   "id": "cd53ff25",
   "metadata": {},
   "source": [
    "# Prepare the ligand template"
   ]
  },
  {
   "cell_type": "code",
   "execution_count": null,
   "id": "ffb3aaa1",
   "metadata": {},
   "outputs": [],
   "source": [
    "# protonate the template structure with open babel\n",
    "!obabel sarscov2/lig.pdb -O sarscov2/coreh.sdf -p 7"
   ]
  },
  {
   "cell_type": "code",
   "execution_count": null,
   "id": "b8c3547f",
   "metadata": {},
   "outputs": [],
   "source": [
    "# load the protonated ligand\n",
    "init_mol = Chem.SDMolSupplier('sarscov2/coreh.sdf', removeHs=False)[0]\n",
    "\n",
    "# get the FEgrow representation of the rdkit Mol\n",
    "template_mol = fegrow.RMol(init_mol)"
   ]
  },
  {
   "cell_type": "code",
   "execution_count": null,
   "id": "9a7309b1",
   "metadata": {},
   "outputs": [],
   "source": [
    "# select the atom to be replaced with the R group\n",
    "template_mol.rep2D(idx=True, size=(500, 500))"
   ]
  },
  {
   "cell_type": "code",
   "execution_count": null,
   "id": "af6bc417",
   "metadata": {},
   "outputs": [],
   "source": [
    "# using the 2D drawing, select a hydrogen index for the R-group\n",
    "attachment_index = [40]"
   ]
  },
  {
   "cell_type": "code",
   "execution_count": null,
   "id": "571caa1f",
   "metadata": {},
   "outputs": [],
   "source": [
    "# interactive selection\n",
    "RGroups"
   ]
  },
  {
   "cell_type": "code",
   "execution_count": null,
   "id": "e2ab2f78",
   "metadata": {},
   "outputs": [],
   "source": [
    "# retrieve the interactively selected groups\n",
    "interactive_rgroups = RGroups.get_selected()\n",
    "\n",
    "# you can also directly access the built-in dataframe programmatically\n",
    "groups = RGroups.dataframe\n",
    "R_group_ethanol = groups.loc[groups['Name']=='ethanol']['Mol'].values[0]\n",
    "R_group_cyclopropane = groups.loc[groups['Name'] == 'cyclopropane' ]['Mol'].values[0]\n",
    "\n",
    "# add your own R-groups files\n",
    "R_group_methanol = Chem.MolFromMolFile('manual_rgroups/methanol-r.mol', removeHs=False)\n",
    "\n",
    "# make a list of R-group molecule\n",
    "selected_rgroups = [R_group_methanol, R_group_ethanol, R_group_cyclopropane] + interactive_rgroups"
   ]
  },
  {
   "cell_type": "markdown",
   "id": "fb0efd86",
   "metadata": {},
   "source": [
    "# Build a congeneric series"
   ]
  },
  {
   "cell_type": "code",
   "execution_count": null,
   "id": "56dc6755",
   "metadata": {},
   "outputs": [],
   "source": [
    "# build the new molecules by merging the template with the R-groups\n",
    "rmols = fegrow.build_molecules(template_mol, \n",
    "                               attachment_index, \n",
    "                               selected_rgroups)"
   ]
  },
  {
   "cell_type": "code",
   "execution_count": null,
   "id": "7cd70172",
   "metadata": {},
   "outputs": [],
   "source": [
    "rmols.rep2D()"
   ]
  },
  {
   "cell_type": "code",
   "execution_count": null,
   "id": "8fca6f5f",
   "metadata": {},
   "outputs": [],
   "source": [
    "rmols[0].rep3D()"
   ]
  },
  {
   "cell_type": "code",
   "execution_count": null,
   "id": "c7feb871",
   "metadata": {},
   "outputs": [],
   "source": [
    "rmols.toxicity()"
   ]
  },
  {
   "cell_type": "code",
   "execution_count": null,
   "id": "0c07ab01",
   "metadata": {},
   "outputs": [],
   "source": [
    "# note that you can add flexibility\n",
    "rmols.generate_conformers(num_conf=10, \n",
    "                         minimum_conf_rms=0.5, \n",
    "                        )\n",
    "                        # flexible=[39, 18, 40, 16, 17, 19, 5, 6, 36, 2, 1, 33, 3, 4, 35, 34, 15, 38])"
   ]
  },
  {
   "cell_type": "code",
   "execution_count": null,
   "id": "395b249d",
   "metadata": {
    "scrolled": true
   },
   "outputs": [],
   "source": [
    "#rmol.rep3D(template=True)"
   ]
  },
  {
   "cell_type": "markdown",
   "id": "e2015e8c",
   "metadata": {},
   "source": [
    "### Optimise conformers in context of protein"
   ]
  },
  {
   "cell_type": "code",
   "execution_count": null,
   "id": "b5667599",
   "metadata": {},
   "outputs": [],
   "source": [
    "# load the complex with the ligand\n",
    "sys = prody.parsePDB('sarscov2/7l10.pdb')\n",
    "\n",
    "# remove any unwanted molecules\n",
    "rec = sys.select('not (nucleic or hetatm or water)')\n",
    "\n",
    "# save the processed protein\n",
    "prody.writePDB('rec.pdb', rec)\n",
    "\n",
    "# fix the receptor file \n",
    "fegrow.fix_receptor(\"rec.pdb\", \"rec_h.pdb\")\n",
    "\n",
    "# load back into prody\n",
    "rec_fix = prody.parsePDB(\"rec_h.pdb\")"
   ]
  },
  {
   "cell_type": "code",
   "execution_count": null,
   "id": "9374e421",
   "metadata": {},
   "outputs": [],
   "source": [
    "rmols[0].rep3D(prody=rec_fix)"
   ]
  },
  {
   "cell_type": "code",
   "execution_count": null,
   "id": "858739ac",
   "metadata": {},
   "outputs": [],
   "source": [
    "# filter by the protein clashes\n",
    "rmols.removeConfsClashingWithProdyProt(rec_fix)"
   ]
  },
  {
   "cell_type": "code",
   "execution_count": null,
   "id": "d30c0540",
   "metadata": {},
   "outputs": [],
   "source": [
    "rmols[0].rep3D(prody=rec_fix)"
   ]
  },
  {
   "cell_type": "code",
   "execution_count": null,
   "id": "d35f2ca1",
   "metadata": {},
   "outputs": [],
   "source": [
    "# opt_mol, energies\n",
    "energies = rmols.optimise_in_receptor(\n",
    "    receptor_file=\"rec_h.pdb\", \n",
    "    ligand_force_field=\"openff\", \n",
    "    use_ani=False,\n",
    "    sigma_scale_factor=0.8,\n",
    "    relative_permittivity=4,\n",
    "    water_model = None\n",
    ")"
   ]
  },
  {
   "cell_type": "code",
   "execution_count": null,
   "id": "d59ef690",
   "metadata": {},
   "outputs": [],
   "source": [
    "rmols[0].rep3D()"
   ]
  },
  {
   "cell_type": "code",
   "execution_count": null,
   "id": "9b0c4465",
   "metadata": {},
   "outputs": [],
   "source": [
    "rmols[0].to_file(\"optimised_coords.pdb\")"
   ]
  },
  {
   "cell_type": "code",
   "execution_count": null,
   "id": "c1e03cc9",
   "metadata": {},
   "outputs": [],
   "source": [
    "print(energies)"
   ]
  },
  {
   "cell_type": "code",
   "execution_count": null,
   "id": "3a2d37ea",
   "metadata": {},
   "outputs": [],
   "source": [
    "# select the best 5 performing conformers\n",
    "final_energies = rmols.sort_conformers(energy_range=5)"
   ]
  },
  {
   "cell_type": "code",
   "execution_count": null,
   "id": "e2e3ec75",
   "metadata": {},
   "outputs": [],
   "source": [
    "rmols[0].to_file(\"best_conformers0.pdb\")\n",
    "rmols[1].to_file(\"best_conformers1.pdb\")"
   ]
  },
  {
   "cell_type": "code",
   "execution_count": null,
   "id": "8ad9d1a9",
   "metadata": {},
   "outputs": [],
   "source": [
    "print(final_energies)"
   ]
  },
  {
   "cell_type": "code",
   "execution_count": null,
   "id": "cdf7edc0",
   "metadata": {},
   "outputs": [],
   "source": [
    "# score the conformers with Gnina\n",
    "CNNscores = rmols.gnina(receptor_file=\"rec_h.pdb\") \n",
    "CNNscores"
   ]
  },
  {
   "cell_type": "code",
   "execution_count": null,
   "id": "ef605ee0",
   "metadata": {},
   "outputs": [],
   "source": []
  }
 ],
 "metadata": {
  "kernelspec": {
   "display_name": "Python 3",
   "language": "python",
   "name": "python3"
  },
  "language_info": {
   "codemirror_mode": {
    "name": "ipython",
    "version": 3
   },
   "file_extension": ".py",
   "mimetype": "text/x-python",
   "name": "python",
   "nbconvert_exporter": "python",
   "pygments_lexer": "ipython3",
   "version": "3.9.7"
  }
 },
 "nbformat": 4,
 "nbformat_minor": 5
}
