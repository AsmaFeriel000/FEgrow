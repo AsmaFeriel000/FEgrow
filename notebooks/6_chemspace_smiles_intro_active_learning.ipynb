{
 "cells": [
  {
   "cell_type": "markdown",
   "id": "9c4c7edd",
   "metadata": {},
   "source": [
    "# FEgrow: An Open-Source Molecular Builder and Free Energy Preparation Workflow\n",
    "\n",
    "**Authors: Mateusz K Bieniek, Ben Cree, Rachael Pirie, Joshua T. Horton, Natalie J. Tatum, Daniel J. Cole**"
   ]
  },
  {
   "cell_type": "markdown",
   "id": "ba86bf5e",
   "metadata": {},
   "source": [
    "## Overview\n",
    "\n",
    "Building and scoring molecules can be further streamlined by employing our established protocol. Here we show how to quickly build a library and score the entire library. "
   ]
  },
  {
   "cell_type": "code",
   "execution_count": null,
   "id": "10a1f1b0",
   "metadata": {},
   "outputs": [],
   "source": [
    "import pandas as pd\n",
    "import prody\n",
    "from rdkit import Chem\n",
    "\n",
    "import fegrow\n",
    "from fegrow import ChemSpace\n",
    "\n",
    "from fegrow.testing import core_5R83_path, smiles_5R83_core_path, rec_5R83_path"
   ]
  },
  {
   "cell_type": "markdown",
   "id": "cd53ff25",
   "metadata": {},
   "source": [
    "# Prepare the ligand template"
   ]
  },
  {
   "cell_type": "code",
   "execution_count": null,
   "id": "b8c3547f",
   "metadata": {},
   "outputs": [],
   "source": [
    "scaffold = Chem.SDMolSupplier(core_5R83_path)[0]"
   ]
  },
  {
   "cell_type": "markdown",
   "id": "6f36f867",
   "metadata": {},
   "source": [
    "As we are using already prepared Smiles that have the scaffold as a substructure, it is not needed to set any growing vector. "
   ]
  },
  {
   "cell_type": "code",
   "execution_count": null,
   "id": "538b49cb",
   "metadata": {},
   "outputs": [],
   "source": [
    "# create the chemical space\n",
    "cs = ChemSpace()"
   ]
  },
  {
   "cell_type": "code",
   "execution_count": null,
   "id": "689d4e59",
   "metadata": {},
   "outputs": [],
   "source": [
    "# we're not growing the scaffold, we're superimposing bigger molecules on it\n",
    "cs.add_scaffold(scaffold)\n",
    "cs.add_protein(rec_5R83_path)"
   ]
  },
  {
   "cell_type": "code",
   "execution_count": null,
   "id": "7ac25cae",
   "metadata": {},
   "outputs": [],
   "source": [
    "# load 50k Smiles\n",
    "smiles = pd.read_csv(smiles_5R83_core_path).Smiles.to_list()\n",
    "\n",
    "# take only 100\n",
    "smiles = smiles[:20]\n",
    "\n",
    "# here we add Smiles which should already have been matched\n",
    "# to the scaffold (rdkit Mol.HasSubstructureMatch)\n",
    "cs.add_smiles(smiles)"
   ]
  },
  {
   "cell_type": "code",
   "execution_count": null,
   "id": "86ad3ef9",
   "metadata": {},
   "outputs": [],
   "source": [
    "cs"
   ]
  },
  {
   "cell_type": "markdown",
   "id": "4573bdb4",
   "metadata": {},
   "source": [
    "# Active Learning"
   ]
  },
  {
   "cell_type": "code",
   "execution_count": null,
   "id": "41e0a816",
   "metadata": {},
   "outputs": [],
   "source": [
    "# There is nothing to train the model on, so initially \"first_random\" is used by default\n",
    "random1 = cs.active_learning(2, first_random=True)\n",
    "random2 = cs.active_learning(2, first_random=True)\n",
    "\n",
    "# note the different indices selected (unless you're lucky!)\n",
    "print(random1.index.to_list(), random2.index.to_list())"
   ]
  },
  {
   "cell_type": "markdown",
   "id": "b18c6b52",
   "metadata": {},
   "source": [
    "## Warning! Please change the logger in order to see what is happening inside of ChemSpace.evaluate. There is too much info to output it into the screen ."
   ]
  },
  {
   "cell_type": "code",
   "execution_count": null,
   "id": "5311a85e",
   "metadata": {},
   "outputs": [],
   "source": [
    "# now evaluate the first selection\n",
    "random1_results = cs.evaluate(random1)"
   ]
  },
  {
   "cell_type": "code",
   "execution_count": null,
   "id": "323cfeac",
   "metadata": {},
   "outputs": [],
   "source": [
    "# check the scores, note that they were updated in the master dataframe too\n",
    "random1_results"
   ]
  },
  {
   "cell_type": "code",
   "execution_count": null,
   "id": "b34bc9df",
   "metadata": {},
   "outputs": [],
   "source": [
    "# by default Gaussian Process with Greedy approach is used\n",
    "# note that this time \n",
    "greedy1 = cs.active_learning(2)\n",
    "greedy2 = cs.active_learning(2)\n",
    "print(greedy1.index.to_list(), greedy2.index.to_list())"
   ]
  },
  {
   "cell_type": "code",
   "execution_count": null,
   "id": "1e1c00b3",
   "metadata": {},
   "outputs": [],
   "source": [
    "# learn in cycles\n",
    "for cycle in range(2):\n",
    "    greedy = cs.active_learning(2)\n",
    "    greedy_results = cs.evaluate(greedy)\n",
    "    \n",
    "    # save the new results\n",
    "    greedy_results.to_csv(f'notebook6_iteration{cycle}_results.csv')\n",
    "\n",
    "# save the entire chemical space with all the results\n",
    "cs.to_sdf('notebook6_chemspace.sdf')"
   ]
  },
  {
   "cell_type": "code",
   "execution_count": null,
   "id": "c156fb6d",
   "metadata": {},
   "outputs": [],
   "source": [
    "computed = cs.df[~cs.df.score.isna()]\n",
    "print('Computed cases in total: ', len(computed))"
   ]
  },
  {
   "cell_type": "code",
   "execution_count": null,
   "id": "eac015af",
   "metadata": {},
   "outputs": [],
   "source": [
    "cs"
   ]
  }
 ],
 "metadata": {
  "kernelspec": {
   "display_name": "fegrow",
   "language": "python",
   "name": "fegrow"
  },
  "language_info": {
   "codemirror_mode": {
    "name": "ipython",
    "version": 3
   },
   "file_extension": ".py",
   "mimetype": "text/x-python",
   "name": "python",
   "nbconvert_exporter": "python",
   "pygments_lexer": "ipython3",
   "version": "3.10.10"
  }
 },
 "nbformat": 4,
 "nbformat_minor": 5
}
