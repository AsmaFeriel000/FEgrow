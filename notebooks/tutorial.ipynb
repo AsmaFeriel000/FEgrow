{
 "cells": [
  {
   "cell_type": "markdown",
   "id": "9c4c7edd",
   "metadata": {},
   "source": [
    "# FEgrow - congeneric ligands from a template\n",
    "\n",
    "### Developers: Mat Bieniek, Ben Cree, Rachael Pirie, Josh Horton\n",
    "\n",
    "* Add R-groups in user-defined positions\n",
    "* Output ADMET properties\n",
    "* Perform constrained optimisation\n",
    "* Score poses\n",
    "* Send output to free energy calculations\n",
    "\n",
    "Open source, customisable, fast/easy to use."
   ]
  },
  {
   "cell_type": "markdown",
   "id": "ba86bf5e",
   "metadata": {},
   "source": [
    "## Overview\n",
    "\n",
    "This notebook demonstrates the entire rgroups workflow for generating a series of ligands with a common core for a specific binding site, by the addition of a user-defined set of R-groups. \n",
    "\n",
    "These de novo ligands are then subjected to ADMET analysis. Valid conformers are enumerated, and optimised in the receptor using hybrid machine learning / molecular mechanics potentials (ML/MM). \n",
    "\n",
    "An ensemble of low energy conformers is generated for each ligand, and scored using a convolutional neural network (CNN), then finally compared to experimental data (where available).\n",
    "\n",
    "The target for this tutorial is PTP1B. [1][2]"
   ]
  },
  {
   "cell_type": "code",
   "execution_count": null,
   "id": "10a1f1b0",
   "metadata": {},
   "outputs": [],
   "source": [
    "import copy\n",
    "\n",
    "import prody\n",
    "from rdkit import Chem\n",
    "\n",
    "import fegrow\n",
    "from fegrow import RGroups"
   ]
  },
  {
   "cell_type": "markdown",
   "id": "cd53ff25",
   "metadata": {},
   "source": [
    "# Prepare the ligand template"
   ]
  },
  {
   "cell_type": "markdown",
   "id": "0affb666",
   "metadata": {},
   "source": [
    "Protonate the template structure with open babel"
   ]
  },
  {
   "cell_type": "code",
   "execution_count": null,
   "id": "ffb3aaa1",
   "metadata": {},
   "outputs": [],
   "source": [
    "!obabel sarscov2/lig.pdb -O sarscov2/coreh.sdf -p 7"
   ]
  },
  {
   "cell_type": "markdown",
   "id": "f968178c",
   "metadata": {},
   "source": [
    "Load the protonated ligand into FEgrow"
   ]
  },
  {
   "cell_type": "code",
   "execution_count": null,
   "id": "b8c3547f",
   "metadata": {},
   "outputs": [],
   "source": [
    "init_mol = Chem.SDMolSupplier('sarscov2/coreh.sdf', removeHs=False)[0]\n",
    "\n",
    "# get the FEgrow representation of the rdkit Mol\n",
    "template_mol = fegrow.RMol(init_mol)"
   ]
  },
  {
   "cell_type": "markdown",
   "id": "e27c172f",
   "metadata": {},
   "source": [
    "Show the 2D (with indices) representation of the core. This is used to select the desired growth vector."
   ]
  },
  {
   "cell_type": "code",
   "execution_count": null,
   "id": "9a7309b1",
   "metadata": {},
   "outputs": [],
   "source": [
    "template_mol.rep2D(idx=True, size=(500, 500))"
   ]
  },
  {
   "cell_type": "markdown",
   "id": "6f36f867",
   "metadata": {},
   "source": [
    "Using the 2D drawing, select a hydrogen index for the R-group"
   ]
  },
  {
   "cell_type": "code",
   "execution_count": null,
   "id": "af6bc417",
   "metadata": {},
   "outputs": [],
   "source": [
    "attachment_index = [40]"
   ]
  },
  {
   "cell_type": "markdown",
   "id": "57599c23",
   "metadata": {},
   "source": [
    "R-groups can be selected interactively or programmaticaly. Tailor .mol files can be used as well as long as their hydrogen is replaced with the *element* R. "
   ]
  },
  {
   "cell_type": "code",
   "execution_count": null,
   "id": "571caa1f",
   "metadata": {},
   "outputs": [],
   "source": [
    "# interactive selection\n",
    "RGroups"
   ]
  },
  {
   "cell_type": "code",
   "execution_count": null,
   "id": "e2ab2f78",
   "metadata": {},
   "outputs": [],
   "source": [
    "# retrieve the interactively selected groups\n",
    "interactive_rgroups = RGroups.get_selected()\n",
    "\n",
    "# you can also directly access the built-in dataframe programmatically\n",
    "groups = RGroups.dataframe\n",
    "R_group_ethanol = groups.loc[groups['Name']=='ethanol']['Mol'].values[0]\n",
    "R_group_cyclopropane = groups.loc[groups['Name'] == 'cyclopropane' ]['Mol'].values[0]\n",
    "\n",
    "# add your own R-groups files\n",
    "R_group_methanol = Chem.MolFromMolFile('manual_rgroups/methanol-r.mol', removeHs=False)\n",
    "\n",
    "# make a list of R-group molecule\n",
    "selected_rgroups = [R_group_methanol, R_group_ethanol, R_group_cyclopropane] + interactive_rgroups\n",
    "selected_rgroups"
   ]
  },
  {
   "cell_type": "markdown",
   "id": "fb0efd86",
   "metadata": {},
   "source": [
    "# Build a congeneric series"
   ]
  },
  {
   "cell_type": "markdown",
   "id": "66fec021",
   "metadata": {},
   "source": [
    "Merge the template with the R-groups"
   ]
  },
  {
   "cell_type": "code",
   "execution_count": null,
   "id": "56dc6755",
   "metadata": {},
   "outputs": [],
   "source": [
    "rmols = fegrow.build_molecules(template_mol, \n",
    "                               attachment_index, \n",
    "                               selected_rgroups)"
   ]
  },
  {
   "cell_type": "code",
   "execution_count": null,
   "id": "7cd70172",
   "metadata": {},
   "outputs": [],
   "source": [
    "rmols.rep2D()"
   ]
  },
  {
   "cell_type": "code",
   "execution_count": null,
   "id": "8fca6f5f",
   "metadata": {},
   "outputs": [],
   "source": [
    "rmols[0].rep3D()"
   ]
  },
  {
   "cell_type": "markdown",
   "id": "579015f4",
   "metadata": {},
   "source": [
    "Once the ligands have been generated, they can be assessed for various ADMET properties, including Lipinksi rule of 5 properties, the presence of unwanted substructures or problematic functional groups, and synthetic accessibility. [3][4]"
   ]
  },
  {
   "cell_type": "code",
   "execution_count": null,
   "id": "c7feb871",
   "metadata": {},
   "outputs": [],
   "source": [
    "rmols.toxicity()"
   ]
  },
  {
   "cell_type": "markdown",
   "id": "96e85edd",
   "metadata": {},
   "source": [
    "For each ligand, a specified number of conformers (`num_conf`) is generated by using the RDKit ETKDG algorithm.[5] Conformers that are too similar to the initial structure are discarded. Empirically, we have found that `num_conf=200` gives an exhaustive search, and `num_conf=50` gives a reasonable, fast search, in most cases.\n",
    "\n",
    "If required, a third argument can be added `flexible=[0,1,...]`, which provides a list of additional atoms in the core that can be allowed to be flexible. This is useful, for example, if growing from a methyl group and you would like the added R-group to freely rotate."
   ]
  },
  {
   "cell_type": "code",
   "execution_count": null,
   "id": "0c07ab01",
   "metadata": {},
   "outputs": [],
   "source": [
    "rmols.generate_conformers(num_conf=10, \n",
    "                         minimum_conf_rms=0.5, \n",
    "                        )\n",
    "                        # flexible=[39, 18, 40, 16, 17, 19, 5, 6, 36, 2, 1, 33, 3, 4, 35, 34, 15, 38])"
   ]
  },
  {
   "cell_type": "code",
   "execution_count": null,
   "id": "395b249d",
   "metadata": {
    "scrolled": true
   },
   "outputs": [],
   "source": [
    "#rmol.rep3D(template=True)"
   ]
  },
  {
   "cell_type": "markdown",
   "id": "e2015e8c",
   "metadata": {},
   "source": [
    "### Prepare the protein"
   ]
  },
  {
   "cell_type": "markdown",
   "id": "54a2ab68",
   "metadata": {},
   "source": [
    "The protein structure initially is not protonated, this along with other repairs is done using PDBFixer [6]. "
   ]
  },
  {
   "cell_type": "code",
   "execution_count": null,
   "id": "b5667599",
   "metadata": {},
   "outputs": [],
   "source": [
    "# load the complex with the ligand\n",
    "sys = prody.parsePDB('sarscov2/7l10.pdb')\n",
    "\n",
    "# remove any unwanted molecules\n",
    "rec = sys.select('not (nucleic or hetatm or water)')\n",
    "\n",
    "# save the processed protein\n",
    "prody.writePDB('rec.pdb', rec)\n",
    "\n",
    "# fix the receptor file (missing residues, protonation, etc)\n",
    "fegrow.fix_receptor(\"rec.pdb\", \"rec_final.pdb\")\n",
    "\n",
    "# load back into prody\n",
    "rec_final = prody.parsePDB(\"rec_final.pdb\")"
   ]
  },
  {
   "cell_type": "code",
   "execution_count": null,
   "id": "9374e421",
   "metadata": {},
   "outputs": [],
   "source": [
    "rmols[0].rep3D(prody=rec_final)"
   ]
  },
  {
   "cell_type": "markdown",
   "id": "75fc77b7",
   "metadata": {},
   "source": [
    "Any conformers that clash with the protein (within 1 A of the backbone), are removed."
   ]
  },
  {
   "cell_type": "code",
   "execution_count": null,
   "id": "858739ac",
   "metadata": {},
   "outputs": [],
   "source": [
    "rmols.remove_clashing_confs(rec_final)"
   ]
  },
  {
   "cell_type": "code",
   "execution_count": null,
   "id": "d30c0540",
   "metadata": {},
   "outputs": [],
   "source": [
    "rmols[0].rep3D(prody=rec_final)"
   ]
  },
  {
   "cell_type": "markdown",
   "id": "066014d6",
   "metadata": {},
   "source": [
    "### Optimise conformers in context of protein"
   ]
  },
  {
   "cell_type": "markdown",
   "id": "b02e8d1b",
   "metadata": {},
   "source": [
    "The remaining conformers are optimised using hybrid machine learning / molecular mechanics (ML/MM), using the ANI [cite]neural nework potential for the ligand energetics (as long as it contains only the atoms H, C, N, O, F, S, Cl). (Note that the Open Force Field Parsley force field is used otherwise)."
   ]
  },
  {
   "cell_type": "code",
   "execution_count": null,
   "id": "d35f2ca1",
   "metadata": {},
   "outputs": [],
   "source": [
    "# opt_mol, energies\n",
    "energies = rmols.optimise_in_receptor(\n",
    "    receptor_file=\"rec_final.pdb\", \n",
    "    ligand_force_field=\"openff\", \n",
    "    use_ani=False,\n",
    "    sigma_scale_factor=0.8,\n",
    "    relative_permittivity=4,\n",
    "    water_model = None\n",
    ")"
   ]
  },
  {
   "cell_type": "code",
   "execution_count": null,
   "id": "e30540c0",
   "metadata": {},
   "outputs": [],
   "source": [
    "print(energies)"
   ]
  },
  {
   "cell_type": "markdown",
   "id": "a416d638",
   "metadata": {},
   "source": [
    "Any of the rmols that have no conformers (due to clashing with the protein) can be discarded using the .discard_missing() function. This function also returns a list of the indexes that were removed, which will be used in order to carry out data analysis."
   ]
  },
  {
   "cell_type": "code",
   "execution_count": null,
   "id": "c4d41da2",
   "metadata": {},
   "outputs": [],
   "source": [
    "missing_ids = rmols.discard_missing()"
   ]
  },
  {
   "cell_type": "code",
   "execution_count": null,
   "id": "d59ef690",
   "metadata": {},
   "outputs": [],
   "source": [
    "rmols[0].rep3D()"
   ]
  },
  {
   "cell_type": "code",
   "execution_count": null,
   "id": "9b0c4465",
   "metadata": {},
   "outputs": [],
   "source": [
    "rmols[0].to_file(\"optimised_coords.pdb\")"
   ]
  },
  {
   "cell_type": "markdown",
   "id": "13fa9245",
   "metadata": {},
   "source": [
    "Conformers are now sorted by energy, only retaining those within 5 kcal/mol of the lowest energy structure."
   ]
  },
  {
   "cell_type": "code",
   "execution_count": null,
   "id": "3a2d37ea",
   "metadata": {},
   "outputs": [],
   "source": [
    "final_energies = rmols.sort_conformers(energy_range=5)"
   ]
  },
  {
   "cell_type": "markdown",
   "id": "a8bde92b",
   "metadata": {},
   "source": [
    "Save all of the best conformers to files"
   ]
  },
  {
   "cell_type": "code",
   "execution_count": null,
   "id": "e2e3ec75",
   "metadata": {},
   "outputs": [],
   "source": [
    "[rmol.to_file(f\"best_conformers{i}.pdb\") for i, rmol in enumerate(rmols)]"
   ]
  },
  {
   "cell_type": "code",
   "execution_count": null,
   "id": "8ad9d1a9",
   "metadata": {},
   "outputs": [],
   "source": [
    "print(final_energies)"
   ]
  },
  {
   "cell_type": "markdown",
   "id": "c522bbda",
   "metadata": {},
   "source": [
    "The conformers are scored by using Gnina [7] on each conformer of each ligand, which utilises a convolutional neural network. Gnina is downloaded during the first time it is used. MAC is currently not supported. "
   ]
  },
  {
   "cell_type": "code",
   "execution_count": null,
   "id": "cdf7edc0",
   "metadata": {},
   "outputs": [],
   "source": [
    "CNNscores, ic50s = rmols.gnina(receptor_file=\"rec_final.pdb\") \n",
    "CNNscores"
   ]
  },
  {
   "cell_type": "markdown",
   "id": "e8c5909c",
   "metadata": {},
   "source": [
    "IC50 values are also predicted from the CNNscores"
   ]
  },
  {
   "cell_type": "code",
   "execution_count": null,
   "id": "71343562",
   "metadata": {},
   "outputs": [],
   "source": [
    "ic50s"
   ]
  },
  {
   "cell_type": "markdown",
   "id": "70596244",
   "metadata": {},
   "source": [
    "The gnina score can be converted to predicted IC50."
   ]
  },
  {
   "cell_type": "markdown",
   "id": "bfca344b",
   "metadata": {},
   "source": [
    "References:\n",
    "\n",
    "    1 - https://pubs.acs.org/doi/10.1021/ja512751q\n",
    "    \n",
    "    2 - https://pubs.acs.org/doi/10.1021/jm0702478\n",
    "    \n",
    "    3 - https://www.sciencedirect.com/science/article/pii/S0169409X96004231\n",
    "    \n",
    "    4 - http://www.jcheminf.com/content/1/1/8\n",
    "    \n",
    "    5 - https://pubs.acs.org/doi/pdf/10.1021/acs.jcim.5b00654\n",
    "    \n",
    "    6 - https://academic.oup.com/bioinformatics/article/37/20/3657/6211036\n",
    "    \n",
    "    7 - https://github.com/openmm/pdbfixer"
   ]
  }
 ],
 "metadata": {
  "kernelspec": {
   "display_name": "conda-rgroup",
   "language": "python",
   "name": "conda-rgroup"
  },
  "language_info": {
   "codemirror_mode": {
    "name": "ipython",
    "version": 3
   },
   "file_extension": ".py",
   "mimetype": "text/x-python",
   "name": "python",
   "nbconvert_exporter": "python",
   "pygments_lexer": "ipython3",
   "version": "3.9.7"
  }
 },
 "nbformat": 4,
 "nbformat_minor": 5
}
