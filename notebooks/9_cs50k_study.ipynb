{
 "cells": [
  {
   "cell_type": "markdown",
   "id": "9c4c7edd",
   "metadata": {},
   "source": [
    "# 9: Pre-evaluated CS50K with Active Learning\n",
    "\n",
    "**Authors: Mateusz K Bieniek, Ben Cree, Rachael Pirie, Joshua T. Horton, Natalie J. Tatum, Daniel J. Cole**"
   ]
  },
  {
   "cell_type": "markdown",
   "id": "ba86bf5e",
   "metadata": {},
   "source": [
    "## Overview\n",
    "An AL study using precomputed Gnina scores. "
   ]
  },
  {
   "cell_type": "code",
   "execution_count": null,
   "id": "10a1f1b0",
   "metadata": {},
   "outputs": [],
   "source": [
    "import pandas as pd\n",
    "import prody\n",
    "from rdkit import Chem\n",
    "\n",
    "import fegrow\n",
    "from fegrow import ChemSpace\n",
    "\n",
    "from fegrow.testing import core_5R83_path, smiles_5R83_path"
   ]
  },
  {
   "cell_type": "code",
   "execution_count": null,
   "id": "538b49cb",
   "metadata": {},
   "outputs": [],
   "source": [
    "# create the chemical space\n",
    "cs = ChemSpace()\n",
    "# we're not growing the scaffold, we're superimposing bigger molecules on it\n",
    "cs.add_scaffold(Chem.SDMolSupplier(core_5R83_path)[0])\n",
    "# we can ignore the protein as the values have been pre-computed\n",
    "cs.add_protein(None)"
   ]
  },
  {
   "cell_type": "code",
   "execution_count": null,
   "id": "14c5f301",
   "metadata": {},
   "outputs": [],
   "source": [
    "# switch on the caching\n",
    "# I set it here to 6GB of RAM\n",
    "cs.set_dask_caching(6e9)"
   ]
  },
  {
   "cell_type": "code",
   "execution_count": null,
   "id": "7ac25cae",
   "metadata": {},
   "outputs": [],
   "source": [
    "# load 50k Smiles\n",
    "oracle = pd.read_csv(smiles_5R83_path)\n",
    "\n",
    "# remove .score == 0, which was used to signal structures that were too big\n",
    "oracle = oracle[oracle.cnnaffinity!=0]\n",
    "\n",
    "# here we add Smiles which should already have been matched\n",
    "# to the scaffold (rdkit Mol.HasSubstructureMatch)\n",
    "smiles = oracle.Smiles.to_list()\n",
    "cs.add_smiles(smiles)"
   ]
  },
  {
   "cell_type": "markdown",
   "id": "4573bdb4",
   "metadata": {},
   "source": [
    "# Active Learning"
   ]
  },
  {
   "cell_type": "markdown",
   "id": "b18c6b52",
   "metadata": {},
   "source": [
    "## Warning! Please change the logger in order to see what is happening inside of ChemSpace.evaluate. There is too much info to output it into the screen .\n",
    "\n",
    "```python\n",
    "import logging\n",
    "logging.basicConfig(encoding='utf-8', level=logging.DEBUG)\n",
    "```"
   ]
  },
  {
   "cell_type": "code",
   "execution_count": null,
   "id": "a85fa6b5",
   "metadata": {},
   "outputs": [],
   "source": [
    "from fegrow.al import Model, Query"
   ]
  },
  {
   "cell_type": "code",
   "execution_count": null,
   "id": "b34bc9df",
   "metadata": {},
   "outputs": [],
   "source": [
    "# This is the default configuration\n",
    "# cs.model = Model.gaussian_process()\n",
    "cs.model = Model.linear()\n",
    "cs.query = Query.Greedy()"
   ]
  },
  {
   "cell_type": "code",
   "execution_count": null,
   "id": "6d6cc222",
   "metadata": {},
   "outputs": [],
   "source": [
    "# we will use the preivously computed scores for this AL study\n",
    "# we're going to look up the values instead\n",
    "def oracle_look_up(scaffold, h, smiles, *args, **kwargs):\n",
    "    # mol, data\n",
    "    return None, {\"score\": oracle[oracle.Smiles == smiles].iloc[0].cnnaffinity}"
   ]
  },
  {
   "cell_type": "code",
   "execution_count": null,
   "id": "ccf6e7ce",
   "metadata": {},
   "outputs": [],
   "source": [
    "# the first cycle will take more time\n",
    "for cycle in range(20):\n",
    "    # select 2 hundred\n",
    "    selections = cs.active_learning(200)\n",
    "    res = cs.evaluate(selections, full_evaluation=oracle_look_up)\n",
    "    \n",
    "    print(f\"AL{cycle:2d}. \"\n",
    "      f\"Mean: {res.score.mean():.2f}, \"\n",
    "      f\"Max: {res.score.max():.2f}, \"\n",
    "      f\">4.8: {sum(res.score > 4.8):3d}, \"\n",
    "      f\">5.0: {sum(res.score > 5.0):3d}, \"\n",
    "      f\">5.2: {sum(res.score > 5.2):3d}, \"\n",
    "      f\">5.4: {sum(res.score > 5.4):3d}, \"\n",
    "      )"
   ]
  },
  {
   "cell_type": "code",
   "execution_count": null,
   "id": "cbd56eaf",
   "metadata": {},
   "outputs": [],
   "source": []
  }
 ],
 "metadata": {
  "kernelspec": {
   "display_name": "fegrow",
   "language": "python",
   "name": "fegrow"
  },
  "language_info": {
   "codemirror_mode": {
    "name": "ipython",
    "version": 3
   },
   "file_extension": ".py",
   "mimetype": "text/x-python",
   "name": "python",
   "nbconvert_exporter": "python",
   "pygments_lexer": "ipython3",
   "version": "3.11.11"
  }
 },
 "nbformat": 4,
 "nbformat_minor": 5
}
