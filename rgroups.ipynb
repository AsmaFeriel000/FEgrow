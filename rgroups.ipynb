{
 "cells": [
  {
   "cell_type": "code",
   "execution_count": null,
   "id": "db1bed79",
   "metadata": {},
   "outputs": [],
   "source": [
    "import copy\n",
    "\n",
    "import prody\n",
    "from rdkit import Chem\n",
    "from rdkit.Chem import Draw\n",
    "from prody.proteins.functions import showProtein, view3D\n",
    "\n",
    "from rgroup import rep2D, draw3D, merge_R_group, fix_receptor, optimise_in_receptor, RGroups, build_molecules, sort_conformers"
   ]
  },
  {
   "cell_type": "code",
   "execution_count": null,
   "id": "ee131d9c",
   "metadata": {},
   "outputs": [],
   "source": [
    "# load the complex with the ligand\n",
    "sys = prody.parsePDB('5NEV.pdb1')\n",
    "rec = sys.select('not (nucleic or hetatm) and not water')\n",
    "mol = sys.select('resname 72L')\n",
    "\n",
    "prody.writePDB('rec.pdb', rec)\n",
    "# prody.writePDB('lig.pdb', mol)"
   ]
  },
  {
   "cell_type": "code",
   "execution_count": null,
   "id": "d53e1ba3",
   "metadata": {},
   "outputs": [],
   "source": [
    "!wget 'https://models.rcsb.org/v1/5nev/ligand?auth_seq_id=301&label_asym_id=E&encoding=sdf&filename=5nev_E_72L.sdf' -O lig.sdf\n",
    "!obabel lig.sdf -O ligh.sdf -h -p 7\n",
    "# ^manually modify the files if need be"
   ]
  },
  {
   "cell_type": "code",
   "execution_count": null,
   "id": "57003f89",
   "metadata": {},
   "outputs": [],
   "source": [
    "# load the ligand\n",
    "# rdkit doesn't do a good job with protonation, \n",
    "#init_mol = Chem.MolFromPDBFile('lig.pdb', removeHs=False)\n",
    "#init_mol = Chem.AddHs(init_mol, addCoords=True)\n",
    "\n",
    "init_mol = Chem.SDMolSupplier('ligh.sdf', removeHs=False)[0]"
   ]
  },
  {
   "cell_type": "code",
   "execution_count": null,
   "id": "366221aa",
   "metadata": {},
   "outputs": [],
   "source": [
    "# select the atom to be replaced with the R group\n",
    "Draw.MolToImage(rep2D(init_mol))"
   ]
  },
  {
   "cell_type": "code",
   "execution_count": null,
   "id": "466f9e22",
   "metadata": {},
   "outputs": [],
   "source": [
    "# look up r groups and select\n",
    "RGroups"
   ]
  },
  {
   "cell_type": "code",
   "execution_count": null,
   "id": "963982f8",
   "metadata": {},
   "outputs": [],
   "source": [
    "# build a list of molecules\n",
    "mols = build_molecules(init_mol, [47], RGroups)"
   ]
  },
  {
   "cell_type": "code",
   "execution_count": null,
   "id": "e1b6d5e4",
   "metadata": {},
   "outputs": [],
   "source": [
    "mols[0].draw3D()"
   ]
  },
  {
   "cell_type": "code",
   "execution_count": null,
   "id": "7f2c3b69",
   "metadata": {},
   "outputs": [],
   "source": [
    "Draw.MolsToGridImage([rep2D(mol, idx=False) for mol in mols] )"
   ]
  },
  {
   "cell_type": "code",
   "execution_count": null,
   "id": "1e332fbf",
   "metadata": {},
   "outputs": [],
   "source": [
    "# take the first molecule\n",
    "rmol = mols[0]\n",
    "Draw.MolToImage(rep2D(rmol, idx=False))"
   ]
  },
  {
   "cell_type": "code",
   "execution_count": null,
   "id": "0d3e137a",
   "metadata": {},
   "outputs": [],
   "source": [
    "toxicity = rmol.toxicity()\n",
    "toxicity"
   ]
  },
  {
   "cell_type": "code",
   "execution_count": null,
   "id": "db00325e",
   "metadata": {},
   "outputs": [],
   "source": [
    "# visualise the template\n",
    "# draw3D(rmol.template)"
   ]
  },
  {
   "cell_type": "code",
   "execution_count": null,
   "id": "6da54fd2",
   "metadata": {},
   "outputs": [],
   "source": [
    "rmol.draw3D()"
   ]
  },
  {
   "cell_type": "code",
   "execution_count": null,
   "id": "37109d7a",
   "metadata": {},
   "outputs": [],
   "source": [
    "rmol.generate_conformers(num_conf=30, minimum_conf_rms=0.5)"
   ]
  },
  {
   "cell_type": "code",
   "execution_count": null,
   "id": "e245d37c",
   "metadata": {
    "scrolled": true
   },
   "outputs": [],
   "source": [
    "rmol.draw3Dconfs()"
   ]
  },
  {
   "cell_type": "code",
   "execution_count": null,
   "id": "af2c164d",
   "metadata": {},
   "outputs": [],
   "source": [
    "rmol.GetNumConformers()"
   ]
  },
  {
   "cell_type": "code",
   "execution_count": null,
   "id": "09684057",
   "metadata": {},
   "outputs": [],
   "source": [
    "# fix the receptor file \n",
    "fix_receptor(\"rec.pdb\", \"rec_h.pdb\")\n",
    "# load back into prody\n",
    "rec_fix = prody.parsePDB(\"rec_h.pdb\")"
   ]
  },
  {
   "cell_type": "code",
   "execution_count": null,
   "id": "bf5e9990",
   "metadata": {},
   "outputs": [],
   "source": [
    "# filter by the protein clashes\n",
    "view = view3D(rec_fix)\n",
    "rmol.draw3Dconfs(view)"
   ]
  },
  {
   "cell_type": "code",
   "execution_count": null,
   "id": "a52a8138",
   "metadata": {},
   "outputs": [],
   "source": [
    "import py3Dmol\n",
    "view = py3Dmol.view(width=300, height=300, viewergrid=(1, 1))\n",
    "\n",
    "for conf in rmol.GetConformers():\n",
    "    mb = Chem.MolToMolBlock(rmol, confId=conf.GetId())\n",
    "    view.addModel(mb, \"lig\")\n",
    "\n",
    "view.setStyle({'stick':{}})\n",
    "view.zoomTo()"
   ]
  },
  {
   "cell_type": "code",
   "execution_count": null,
   "id": "e21c2377",
   "metadata": {},
   "outputs": [],
   "source": [
    "rmol.removeConfsClashingWithProdyProt(rec_fix)"
   ]
  },
  {
   "cell_type": "code",
   "execution_count": null,
   "id": "10af935c",
   "metadata": {},
   "outputs": [],
   "source": [
    "view = view3D(rec_fix)\n",
    "rmol.draw3Dconfs(view)"
   ]
  },
  {
   "cell_type": "code",
   "execution_count": null,
   "id": "69872c9b",
   "metadata": {},
   "outputs": [],
   "source": [
    "opt_mol, energies = optimise_in_receptor(\n",
    "     ligand=rmol, \n",
    "     receptor_file=\"rec_h.pdb\", \n",
    "     ligand_force_field=\"openff\", \n",
    "     use_ani=True,\n",
    "     sigma_scale_factor=0.8,\n",
    "     relative_permittivity=4\n",
    " )"
   ]
  },
  {
   "cell_type": "code",
   "execution_count": null,
   "id": "ff1e9893",
   "metadata": {},
   "outputs": [],
   "source": [
    "type(opt_mol)\n",
    "opt_mol.draw3Dconfs()"
   ]
  },
  {
   "cell_type": "code",
   "execution_count": null,
   "id": "91b67e01",
   "metadata": {},
   "outputs": [],
   "source": [
    "opt_mol.to_file(\"optimised_corrds.pdb\")"
   ]
  },
  {
   "cell_type": "code",
   "execution_count": null,
   "id": "5e4635b1",
   "metadata": {},
   "outputs": [],
   "source": [
    "print(energies)"
   ]
  },
  {
   "cell_type": "code",
   "execution_count": null,
   "id": "bf4a893f",
   "metadata": {},
   "outputs": [],
   "source": [
    "final_mol, final_energies = sort_conformers(ligand=opt_mol, energies=energies, energy_range=5)"
   ]
  },
  {
   "cell_type": "code",
   "execution_count": null,
   "id": "2b2ab342",
   "metadata": {},
   "outputs": [],
   "source": [
    "final_mol.to_file(\"best_conformers.pdb\")"
   ]
  },
  {
   "cell_type": "code",
   "execution_count": null,
   "id": "08cb54f4",
   "metadata": {},
   "outputs": [],
   "source": [
    "print(final_energies)"
   ]
  },
  {
   "cell_type": "code",
   "execution_count": null,
   "id": "a1e6c6e4",
   "metadata": {},
   "outputs": [],
   "source": []
  }
 ],
 "metadata": {
  "kernelspec": {
   "display_name": "Python 3 (ipykernel)",
   "language": "python",
   "name": "python3"
  },
  "language_info": {
   "codemirror_mode": {
    "name": "ipython",
    "version": 3
   },
   "file_extension": ".py",
   "mimetype": "text/x-python",
   "name": "python",
   "nbconvert_exporter": "python",
   "pygments_lexer": "ipython3",
   "version": "3.9.7"
  }
 },
 "nbformat": 4,
 "nbformat_minor": 5
}
