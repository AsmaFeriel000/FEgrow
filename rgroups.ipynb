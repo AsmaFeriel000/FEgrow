{
 "cells": [
  {
   "cell_type": "code",
   "execution_count": null,
   "id": "e6ca4f77",
   "metadata": {},
   "outputs": [],
   "source": [
    "import copy\n",
    "\n",
    "import prody\n",
    "from rdkit import Chem\n",
    "from rdkit.Chem import Draw\n",
    "\n",
    "from rgroup.replace import rep2D, draw3D, merge_R_group"
   ]
  },
  {
   "cell_type": "code",
   "execution_count": null,
   "id": "57fcb6ea",
   "metadata": {},
   "outputs": [],
   "source": [
    "# load the complex with the ligand\n",
    "sys = prody.parsePDB('5NEV.pdb1')\n",
    "rec = sys.select('not (nucleic or hetatm) and not water')\n",
    "mol = sys.select('resname 72L')\n",
    "\n",
    "prody.writePDB('rec.pdb', rec)\n",
    "prody.writePDB('lig.pdb', mol)"
   ]
  },
  {
   "cell_type": "code",
   "execution_count": null,
   "id": "7c8fdea9",
   "metadata": {},
   "outputs": [],
   "source": [
    "# load the ligand\n",
    "mol = Chem.MolFromPDBFile('lig.pdb')\n",
    "mol = Chem.AddHs(mol, addCoords=True)\n",
    "mol"
   ]
  },
  {
   "cell_type": "code",
   "execution_count": null,
   "id": "71f54df6",
   "metadata": {},
   "outputs": [],
   "source": [
    "# select the atom to be replaced with the R group\n",
    "Draw.MolToImage(rep2D(mol))"
   ]
  },
  {
   "cell_type": "code",
   "execution_count": null,
   "id": "85f61e50",
   "metadata": {},
   "outputs": [],
   "source": [
    "# load the R group\n",
    "R_group = Chem.MolFromMolFile('data/rgroups/molecules/alcohols/methanol-r.mol', removeHs=False)\n",
    "viewer = draw3D(mol)"
   ]
  },
  {
   "cell_type": "code",
   "execution_count": null,
   "id": "a0f7f871",
   "metadata": {},
   "outputs": [],
   "source": [
    "finalMol = merge_R_group(mol, R_group, 72)\n",
    "finalMol"
   ]
  },
  {
   "cell_type": "code",
   "execution_count": null,
   "id": "b2feb2e4",
   "metadata": {},
   "outputs": [],
   "source": [
    "Draw.MolToImage(rep2D(finalMol))"
   ]
  }
 ],
 "metadata": {
  "kernelspec": {
   "display_name": "Python 3",
   "language": "python",
   "name": "python3"
  },
  "language_info": {
   "codemirror_mode": {
    "name": "ipython",
    "version": 3
   },
   "file_extension": ".py",
   "mimetype": "text/x-python",
   "name": "python",
   "nbconvert_exporter": "python",
   "pygments_lexer": "ipython3",
   "version": "3.8.0"
  }
 },
 "nbformat": 4,
 "nbformat_minor": 5
}
