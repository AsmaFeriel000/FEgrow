{
 "cells": [
  {
   "cell_type": "markdown",
   "id": "02ba3aa8",
   "metadata": {},
   "source": [
    "# De novo design\n",
    "\n",
    "### Developers: Mat Bieniek, Ben Cree, Rachael Pirie, Josh Horton\n",
    "\n",
    "* Add R-groups in user-defined positions\n",
    "* Output ADMET properties\n",
    "* Perform constrained optimisation\n",
    "* Score poses\n",
    "* Send output to free energy calculations\n",
    "\n",
    "Open source, customisable, fast/easy to use."
   ]
  },
  {
   "cell_type": "code",
   "execution_count": null,
   "id": "db1bed79",
   "metadata": {},
   "outputs": [],
   "source": [
    "import copy\n",
    "\n",
    "import prody\n",
    "from rdkit import Chem\n",
    "from rdkit.Chem import Draw\n",
    "\n",
    "from rgroup import RMol, RList, build_molecules, fix_receptor, optimise_in_receptor, RGroups, sort_conformers"
   ]
  },
  {
   "cell_type": "code",
   "execution_count": null,
   "id": "ee131d9c",
   "metadata": {},
   "outputs": [],
   "source": [
    "# load the complex with the ligand\n",
    "sys = prody.parsePDB('sarscov2/7l10.pdb')\n",
    "#sys = prody.parsePDB('jnk1/2gmx.pdb')\n",
    "\n",
    "rec = sys.select('not (nucleic or hetatm) and not water')\n",
    "mol = sys.select('resname XEY')\n",
    "#mol = sys.select('resname 877')\n",
    "\n",
    "prody.writePDB('rec.pdb', rec)\n",
    "#prody.writePDB('lig.pdb', mol)"
   ]
  },
  {
   "cell_type": "code",
   "execution_count": null,
   "id": "d53e1ba3",
   "metadata": {},
   "outputs": [],
   "source": [
    "#!wget 'https://models.rcsb.org/v1/5nev/ligand?auth_seq_id=301&label_asym_id=E&encoding=sdf&filename=5nev_E_72L.sdf' -O lig.sdf\n",
    "#!obabel jnk1/core.sdf -O jnk1/coreh.sdf -p 7\n",
    "!obabel sarscov2/lig.pdb -O sarscov2/coreh.sdf -p 7\n",
    "# ^manually modify the files if need be"
   ]
  },
  {
   "cell_type": "code",
   "execution_count": null,
   "id": "57003f89",
   "metadata": {},
   "outputs": [],
   "source": [
    "# load the ligand\n",
    "# rdkit doesn't do a good job with protonation, \n",
    "#init_mol = Chem.MolFromPDBFile('lig.pdb', removeHs=False)\n",
    "#init_mol = Chem.AddHs(init_mol, addCoords=True)\n",
    "\n",
    "init_mol = Chem.SDMolSupplier('sarscov2/coreh.sdf', removeHs=False)[0]\n",
    "\n",
    "# get the R group representation of the rdkit Mol\n",
    "rinit_mol = RMol(init_mol)"
   ]
  },
  {
   "cell_type": "code",
   "execution_count": null,
   "id": "366221aa",
   "metadata": {},
   "outputs": [],
   "source": [
    "# select the atom to be replaced with the R group\n",
    "rinit_mol.rep2D(idx=True, size=(500, 500))"
   ]
  },
  {
   "cell_type": "code",
   "execution_count": null,
   "id": "466f9e22",
   "metadata": {},
   "outputs": [],
   "source": [
    "# look up r groups and select\n",
    "RGroups"
   ]
  },
  {
   "cell_type": "code",
   "execution_count": null,
   "id": "8009419d",
   "metadata": {},
   "outputs": [],
   "source": [
    "R_group_propan = Chem.MolFromMolFile('data/rgroups/molecules/alcohols/propan-1-ol-r.mol', removeHs=False)\n",
    "R_group_methanol = Chem.MolFromMolFile('data/rgroups/molecules/alcohols/methanol-r.mol', removeHs=False)\n",
    "#R_group = Chem.MolFromMolFile('data/rgroups/molecules/aromatics/benzyl_alcohol.mol', removeHs=False)\n",
    "#R_group = Chem.MolFromMolFile('jnk1/jnk1-1.mol', removeHs=False)"
   ]
  },
  {
   "cell_type": "code",
   "execution_count": null,
   "id": "963982f8",
   "metadata": {},
   "outputs": [],
   "source": [
    "# build a list of molecules\n",
    "attachment_index = [40]\n",
    "rmols = build_molecules(rinit_mol, attachment_index, [R_group_propan, R_group_methanol])"
   ]
  },
  {
   "cell_type": "code",
   "execution_count": null,
   "id": "e84c0a4b",
   "metadata": {},
   "outputs": [],
   "source": [
    "rmols.rep2D()"
   ]
  },
  {
   "cell_type": "code",
   "execution_count": null,
   "id": "e1b6d5e4",
   "metadata": {},
   "outputs": [],
   "source": [
    "rmols[0].rep3D()"
   ]
  },
  {
   "cell_type": "code",
   "execution_count": null,
   "id": "0d3e137a",
   "metadata": {},
   "outputs": [],
   "source": [
    "rmols.toxicity()"
   ]
  },
  {
   "cell_type": "code",
   "execution_count": null,
   "id": "37109d7a",
   "metadata": {},
   "outputs": [],
   "source": [
    "rmols.generate_conformers(num_conf=30, \n",
    "                         minimum_conf_rms=0.5, \n",
    "                        )\n",
    "                        # flexible=[39, 18, 40, 16, 17, 19, 5, 6, 36, 2, 1, 33, 3, 4, 35, 34, 15, 38])"
   ]
  },
  {
   "cell_type": "code",
   "execution_count": null,
   "id": "e245d37c",
   "metadata": {
    "scrolled": true
   },
   "outputs": [],
   "source": [
    "#rmol.rep3D(template=True)"
   ]
  },
  {
   "cell_type": "code",
   "execution_count": null,
   "id": "af2c164d",
   "metadata": {},
   "outputs": [],
   "source": [
    "rmols.GetNumConformers()"
   ]
  },
  {
   "cell_type": "markdown",
   "id": "c671e71e",
   "metadata": {},
   "source": [
    "### Optimise conformers in context of protein"
   ]
  },
  {
   "cell_type": "code",
   "execution_count": null,
   "id": "09684057",
   "metadata": {},
   "outputs": [],
   "source": [
    "# fix the receptor file \n",
    "fix_receptor(\"rec.pdb\", \"rec_h.pdb\")\n",
    "# load back into prody\n",
    "rec_fix = prody.parsePDB(\"rec_h.pdb\")"
   ]
  },
  {
   "cell_type": "code",
   "execution_count": null,
   "id": "bf5e9990",
   "metadata": {},
   "outputs": [],
   "source": [
    "# filter by the protein clashes\n",
    "rmols[0].rep3D(prody=rec_fix)"
   ]
  },
  {
   "cell_type": "code",
   "execution_count": null,
   "id": "e21c2377",
   "metadata": {},
   "outputs": [],
   "source": [
    "rmols.removeConfsClashingWithProdyProt(rec_fix)"
   ]
  },
  {
   "cell_type": "code",
   "execution_count": null,
   "id": "10af935c",
   "metadata": {},
   "outputs": [],
   "source": [
    "rmols[0].rep3D(prody=rec_fix)"
   ]
  },
  {
   "cell_type": "code",
   "execution_count": null,
   "id": "e1d2bdeb",
   "metadata": {},
   "outputs": [],
   "source": [
    "# opt_mol, energies\n",
    "energies = rmols.optimise_in_receptor(\n",
    "    receptor_file=\"rec_h.pdb\", \n",
    "    ligand_force_field=\"openff\", \n",
    "    use_ani=False,\n",
    "    sigma_scale_factor=0.8,\n",
    "    relative_permittivity=4\n",
    ")"
   ]
  },
  {
   "cell_type": "code",
   "execution_count": null,
   "id": "ff1e9893",
   "metadata": {},
   "outputs": [],
   "source": [
    "rmols[0].rep3D()"
   ]
  },
  {
   "cell_type": "code",
   "execution_count": null,
   "id": "91b67e01",
   "metadata": {},
   "outputs": [],
   "source": [
    "rmols[0].to_file(\"optimised_coords.pdb\")"
   ]
  },
  {
   "cell_type": "code",
   "execution_count": null,
   "id": "5e4635b1",
   "metadata": {},
   "outputs": [],
   "source": [
    "print(energies)"
   ]
  },
  {
   "cell_type": "code",
   "execution_count": null,
   "id": "12692bac",
   "metadata": {},
   "outputs": [],
   "source": [
    "final_energies = rmols.sort_conformers(energy_range=5)"
   ]
  },
  {
   "cell_type": "code",
   "execution_count": null,
   "id": "2b2ab342",
   "metadata": {},
   "outputs": [],
   "source": [
    "rmols[0].to_file(\"best_conformers.pdb\")"
   ]
  },
  {
   "cell_type": "code",
   "execution_count": null,
   "id": "08cb54f4",
   "metadata": {},
   "outputs": [],
   "source": [
    "print(final_energies)"
   ]
  },
  {
   "cell_type": "code",
   "execution_count": null,
   "id": "05d75250",
   "metadata": {},
   "outputs": [],
   "source": [
    "CNNscores = rmols.gnina(receptor_file=\"rec_h.pdb\") \n",
    "CNNscores"
   ]
  },
  {
   "cell_type": "code",
   "execution_count": null,
   "id": "1317773a",
   "metadata": {},
   "outputs": [],
   "source": []
  }
 ],
 "metadata": {
  "kernelspec": {
   "display_name": "Python 3",
   "language": "python",
   "name": "python3"
  },
  "language_info": {
   "codemirror_mode": {
    "name": "ipython",
    "version": 3
   },
   "file_extension": ".py",
   "mimetype": "text/x-python",
   "name": "python",
   "nbconvert_exporter": "python",
   "pygments_lexer": "ipython3",
   "version": "3.9.7"
  }
 },
 "nbformat": 4,
 "nbformat_minor": 5
}
