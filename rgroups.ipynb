{
 "cells": [
  {
   "cell_type": "code",
   "execution_count": 1,
   "id": "e6ca4f77",
   "metadata": {},
   "outputs": [
    {
     "name": "stderr",
     "output_type": "stream",
     "text": [
      "<frozen importlib._bootstrap>:219: RuntimeWarning: to-Python converter for boost::shared_ptr<RDKit::FilterCatalogEntry const> already registered; second conversion method ignored.\n"
     ]
    }
   ],
   "source": [
    "import copy\n",
    "\n",
    "import prody\n",
    "from rdkit import Chem\n",
    "from rdkit.Chem import Draw\n",
    "\n",
    "from rgroup import rep2D, draw3D, draw3Dcons, merge_R_group, tox_props, Mol, generate_conformers"
   ]
  },
  {
   "cell_type": "code",
   "execution_count": 2,
   "id": "57fcb6ea",
   "metadata": {},
   "outputs": [
    {
     "name": "stderr",
     "output_type": "stream",
     "text": [
      "@> 4485 atoms and 1 coordinate set(s) were parsed in 0.04s.\n"
     ]
    },
    {
     "data": {
      "text/plain": [
       "'lig.pdb'"
      ]
     },
     "execution_count": 2,
     "metadata": {},
     "output_type": "execute_result"
    }
   ],
   "source": [
    "# load the complex with the ligand\n",
    "sys = prody.parsePDB('5NEV.pdb1')\n",
    "rec = sys.select('not (nucleic or hetatm) and not water')\n",
    "mol = sys.select('resname 72L')\n",
    "\n",
    "prody.writePDB('rec.pdb', rec)\n",
    "prody.writePDB('lig.pdb', mol)"
   ]
  },
  {
   "cell_type": "code",
   "execution_count": 3,
   "id": "04295a48",
   "metadata": {},
   "outputs": [
    {
     "name": "stdout",
     "output_type": "stream",
     "text": [
      "1 molecule converted\r\n"
     ]
    }
   ],
   "source": [
    "!obabel lig.pdb -O ligh.pdb -p 7"
   ]
  },
  {
   "cell_type": "code",
   "execution_count": 4,
   "id": "71f54df6",
   "metadata": {},
   "outputs": [
    {
     "data": {
      "image/png": "[encoded data removed]",
      "text/plain": [
       "<PIL.PngImagePlugin.PngImageFile image mode=RGB size=300x300 at 0x7EFFB0171280>"
      ]
     },
     "execution_count": 4,
     "metadata": {},
     "output_type": "execute_result"
    }
   ],
   "source": [
    "# load the ligand\n",
    "init_mol = Chem.MolFromPDBFile('lig.pdb')\n",
    "init_mol = Chem.AddHs(init_mol, addCoords=True)\n",
    "\n",
    "# select the atom to be replaced with the R group\n",
    "Draw.MolToImage(rep2D(init_mol))"
   ]
  },
  {
   "cell_type": "code",
   "execution_count": 5,
   "id": "85f61e50",
   "metadata": {},
   "outputs": [
    {
     "data": {
      "application/3dmoljs_load.v0": "<div id=\"3dmolviewer_16310180529533787\"  style=\"position: relative; width: 300px; height: 300px\">\n        <p id=\"3dmolwarning_16310180529533787\" style=\"background-color:#ffcccc;color:black\">You appear to be running in JupyterLab (or JavaScript failed to load for some other reason).  You need to install the 3dmol extension: <br>\n        <tt>jupyter labextension install jupyterlab_3dmol</tt></p>\n        </div>\n<script>\n\nvar loadScriptAsync = function(uri){\n  return new Promise((resolve, reject) => {\n    var tag = document.createElement('script');\n    tag.src = uri;\n    tag.async = true;\n    tag.onload = () => {\n      resolve();\n    };\n  var firstScriptTag = document.getElementsByTagName('script')[0];\n  firstScriptTag.parentNode.insertBefore(tag, firstScriptTag);\n});\n};\n\nif(typeof $3Dmolpromise === 'undefined') {\n$3Dmolpromise = null;\n  $3Dmolpromise = loadScriptAsync('https://3dmol.org/build/3Dmol.js');\n}\n\nvar viewer_16310180529533787 = null;\nvar warn = document.getElementById(\"3dmolwarning_16310180529533787\");\nif(warn) {\n    warn.parentNode.removeChild(warn);\n}\n$3Dmolpromise.then(function() {\nvar viewergrid_16310180529533787 = null;\nviewergrid_16310180529533787 = $3Dmol.createViewerGrid($(\"#3dmolviewer_16310180529533787\"),{rows: 1, cols: 1, control_all: true},{backgroundColor:\"white\"});\nviewer_16310180529533787 = viewergrid_16310180529533787[0][0];\nviewergrid_16310180529533787[0][0].zoomTo();\tviewergrid_16310180529533787[0][0].addModel(\"Propane-1,2,3-triol\\n     RDKit          3D\\n\\n 14 13  0  0  0  0  0  0  0  0999 V2000\\n    1.5547    0.9680    0.2537 H   0  0  0  0  0  0  0  0  0  0  0  0\\n    1.2315   -0.0564   -0.0143 C   0  0  0  0  0  0  0  0  0  0  0  0\\n    1.4519   -0.2170   -1.0842 H   0  0  0  0  0  0  0  0  0  0  0  0\\n    2.0169   -1.0226    0.6297 O   0  0  0  0  0  0  0  0  0  0  0  0\\n    2.0689   -0.7804    1.5458 H   0  0  0  0  0  0  0  0  0  0  0  0\\n   -0.2790   -0.2525    0.2547 C   0  0  0  0  0  0  0  0  0  0  0  0\\n   -0.5770   -1.2980   -0.0068 H   0  0  0  0  0  0  0  0  0  0  0  0\\n   -0.5935   -0.0028    1.6117 O   0  0  0  0  0  0  0  0  0  0  0  0\\n   -0.2997   -0.7620    2.0961 H   0  0  0  0  0  0  0  0  0  0  0  0\\n   -1.1082    0.7581   -0.5727 C   0  0  0  0  0  0  0  0  0  0  0  0\\n   -0.6690    1.7710   -0.5430 H   0  0  0  0  0  0  0  0  0  0  0  0\\n   -2.1437    0.8276   -0.1851 H   0  0  0  0  0  0  0  0  0  0  0  0\\n   -1.1151    0.4550   -1.9403 O   0  0  0  0  0  0  0  0  0  0  0  0\\n   -1.5386   -0.3880   -2.0453 *   0  0  0  0  0  0  0  0  0  0  0  0\\n  1  2  1  0\\n  2  3  1  0\\n  2  4  1  0\\n  2  6  1  0\\n  4  5  1  0\\n  6  7  1  0\\n  6  8  1  0\\n  6 10  1  0\\n  8  9  1  0\\n 10 11  1  0\\n 10 12  1  0\\n 10 13  1  0\\n 13 14  1  0\\nV   14 *\\nM  END\\n\",\"mol\");\n\tviewergrid_16310180529533787[0][0].setStyle({\"stick\": {}});\n\tviewergrid_16310180529533787[0][0].zoomTo();\nviewergrid_16310180529533787[0][0].render();\n});\n</script>",
      "text/html": [
       "<div id=\"3dmolviewer_16310180529533787\"  style=\"position: relative; width: 300px; height: 300px\">\n",
       "        <p id=\"3dmolwarning_16310180529533787\" style=\"background-color:#ffcccc;color:black\">You appear to be running in JupyterLab (or JavaScript failed to load for some other reason).  You need to install the 3dmol extension: <br>\n",
       "        <tt>jupyter labextension install jupyterlab_3dmol</tt></p>\n",
       "        </div>\n",
       "<script>\n",
       "\n",
       "var loadScriptAsync = function(uri){\n",
       "  return new Promise((resolve, reject) => {\n",
       "    var tag = document.createElement('script');\n",
       "    tag.src = uri;\n",
       "    tag.async = true;\n",
       "    tag.onload = () => {\n",
       "      resolve();\n",
       "    };\n",
       "  var firstScriptTag = document.getElementsByTagName('script')[0];\n",
       "  firstScriptTag.parentNode.insertBefore(tag, firstScriptTag);\n",
       "});\n",
       "};\n",
       "\n",
       "if(typeof $3Dmolpromise === 'undefined') {\n",
       "$3Dmolpromise = null;\n",
       "  $3Dmolpromise = loadScriptAsync('https://3dmol.org/build/3Dmol.js');\n",
       "}\n",
       "\n",
       "var viewer_16310180529533787 = null;\n",
       "var warn = document.getElementById(\"3dmolwarning_16310180529533787\");\n",
       "if(warn) {\n",
       "    warn.parentNode.removeChild(warn);\n",
       "}\n",
       "$3Dmolpromise.then(function() {\n",
       "var viewergrid_16310180529533787 = null;\n",
       "viewergrid_16310180529533787 = $3Dmol.createViewerGrid($(\"#3dmolviewer_16310180529533787\"),{rows: 1, cols: 1, control_all: true},{backgroundColor:\"white\"});\n",
       "viewer_16310180529533787 = viewergrid_16310180529533787[0][0];\n",
       "viewergrid_16310180529533787[0][0].zoomTo();\tviewergrid_16310180529533787[0][0].addModel(\"Propane-1,2,3-triol\\n     RDKit          3D\\n\\n 14 13  0  0  0  0  0  0  0  0999 V2000\\n    1.5547    0.9680    0.2537 H   0  0  0  0  0  0  0  0  0  0  0  0\\n    1.2315   -0.0564   -0.0143 C   0  0  0  0  0  0  0  0  0  0  0  0\\n    1.4519   -0.2170   -1.0842 H   0  0  0  0  0  0  0  0  0  0  0  0\\n    2.0169   -1.0226    0.6297 O   0  0  0  0  0  0  0  0  0  0  0  0\\n    2.0689   -0.7804    1.5458 H   0  0  0  0  0  0  0  0  0  0  0  0\\n   -0.2790   -0.2525    0.2547 C   0  0  0  0  0  0  0  0  0  0  0  0\\n   -0.5770   -1.2980   -0.0068 H   0  0  0  0  0  0  0  0  0  0  0  0\\n   -0.5935   -0.0028    1.6117 O   0  0  0  0  0  0  0  0  0  0  0  0\\n   -0.2997   -0.7620    2.0961 H   0  0  0  0  0  0  0  0  0  0  0  0\\n   -1.1082    0.7581   -0.5727 C   0  0  0  0  0  0  0  0  0  0  0  0\\n   -0.6690    1.7710   -0.5430 H   0  0  0  0  0  0  0  0  0  0  0  0\\n   -2.1437    0.8276   -0.1851 H   0  0  0  0  0  0  0  0  0  0  0  0\\n   -1.1151    0.4550   -1.9403 O   0  0  0  0  0  0  0  0  0  0  0  0\\n   -1.5386   -0.3880   -2.0453 *   0  0  0  0  0  0  0  0  0  0  0  0\\n  1  2  1  0\\n  2  3  1  0\\n  2  4  1  0\\n  2  6  1  0\\n  4  5  1  0\\n  6  7  1  0\\n  6  8  1  0\\n  6 10  1  0\\n  8  9  1  0\\n 10 11  1  0\\n 10 12  1  0\\n 10 13  1  0\\n 13 14  1  0\\nV   14 *\\nM  END\\n\",\"mol\");\n",
       "\tviewergrid_16310180529533787[0][0].setStyle({\"stick\": {}});\n",
       "\tviewergrid_16310180529533787[0][0].zoomTo();\n",
       "viewergrid_16310180529533787[0][0].render();\n",
       "});\n",
       "</script>"
      ]
     },
     "metadata": {},
     "output_type": "display_data"
    },
    {
     "data": {
      "text/plain": [
       "<py3Dmol.view at 0x7eff907b7640>"
      ]
     },
     "execution_count": 5,
     "metadata": {},
     "output_type": "execute_result"
    }
   ],
   "source": [
    "# load the R group\n",
    "R_group = Chem.MolFromMolFile('data/rgroups/molecules/alcohols/propane-1_2_3-triol-r.mol', removeHs=False)\n",
    "draw3D(R_group)"
   ]
  },
  {
   "cell_type": "code",
   "execution_count": 6,
   "id": "5b0f8753",
   "metadata": {},
   "outputs": [
    {
     "data": {
      "application/3dmoljs_load.v0": "<div id=\"3dmolviewer_16310180529682357\"  style=\"position: relative; width: 300px; height: 300px\">\n        <p id=\"3dmolwarning_16310180529682357\" style=\"background-color:#ffcccc;color:black\">You appear to be running in JupyterLab (or JavaScript failed to load for some other reason).  You need to install the 3dmol extension: <br>\n        <tt>jupyter labextension install jupyterlab_3dmol</tt></p>\n        </div>\n<script>\n\nvar loadScriptAsync = function(uri){\n  return new Promise((resolve, reject) => {\n    var tag = document.createElement('script');\n    tag.src = uri;\n    tag.async = true;\n    tag.onload = () => {\n      resolve();\n    };\n  var firstScriptTag = document.getElementsByTagName('script')[0];\n  firstScriptTag.parentNode.insertBefore(tag, firstScriptTag);\n});\n};\n\nif(typeof $3Dmolpromise === 'undefined') {\n$3Dmolpromise = null;\n  $3Dmolpromise = loadScriptAsync('https://3dmol.org/build/3Dmol.js');\n}\n\nvar viewer_16310180529682357 = null;\nvar warn = document.getElementById(\"3dmolwarning_16310180529682357\");\nif(warn) {\n    warn.parentNode.removeChild(warn);\n}\n$3Dmolpromise.then(function() {\nvar viewergrid_16310180529682357 = null;\nviewergrid_16310180529682357 = $3Dmol.createViewerGrid($(\"#3dmolviewer_16310180529682357\"),{rows: 1, cols: 1, control_all: true},{backgroundColor:\"white\"});\nviewer_16310180529682357 = viewergrid_16310180529682357[0][0];\nviewergrid_16310180529682357[0][0].zoomTo();\tviewergrid_16310180529682357[0][0].addModel(\"\\n     RDKit          3D\\n\\n 32 36  0  0  0  0  0  0  0  0999 V2000\\n   -9.3580  -20.5510   22.1990 C   0  0  0  0  0  0  0  0  0  0  0  0\\n   -5.2320  -25.1460   25.4970 C   0  0  0  0  0  0  0  0  0  0  0  0\\n   -4.7850  -25.7990   26.6460 C   0  0  0  0  0  0  0  0  0  0  0  0\\n   -4.5320  -25.3470   24.3000 C   0  0  0  0  0  0  0  0  0  0  0  0\\n   -3.4200  -26.1570   24.2660 C   0  0  0  0  0  0  0  0  0  0  0  0\\n   -3.0130  -26.7970   25.4060 C   0  0  0  0  0  0  0  0  0  0  0  0\\n   -3.6780  -26.6120   26.6020 C   0  0  0  0  0  0  0  0  0  0  0  0\\n   -5.8480  -22.8780   23.7420 N   0  0  0  0  0  0  0  0  0  0  0  0\\n   -8.0440  -22.8830   24.5100 N   0  0  0  0  0  0  0  0  0  0  0  0\\n   -9.5190  -21.3900   23.2500 N   0  0  0  0  0  0  0  0  0  0  0  0\\n   -6.1130  -21.9810   22.7510 C   0  0  0  0  0  0  0  0  0  0  0  0\\n   -6.7760  -23.3300   24.6080 C   0  0  0  0  0  0  0  0  0  0  0  0\\n   -8.3750  -21.9850   23.5400 C   0  0  0  0  0  0  0  0  0  0  0  0\\n   -7.4240  -21.5220   22.6350 C   0  0  0  0  0  0  0  0  0  0  0  0\\n   -8.1090  -20.5710   21.7390 N   0  0  0  0  0  0  0  0  0  0  0  0\\n   -6.4140  -24.2890   25.6120 N   0  0  0  0  0  0  0  0  0  0  0  0\\n   -1.6170  -27.7930   25.2700 S   0  0  1  0  0  0  0  0  0  0  0  0\\n   -1.7360  -28.6500   24.1620 O   0  0  0  0  0  0  0  0  0  0  0  0\\n   -0.4980  -26.5940   24.9660 N   0  0  0  0  0  0  0  0  0  0  0  0\\n   -1.3360  -28.5610   26.4290 O   0  0  0  0  0  0  0  0  0  0  0  0\\n   -5.0150  -21.5730   21.8200 C   0  0  0  0  0  0  0  0  0  0  0  0\\n   -5.1760  -20.7020   20.7060 C   0  0  0  0  0  0  0  0  0  0  0  0\\n   -4.0900  -20.4060   19.8760 C   0  0  0  0  0  0  0  0  0  0  0  0\\n   -2.8450  -20.9740   20.1240 C   0  0  0  0  0  0  0  0  0  0  0  0\\n   -2.7080  -21.8170   21.2020 C   0  0  0  0  0  0  0  0  0  0  0  0\\n   -3.7530  -22.1330   22.0350 C   0  0  0  0  0  0  0  0  0  0  0  0\\n   -1.4190  -22.4290   21.4930 C   0  0  0  0  0  0  0  0  0  0  0  0\\n   -1.3260  -23.7720   21.3220 C   0  0  0  0  0  0  0  0  0  0  0  0\\n   -0.1450  -24.3590   21.5890 C   0  0  0  0  0  0  0  0  0  0  0  0\\n    0.9310  -23.6010   22.0200 C   0  0  0  0  0  0  0  0  0  0  0  0\\n    0.8160  -22.2430   22.1870 C   0  0  0  0  0  0  0  0  0  0  0  0\\n   -0.3750  -21.6510   21.9200 C   0  0  0  0  0  0  0  0  0  0  0  0\\n  3  2  1  0\\n  4  2  1  0\\n  5  4  1  0\\n  6  5  1  0\\n  7  6  1  0\\n  7  3  1  0\\n 10  1  1  0\\n 11  8  1  0\\n 12  9  1  0\\n 12  8  1  0\\n 13  9  1  0\\n 13 10  1  0\\n 14 13  1  0\\n 14 11  1  0\\n 15 14  1  0\\n 15  1  1  0\\n 16 12  1  0\\n 16  2  1  0\\n 17  6  1  0\\n 18 17  1  0\\n 17 19  1  6\\n 20 17  1  0\\n 21 11  1  0\\n 22 21  1  0\\n 23 22  1  0\\n 24 23  1  0\\n 25 24  1  0\\n 26 25  1  0\\n 26 21  1  0\\n 27 25  1  0\\n 28 27  1  0\\n 29 28  1  0\\n 30 29  1  0\\n 31 30  1  0\\n 32 27  1  0\\n 32 31  1  0\\nM  END\\n\",\"mol\");\n\tviewergrid_16310180529682357[0][0].setStyle({\"stick\": {}});\n\tviewergrid_16310180529682357[0][0].zoomTo();\nviewergrid_16310180529682357[0][0].render();\n});\n</script>",
      "text/html": [
       "<div id=\"3dmolviewer_16310180529682357\"  style=\"position: relative; width: 300px; height: 300px\">\n",
       "        <p id=\"3dmolwarning_16310180529682357\" style=\"background-color:#ffcccc;color:black\">You appear to be running in JupyterLab (or JavaScript failed to load for some other reason).  You need to install the 3dmol extension: <br>\n",
       "        <tt>jupyter labextension install jupyterlab_3dmol</tt></p>\n",
       "        </div>\n",
       "<script>\n",
       "\n",
       "var loadScriptAsync = function(uri){\n",
       "  return new Promise((resolve, reject) => {\n",
       "    var tag = document.createElement('script');\n",
       "    tag.src = uri;\n",
       "    tag.async = true;\n",
       "    tag.onload = () => {\n",
       "      resolve();\n",
       "    };\n",
       "  var firstScriptTag = document.getElementsByTagName('script')[0];\n",
       "  firstScriptTag.parentNode.insertBefore(tag, firstScriptTag);\n",
       "});\n",
       "};\n",
       "\n",
       "if(typeof $3Dmolpromise === 'undefined') {\n",
       "$3Dmolpromise = null;\n",
       "  $3Dmolpromise = loadScriptAsync('https://3dmol.org/build/3Dmol.js');\n",
       "}\n",
       "\n",
       "var viewer_16310180529682357 = null;\n",
       "var warn = document.getElementById(\"3dmolwarning_16310180529682357\");\n",
       "if(warn) {\n",
       "    warn.parentNode.removeChild(warn);\n",
       "}\n",
       "$3Dmolpromise.then(function() {\n",
       "var viewergrid_16310180529682357 = null;\n",
       "viewergrid_16310180529682357 = $3Dmol.createViewerGrid($(\"#3dmolviewer_16310180529682357\"),{rows: 1, cols: 1, control_all: true},{backgroundColor:\"white\"});\n",
       "viewer_16310180529682357 = viewergrid_16310180529682357[0][0];\n",
       "viewergrid_16310180529682357[0][0].zoomTo();\tviewergrid_16310180529682357[0][0].addModel(\"\\n     RDKit          3D\\n\\n 32 36  0  0  0  0  0  0  0  0999 V2000\\n   -9.3580  -20.5510   22.1990 C   0  0  0  0  0  0  0  0  0  0  0  0\\n   -5.2320  -25.1460   25.4970 C   0  0  0  0  0  0  0  0  0  0  0  0\\n   -4.7850  -25.7990   26.6460 C   0  0  0  0  0  0  0  0  0  0  0  0\\n   -4.5320  -25.3470   24.3000 C   0  0  0  0  0  0  0  0  0  0  0  0\\n   -3.4200  -26.1570   24.2660 C   0  0  0  0  0  0  0  0  0  0  0  0\\n   -3.0130  -26.7970   25.4060 C   0  0  0  0  0  0  0  0  0  0  0  0\\n   -3.6780  -26.6120   26.6020 C   0  0  0  0  0  0  0  0  0  0  0  0\\n   -5.8480  -22.8780   23.7420 N   0  0  0  0  0  0  0  0  0  0  0  0\\n   -8.0440  -22.8830   24.5100 N   0  0  0  0  0  0  0  0  0  0  0  0\\n   -9.5190  -21.3900   23.2500 N   0  0  0  0  0  0  0  0  0  0  0  0\\n   -6.1130  -21.9810   22.7510 C   0  0  0  0  0  0  0  0  0  0  0  0\\n   -6.7760  -23.3300   24.6080 C   0  0  0  0  0  0  0  0  0  0  0  0\\n   -8.3750  -21.9850   23.5400 C   0  0  0  0  0  0  0  0  0  0  0  0\\n   -7.4240  -21.5220   22.6350 C   0  0  0  0  0  0  0  0  0  0  0  0\\n   -8.1090  -20.5710   21.7390 N   0  0  0  0  0  0  0  0  0  0  0  0\\n   -6.4140  -24.2890   25.6120 N   0  0  0  0  0  0  0  0  0  0  0  0\\n   -1.6170  -27.7930   25.2700 S   0  0  1  0  0  0  0  0  0  0  0  0\\n   -1.7360  -28.6500   24.1620 O   0  0  0  0  0  0  0  0  0  0  0  0\\n   -0.4980  -26.5940   24.9660 N   0  0  0  0  0  0  0  0  0  0  0  0\\n   -1.3360  -28.5610   26.4290 O   0  0  0  0  0  0  0  0  0  0  0  0\\n   -5.0150  -21.5730   21.8200 C   0  0  0  0  0  0  0  0  0  0  0  0\\n   -5.1760  -20.7020   20.7060 C   0  0  0  0  0  0  0  0  0  0  0  0\\n   -4.0900  -20.4060   19.8760 C   0  0  0  0  0  0  0  0  0  0  0  0\\n   -2.8450  -20.9740   20.1240 C   0  0  0  0  0  0  0  0  0  0  0  0\\n   -2.7080  -21.8170   21.2020 C   0  0  0  0  0  0  0  0  0  0  0  0\\n   -3.7530  -22.1330   22.0350 C   0  0  0  0  0  0  0  0  0  0  0  0\\n   -1.4190  -22.4290   21.4930 C   0  0  0  0  0  0  0  0  0  0  0  0\\n   -1.3260  -23.7720   21.3220 C   0  0  0  0  0  0  0  0  0  0  0  0\\n   -0.1450  -24.3590   21.5890 C   0  0  0  0  0  0  0  0  0  0  0  0\\n    0.9310  -23.6010   22.0200 C   0  0  0  0  0  0  0  0  0  0  0  0\\n    0.8160  -22.2430   22.1870 C   0  0  0  0  0  0  0  0  0  0  0  0\\n   -0.3750  -21.6510   21.9200 C   0  0  0  0  0  0  0  0  0  0  0  0\\n  3  2  1  0\\n  4  2  1  0\\n  5  4  1  0\\n  6  5  1  0\\n  7  6  1  0\\n  7  3  1  0\\n 10  1  1  0\\n 11  8  1  0\\n 12  9  1  0\\n 12  8  1  0\\n 13  9  1  0\\n 13 10  1  0\\n 14 13  1  0\\n 14 11  1  0\\n 15 14  1  0\\n 15  1  1  0\\n 16 12  1  0\\n 16  2  1  0\\n 17  6  1  0\\n 18 17  1  0\\n 17 19  1  6\\n 20 17  1  0\\n 21 11  1  0\\n 22 21  1  0\\n 23 22  1  0\\n 24 23  1  0\\n 25 24  1  0\\n 26 25  1  0\\n 26 21  1  0\\n 27 25  1  0\\n 28 27  1  0\\n 29 28  1  0\\n 30 29  1  0\\n 31 30  1  0\\n 32 27  1  0\\n 32 31  1  0\\nM  END\\n\",\"mol\");\n",
       "\tviewergrid_16310180529682357[0][0].setStyle({\"stick\": {}});\n",
       "\tviewergrid_16310180529682357[0][0].zoomTo();\n",
       "viewergrid_16310180529682357[0][0].render();\n",
       "});\n",
       "</script>"
      ]
     },
     "metadata": {},
     "output_type": "display_data"
    },
    {
     "data": {
      "text/plain": [
       "<py3Dmol.view at 0x7eff907b7580>"
      ]
     },
     "execution_count": 6,
     "metadata": {},
     "output_type": "execute_result"
    }
   ],
   "source": [
    "draw3D(init_mol)"
   ]
  },
  {
   "cell_type": "code",
   "execution_count": 7,
   "id": "a0f7f871",
   "metadata": {},
   "outputs": [
    {
     "name": "stdout",
     "output_type": "stream",
     "text": [
      "Rgroup atom index <rdkit.Chem.rdchem.QueryAtom object at 0x7eff907be4e0> neighbouring <rdkit.Chem.rdchem.Atom object at 0x7eff907be3f0>\n"
     ]
    },
    {
     "ename": "RuntimeError",
     "evalue": "Range Error\n\tidx\n\tViolation occurred on line 198 in file Code/GraphMol/ROMol.cpp\n\tFailed Expression: 72 < 32\n\tRDKIT: 2021.03.5\n\tBOOST: 1_74\n",
     "output_type": "error",
     "traceback": [
      "\u001b[0;31m---------------------------------------------------------------------------\u001b[0m",
      "\u001b[0;31mRuntimeError\u001b[0m                              Traceback (most recent call last)",
      "\u001b[0;32m/tmp/ipykernel_54416/2588840244.py\u001b[0m in \u001b[0;36m<module>\u001b[0;34m\u001b[0m\n\u001b[0;32m----> 1\u001b[0;31m \u001b[0mmol\u001b[0m \u001b[0;34m=\u001b[0m \u001b[0mmerge_R_group\u001b[0m\u001b[0;34m(\u001b[0m\u001b[0minit_mol\u001b[0m\u001b[0;34m,\u001b[0m \u001b[0mR_group\u001b[0m\u001b[0;34m,\u001b[0m \u001b[0;36m72\u001b[0m\u001b[0;34m)\u001b[0m\u001b[0;34m\u001b[0m\u001b[0;34m\u001b[0m\u001b[0m\n\u001b[0m\u001b[1;32m      2\u001b[0m \u001b[0mdraw3D\u001b[0m\u001b[0;34m(\u001b[0m\u001b[0mmol\u001b[0m\u001b[0;34m)\u001b[0m\u001b[0;34m\u001b[0m\u001b[0;34m\u001b[0m\u001b[0m\n",
      "\u001b[0;32m~/code/rgroups/rgroup/package.py\u001b[0m in \u001b[0;36mmerge_R_group\u001b[0;34m(mol, R_group, replaceIndex)\u001b[0m\n\u001b[1;32m     74\u001b[0m \u001b[0;34m\u001b[0m\u001b[0m\n\u001b[1;32m     75\u001b[0m     \u001b[0;31m# atom to be replaced in the molecule\u001b[0m\u001b[0;34m\u001b[0m\u001b[0;34m\u001b[0m\u001b[0;34m\u001b[0m\u001b[0m\n\u001b[0;32m---> 76\u001b[0;31m     \u001b[0mreplace_atom\u001b[0m \u001b[0;34m=\u001b[0m \u001b[0mmol\u001b[0m\u001b[0;34m.\u001b[0m\u001b[0mGetAtomWithIdx\u001b[0m\u001b[0;34m(\u001b[0m\u001b[0mreplaceIndex\u001b[0m\u001b[0;34m)\u001b[0m\u001b[0;34m\u001b[0m\u001b[0;34m\u001b[0m\u001b[0m\n\u001b[0m\u001b[1;32m     77\u001b[0m     \u001b[0;32massert\u001b[0m \u001b[0mlen\u001b[0m\u001b[0;34m(\u001b[0m\u001b[0mreplace_atom\u001b[0m\u001b[0;34m.\u001b[0m\u001b[0mGetNeighbors\u001b[0m\u001b[0;34m(\u001b[0m\u001b[0;34m)\u001b[0m\u001b[0;34m)\u001b[0m\u001b[0;34m==\u001b[0m\u001b[0;36m1\u001b[0m\u001b[0;34m,\u001b[0m \u001b[0;34m'The atom being replaced on the molecule has more neighbour atoms than 1. Not supported.'\u001b[0m\u001b[0;34m\u001b[0m\u001b[0;34m\u001b[0m\u001b[0m\n\u001b[1;32m     78\u001b[0m     \u001b[0mreplace_atom_neighbour\u001b[0m \u001b[0;34m=\u001b[0m \u001b[0mreplace_atom\u001b[0m\u001b[0;34m.\u001b[0m\u001b[0mGetNeighbors\u001b[0m\u001b[0;34m(\u001b[0m\u001b[0;34m)\u001b[0m\u001b[0;34m[\u001b[0m\u001b[0;36m0\u001b[0m\u001b[0;34m]\u001b[0m\u001b[0;34m\u001b[0m\u001b[0;34m\u001b[0m\u001b[0m\n",
      "\u001b[0;31mRuntimeError\u001b[0m: Range Error\n\tidx\n\tViolation occurred on line 198 in file Code/GraphMol/ROMol.cpp\n\tFailed Expression: 72 < 32\n\tRDKIT: 2021.03.5\n\tBOOST: 1_74\n"
     ]
    }
   ],
   "source": [
    "mol = merge_R_group(init_mol, R_group, 72)\n",
    "draw3D(mol)"
   ]
  },
  {
   "cell_type": "code",
   "execution_count": null,
   "id": "b2feb2e4",
   "metadata": {},
   "outputs": [],
   "source": [
    "Draw.MolToImage(rep2D(mol, idx=False))"
   ]
  },
  {
   "cell_type": "code",
   "execution_count": null,
   "id": "d2157cfd",
   "metadata": {},
   "outputs": [],
   "source": [
    "toxicity = tox_props(mol)\n",
    "toxicity"
   ]
  },
  {
   "cell_type": "code",
   "execution_count": null,
   "id": "06e24330",
   "metadata": {},
   "outputs": [],
   "source": [
    "# visualise the template\n",
    "draw3D(mol.template)"
   ]
  },
  {
   "cell_type": "code",
   "execution_count": null,
   "id": "715ab18f",
   "metadata": {},
   "outputs": [],
   "source": [
    "draw3D(mol)"
   ]
  },
  {
   "cell_type": "code",
   "execution_count": null,
   "id": "914c8f0b",
   "metadata": {},
   "outputs": [],
   "source": [
    "cons = generate_conformers(mol, mol.template, num_conf=20, minimum_conf_rms=0.5)"
   ]
  },
  {
   "cell_type": "code",
   "execution_count": null,
   "id": "46e94408",
   "metadata": {
    "scrolled": true
   },
   "outputs": [],
   "source": [
    "draw3Dcons(cons)"
   ]
  },
  {
   "cell_type": "code",
   "execution_count": null,
   "id": "2242ffce",
   "metadata": {},
   "outputs": [],
   "source": [
    "cons.GetNumConformers()"
   ]
  }
 ],
 "metadata": {
  "kernelspec": {
   "display_name": "Python 3",
   "language": "python",
   "name": "python3"
  },
  "language_info": {
   "codemirror_mode": {
    "name": "ipython",
    "version": 3
   },
   "file_extension": ".py",
   "mimetype": "text/x-python",
   "name": "python",
   "nbconvert_exporter": "python",
   "pygments_lexer": "ipython3",
   "version": "3.8.0"
  }
 },
 "nbformat": 4,
 "nbformat_minor": 5
}
