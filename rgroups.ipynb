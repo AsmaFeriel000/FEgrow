{
 "cells": [
  {
   "cell_type": "code",
   "execution_count": null,
   "id": "db1bed79",
   "metadata": {},
   "outputs": [],
   "source": [
    "import copy\n",
    "\n",
    "import prody\n",
    "from rdkit import Chem\n",
    "from rdkit.Chem import Draw\n",
    "\n",
    "from rgroup import Rmol, build_molecules, fix_receptor, optimise_in_receptor, RGroups, sort_conformers"
   ]
  },
  {
   "cell_type": "code",
   "execution_count": null,
   "id": "ee131d9c",
   "metadata": {},
   "outputs": [],
   "source": [
    "# load the complex with the ligand\n",
    "sys = prody.parsePDB('5NEV.pdb1')\n",
    "rec = sys.select('not (nucleic or hetatm) and not water')\n",
    "mol = sys.select('resname 72L')\n",
    "\n",
    "prody.writePDB('rec.pdb', rec)\n",
    "# prody.writePDB('lig.pdb', mol)"
   ]
  },
  {
   "cell_type": "code",
   "execution_count": null,
   "id": "d53e1ba3",
   "metadata": {},
   "outputs": [],
   "source": [
    "!wget 'https://models.rcsb.org/v1/5nev/ligand?auth_seq_id=301&label_asym_id=E&encoding=sdf&filename=5nev_E_72L.sdf' -O lig.sdf\n",
    "!obabel lig.sdf -O ligh.sdf -h -p 7\n",
    "# ^manually modify the files if need be"
   ]
  },
  {
   "cell_type": "code",
   "execution_count": null,
   "id": "57003f89",
   "metadata": {},
   "outputs": [],
   "source": [
    "# load the ligand\n",
    "# rdkit doesn't do a good job with protonation, \n",
    "#init_mol = Chem.MolFromPDBFile('lig.pdb', removeHs=False)\n",
    "#init_mol = Chem.AddHs(init_mol, addCoords=True)\n",
    "\n",
    "init_mol = Chem.SDMolSupplier('ligh.sdf', removeHs=False)[0]\n",
    "\n",
    "# get the R group representation of the rdkit Mol\n",
    "rinit_mol = Rmol(init_mol)"
   ]
  },
  {
   "cell_type": "code",
   "execution_count": null,
   "id": "366221aa",
   "metadata": {},
   "outputs": [],
   "source": [
    "# select the atom to be replaced with the R group\n",
    "rinit_mol.rep2D(idx=True, size=(500, 500))"
   ]
  },
  {
   "cell_type": "code",
   "execution_count": null,
   "id": "466f9e22",
   "metadata": {},
   "outputs": [],
   "source": [
    "# look up r groups and select\n",
    "RGroups"
   ]
  },
  {
   "cell_type": "code",
   "execution_count": null,
   "id": "963982f8",
   "metadata": {},
   "outputs": [],
   "source": [
    "# build a list of molecules\n",
    "rmols = build_molecules(rinit_mol, [40], RGroups)"
   ]
  },
  {
   "cell_type": "code",
   "execution_count": null,
   "id": "e1b6d5e4",
   "metadata": {},
   "outputs": [],
   "source": [
    "rmols[0].rep3D()"
   ]
  },
  {
   "cell_type": "code",
   "execution_count": null,
   "id": "7f2c3b69",
   "metadata": {},
   "outputs": [],
   "source": [
    "Draw.MolsToGridImage([mol.rep2D(rdkit_mol=True) for mol in rmols], subImgSize=(400, 400))"
   ]
  },
  {
   "cell_type": "code",
   "execution_count": null,
   "id": "1e332fbf",
   "metadata": {},
   "outputs": [],
   "source": [
    "# take the first molecule\n",
    "rmol = rmols[0]\n",
    "rmol.rep2D()"
   ]
  },
  {
   "cell_type": "code",
   "execution_count": null,
   "id": "0d3e137a",
   "metadata": {},
   "outputs": [],
   "source": [
    "rmol.toxicity()"
   ]
  },
  {
   "cell_type": "code",
   "execution_count": null,
   "id": "6da54fd2",
   "metadata": {},
   "outputs": [],
   "source": [
    "rmol.rep3D()"
   ]
  },
  {
   "cell_type": "code",
   "execution_count": null,
   "id": "37109d7a",
   "metadata": {},
   "outputs": [],
   "source": [
    "rmol.generate_conformers(num_conf=20, \n",
    "                         minimum_conf_rms=0.5, \n",
    "                         flexible=[39, 18, 40, 16, 17, 19, 5, 6, 36, 2, 1, 33, 3, 4, 35, 34, 15, 38])"
   ]
  },
  {
   "cell_type": "code",
   "execution_count": null,
   "id": "e245d37c",
   "metadata": {
    "scrolled": true
   },
   "outputs": [],
   "source": [
    "rmol.rep3D(template=True)"
   ]
  },
  {
   "cell_type": "code",
   "execution_count": null,
   "id": "af2c164d",
   "metadata": {},
   "outputs": [],
   "source": [
    "rmol.GetNumConformers()"
   ]
  },
  {
   "cell_type": "code",
   "execution_count": null,
   "id": "09684057",
   "metadata": {},
   "outputs": [],
   "source": [
    "# fix the receptor file \n",
    "fix_receptor(\"rec.pdb\", \"rec_h.pdb\")\n",
    "# load back into prody\n",
    "rec_fix = prody.parsePDB(\"rec_h.pdb\")"
   ]
  },
  {
   "cell_type": "code",
   "execution_count": null,
   "id": "bf5e9990",
   "metadata": {},
   "outputs": [],
   "source": [
    "# filter by the protein clashes\n",
    "rmol.rep3D(prody=rec_fix)"
   ]
  },
  {
   "cell_type": "code",
   "execution_count": null,
   "id": "e21c2377",
   "metadata": {},
   "outputs": [],
   "source": [
    "rmol.removeConfsClashingWithProdyProt(rec_fix)"
   ]
  },
  {
   "cell_type": "code",
   "execution_count": null,
   "id": "10af935c",
   "metadata": {},
   "outputs": [],
   "source": [
    "rmol.rep3D(prody=rec_fix)"
   ]
  },
  {
   "cell_type": "code",
   "execution_count": null,
   "id": "69872c9b",
   "metadata": {},
   "outputs": [],
   "source": [
    "opt_mol, energies = optimise_in_receptor(\n",
    "     ligand=rmol, \n",
    "     receptor_file=\"rec_h.pdb\", \n",
    "     ligand_force_field=\"openff\", \n",
    "     use_ani=False,\n",
    "     sigma_scale_factor=0.8,\n",
    "     relative_permittivity=4\n",
    " )"
   ]
  },
  {
   "cell_type": "code",
   "execution_count": null,
   "id": "ff1e9893",
   "metadata": {},
   "outputs": [],
   "source": [
    "type(opt_mol)\n",
    "\n",
    "opt_mol.rep3D()"
   ]
  },
  {
   "cell_type": "code",
   "execution_count": null,
   "id": "91b67e01",
   "metadata": {},
   "outputs": [],
   "source": [
    "opt_mol.to_file(\"optimised_corrds.pdb\")"
   ]
  },
  {
   "cell_type": "code",
   "execution_count": null,
   "id": "5e4635b1",
   "metadata": {},
   "outputs": [],
   "source": [
    "print(energies)"
   ]
  },
  {
   "cell_type": "code",
   "execution_count": null,
   "id": "bf4a893f",
   "metadata": {},
   "outputs": [],
   "source": [
    "final_mol, final_energies = sort_conformers(ligand=opt_mol, energies=energies, energy_range=5)"
   ]
  },
  {
   "cell_type": "code",
   "execution_count": null,
   "id": "2b2ab342",
   "metadata": {},
   "outputs": [],
   "source": [
    "final_mol.to_file(\"best_conformers.pdb\")"
   ]
  },
  {
   "cell_type": "code",
   "execution_count": null,
   "id": "08cb54f4",
   "metadata": {},
   "outputs": [],
   "source": [
    "print(final_energies)"
   ]
  },
  {
   "cell_type": "code",
   "execution_count": null,
   "id": "21a1ed68",
   "metadata": {},
   "outputs": [],
   "source": []
  }
 ],
 "metadata": {
  "kernelspec": {
   "display_name": "Python 3",
   "language": "python",
   "name": "python3"
  },
  "language_info": {
   "codemirror_mode": {
    "name": "ipython",
    "version": 3
   },
   "file_extension": ".py",
   "mimetype": "text/x-python",
   "name": "python",
   "nbconvert_exporter": "python",
   "pygments_lexer": "ipython3",
   "version": "3.9.7"
  }
 },
 "nbformat": 4,
 "nbformat_minor": 5
}
