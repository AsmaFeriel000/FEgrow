{
 "cells": [
  {
   "cell_type": "markdown",
   "id": "a2a90d00",
   "metadata": {},
   "source": [
    "# Active Learning Driven Prioritisation of Compounds from On-Demand Libraries Targeting the SARS-CoV-2 Main Protease\n",
    "\n",
    "This tutorial demonstrates how to use FEgrow in combination with active learning to optimise the predicted pK of designed compounds against the main protease of SARS-CoV-2. See [our preprint](https://doi.org/10.26434/chemrxiv-2024-xczfb) for more details."
   ]
  },
  {
   "cell_type": "code",
   "execution_count": null,
   "id": "63456963",
   "metadata": {},
   "outputs": [],
   "source": [
    "import pandas as pd\n",
    "import prody\n",
    "from rdkit import Chem\n",
    "\n",
    "import fegrow\n",
    "from fegrow import ChemSpace\n",
    "from fegrow import RGroups, Linkers\n",
    "from fegrow.al import Model, Query\n",
    "\n",
    "rgroups = RGroups()\n",
    "linkers = Linkers()"
   ]
  },
  {
   "cell_type": "code",
   "execution_count": null,
   "id": "7a7f971e",
   "metadata": {},
   "outputs": [],
   "source": [
    "from dask.distributed import LocalCluster\n",
    "lc = LocalCluster(processes=True, n_workers=None, threads_per_worker=1)"
   ]
  },
  {
   "cell_type": "code",
   "execution_count": null,
   "id": "acbe060e",
   "metadata": {},
   "outputs": [],
   "source": [
    "# create the chemical space\n",
    "cs = ChemSpace(dask_cluster=lc)\n",
    "cs"
   ]
  },
  {
   "cell_type": "code",
   "execution_count": null,
   "id": "2b018517",
   "metadata": {},
   "outputs": [],
   "source": [
    "# turn on the caching in RAM (optional)\n",
    "cs.set_dask_caching()"
   ]
  },
  {
   "cell_type": "markdown",
   "id": "203c8028",
   "metadata": {},
   "source": [
    "Read in the protonated ligand core:"
   ]
  },
  {
   "cell_type": "code",
   "execution_count": null,
   "id": "4170f203",
   "metadata": {},
   "outputs": [],
   "source": [
    "init_mol = Chem.SDMolSupplier('sarscov2/5R83_core.sdf', removeHs=False)[0]\n",
    "\n",
    "# get the FEgrow representation of the rdkit Mol\n",
    "scaffold = fegrow.RMol(init_mol)"
   ]
  },
  {
   "cell_type": "code",
   "execution_count": null,
   "id": "f6045ea5",
   "metadata": {},
   "outputs": [],
   "source": [
    "scaffold.rep2D(idx=True, size=(500, 500))"
   ]
  },
  {
   "cell_type": "code",
   "execution_count": null,
   "id": "dc153403",
   "metadata": {},
   "outputs": [],
   "source": [
    "# specify the attachment point (in this case hydrogen atom number 6)\n",
    "attachmentid = 6\n",
    "\n",
    "scaffold.GetAtomWithIdx(attachmentid).SetAtomicNum(0)\n",
    "cs.add_scaffold(scaffold)"
   ]
  },
  {
   "cell_type": "code",
   "execution_count": null,
   "id": "79b92ce0",
   "metadata": {},
   "outputs": [],
   "source": [
    "cs"
   ]
  },
  {
   "cell_type": "code",
   "execution_count": null,
   "id": "af1c5f48",
   "metadata": {},
   "outputs": [],
   "source": [
    "# load the receptor structure\n",
    "sys = prody.parsePDB('sarscov2/5R83_final.pdb')\n",
    "\n",
    "# remove any unwanted molecules\n",
    "rec = sys.select('not (nucleic or hetatm or water)')\n",
    "\n",
    "# save the processed protein\n",
    "prody.writePDB('rec.pdb', rec)\n",
    "\n",
    "# fix the receptor file (missing residues, protonation, etc)\n",
    "fegrow.fix_receptor(\"rec.pdb\", \"rec_final.pdb\")\n",
    "\n",
    "cs.add_protein('rec_final.pdb')"
   ]
  },
  {
   "cell_type": "markdown",
   "id": "56efbd06",
   "metadata": {},
   "source": [
    "Build a chemical space to explore with active learning (this will take a few minutes). Here, we pick 50 of each of the most common linkers and R-groups, giving us 2500 molecules in total, but these can be increased:"
   ]
  },
  {
   "cell_type": "code",
   "execution_count": null,
   "id": "4d4bd1cf",
   "metadata": {},
   "outputs": [],
   "source": [
    "numlinkers = 50\n",
    "numrgroups = 50\n",
    "\n",
    "for i in range(numlinkers):\n",
    "    if i % 10 == 0:\n",
    "        print(i)\n",
    "    for j in range(numrgroups):\n",
    "        cs.add_rgroups(linkers.Mol[i], \n",
    "                       rgroups.Mol[j])"
   ]
  },
  {
   "cell_type": "code",
   "execution_count": null,
   "id": "814ec417",
   "metadata": {},
   "outputs": [],
   "source": [
    "# The chemical space now includes our 2500 small molecules:\n",
    "cs"
   ]
  },
  {
   "cell_type": "code",
   "execution_count": null,
   "id": "2a7cd851",
   "metadata": {},
   "outputs": [],
   "source": [
    "cs[0].rep2D()"
   ]
  },
  {
   "cell_type": "markdown",
   "id": "485e6833",
   "metadata": {},
   "source": [
    "The active learning model initially has no data, so the first 50 molecules are selected at random:"
   ]
  },
  {
   "cell_type": "code",
   "execution_count": null,
   "id": "0ab4fe54",
   "metadata": {},
   "outputs": [],
   "source": [
    "# Pick 50 random molecules\n",
    "random1 = cs.active_learning(50, first_random=True)"
   ]
  },
  {
   "cell_type": "code",
   "execution_count": null,
   "id": "065a37b9",
   "metadata": {},
   "outputs": [],
   "source": [
    "# now evaluate the first selection, note that dask is used to parallelise the calculation\n",
    "# molecules that cannot be built assigned a predicted affinity of 0\n",
    "random1_results = cs.evaluate(random1, num_conf=50, gnina_gpu=True, penalty=0.0, al_ignore_penalty=False)"
   ]
  },
  {
   "cell_type": "markdown",
   "id": "2368d0a8",
   "metadata": {},
   "source": [
    "Check the scores (in pK units), note that they were updated in the master dataframe too:"
   ]
  },
  {
   "cell_type": "code",
   "execution_count": null,
   "id": "c49c20b2",
   "metadata": {},
   "outputs": [],
   "source": [
    "random1_results"
   ]
  },
  {
   "cell_type": "code",
   "execution_count": null,
   "id": "5049fb31",
   "metadata": {},
   "outputs": [],
   "source": [
    "computed = cs.df[~cs.df.score.isna()]\n",
    "print('Computed cases in total: ', len(computed))"
   ]
  },
  {
   "cell_type": "markdown",
   "id": "f1ec3511",
   "metadata": {},
   "source": [
    "### Active learning cycles:\n",
    "\n",
    "In this example we use a Gaussian process model, with a UCB acquisition function"
   ]
  },
  {
   "cell_type": "code",
   "execution_count": null,
   "id": "f0783dc4",
   "metadata": {},
   "outputs": [],
   "source": [
    "# The query methods available in modAL.acquisition are made available, these include\n",
    "# Query.greedy(), \n",
    "# Query.PI(tradeoff=0) - highest probability of improvement\n",
    "# Query.EI(tradeoff=0) - highest expected improvement\n",
    "# Query.UCB(beta=1) - highest upper confidence bound (employes modAL.models.BayesianOptimizer)\n",
    "\n",
    "# Models include the scikit:\n",
    "# Model.linear()\n",
    "# Model.elastic_net()\n",
    "# Model.random_forest()\n",
    "# Model.gradient_boosting_regressor()\n",
    "# Model.mlp_regressor()\n",
    "\n",
    "# Model.gaussian_process()  # uses a TanimotoKernel by default, meaning that it\n",
    "#                           # compares the fingerprints of all the training dataset\n",
    "#                           # with the cases not yet studied, which can be expensive\n",
    "#                           # computationally\n",
    "\n",
    "cs.model = Model.gaussian_process()\n",
    "cs.query = Query.UCB(beta=1)"
   ]
  },
  {
   "cell_type": "markdown",
   "id": "31afbeeb",
   "metadata": {},
   "source": [
    "Perform 3 cycles of active learning, with 50 picks per cycle:"
   ]
  },
  {
   "cell_type": "code",
   "execution_count": null,
   "id": "f8917d92",
   "metadata": {},
   "outputs": [],
   "source": [
    "for cycle in range(3):\n",
    "    picks = cs.active_learning(50)\n",
    "    picks_results = cs.evaluate(picks, num_conf=50, gnina_gpu=True, penalty=0.0, al_ignore_penalty=False)\n",
    "    \n",
    "    # save the new results\n",
    "    picks_results.to_csv(f'notebook_iteration{cycle}_results.csv')"
   ]
  },
  {
   "cell_type": "markdown",
   "id": "da17bc6a",
   "metadata": {},
   "source": [
    "The chemical space has been updated with the scores of the built molecules. Also shown are the latest predicted scores given by the regression model."
   ]
  },
  {
   "cell_type": "code",
   "execution_count": null,
   "id": "6a854765",
   "metadata": {},
   "outputs": [],
   "source": [
    "# show chemical space\n",
    "cs"
   ]
  },
  {
   "cell_type": "markdown",
   "id": "dad04c07",
   "metadata": {},
   "source": [
    "If we like, we can finish with a greedy selection (ie picking the best binders as predicted by the regression model):"
   ]
  },
  {
   "cell_type": "code",
   "execution_count": null,
   "id": "0fb4196f",
   "metadata": {},
   "outputs": [],
   "source": [
    "cs.model = Model.gaussian_process()\n",
    "cs.query = Query.Greedy()\n",
    "\n",
    "picks = cs.active_learning(50)\n",
    "picks_results = cs.evaluate(picks, num_conf=50, gnina_gpu=True, penalty=0.0, al_ignore_penalty=False)\n",
    "\n",
    "# save the new results\n",
    "picks_results.to_csv('notebook_greedy_results.csv')"
   ]
  },
  {
   "cell_type": "code",
   "execution_count": null,
   "id": "4802e9f4",
   "metadata": {},
   "outputs": [],
   "source": []
  },
  {
   "cell_type": "markdown",
   "id": "ce69ba8c",
   "metadata": {},
   "source": [
    "Write out the chemical space and top scoring structures:"
   ]
  },
  {
   "cell_type": "code",
   "execution_count": null,
   "id": "b2499db3",
   "metadata": {},
   "outputs": [],
   "source": [
    "# save the chemical space of built molecules:\n",
    "\n",
    "failed=False\n",
    "unbuilt=False\n",
    "\n",
    "with Chem.SDWriter('notebook_chemspace.sdf') as SD:\n",
    "    columns = cs.df.columns.to_list()\n",
    "    columns.remove(\"Mol\")\n",
    "\n",
    "    for i, row in cs.df.iterrows():\n",
    "\n",
    "    # ignore this molecule because it failed during the build\n",
    "        if failed is False and row.Success is False:\n",
    "            continue\n",
    "\n",
    "    # ignore this molecule because it was not built yet\n",
    "        if unbuilt is False and row.Success != True:\n",
    "            continue\n",
    "\n",
    "        mol = row.Mol\n",
    "        mol.SetIntProp(\"index\", i)\n",
    "        for column in columns:\n",
    "            value = getattr(row, column)\n",
    "            mol.SetProp(column, str(value))\n",
    "\n",
    "        mol.ClearProp(\"attachement_point\")\n",
    "        SD.write(mol)"
   ]
  },
  {
   "cell_type": "code",
   "execution_count": null,
   "id": "67c0fee6",
   "metadata": {},
   "outputs": [],
   "source": [
    "# save the structures of the top 10 molecules in ranked order as a sdf file:\n",
    "molecules = []\n",
    "input_sdf = 'notebook_chemspace.sdf'\n",
    "best_n = 10\n",
    "\n",
    "with Chem.SDMolSupplier(input_sdf) as SDF:\n",
    "    # for each mol\n",
    "    for mol in SDF:\n",
    "        if mol is None:\n",
    "            continue\n",
    "        if mol.GetPropsAsDict()['Success'] == 'True':\n",
    "            molecules.append(mol)\n",
    "\n",
    "# sort by the key\n",
    "sorted_molecules = sorted(molecules, key=lambda m: m.GetPropsAsDict()['score'], reverse=True)\n",
    "\n",
    "with Chem.SDWriter(f\"top_{best_n:d}_{input_sdf}\") as SDF_OUT:\n",
    "    for i, mol in enumerate(sorted_molecules):\n",
    "        if i == best_n:\n",
    "            break\n",
    "\n",
    "        SDF_OUT.write(mol)\n",
    "\n",
    "print('Done')"
   ]
  },
  {
   "cell_type": "markdown",
   "id": "9380b61d",
   "metadata": {},
   "source": [
    "Note that the options in this tutorial are set to give a fast run time. For full scale simulations, the number of active learning cycles, the size of the chemical space and number of compounds picked per cycle can all be increased."
   ]
  },
  {
   "cell_type": "code",
   "execution_count": null,
   "id": "efbee512",
   "metadata": {},
   "outputs": [],
   "source": []
  }
 ],
 "metadata": {
  "kernelspec": {
   "display_name": "freshfeg",
   "language": "python",
   "name": "freshfeg"
  },
  "language_info": {
   "codemirror_mode": {
    "name": "ipython",
    "version": 3
   },
   "file_extension": ".py",
   "mimetype": "text/x-python",
   "name": "python",
   "nbconvert_exporter": "python",
   "pygments_lexer": "ipython3",
   "version": "3.10.14"
  }
 },
 "nbformat": 4,
 "nbformat_minor": 5
}
